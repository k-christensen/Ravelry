{
 "nbformat": 4,
 "nbformat_minor": 2,
 "metadata": {
  "language_info": {
   "name": "python",
   "codemirror_mode": {
    "name": "ipython",
    "version": 3
   },
   "version": "3.7.3-final"
  },
  "orig_nbformat": 2,
  "file_extension": ".py",
  "mimetype": "text/x-python",
  "name": "python",
  "npconvert_exporter": "python",
  "pygments_lexer": "ipython3",
  "version": 3,
  "kernelspec": {
   "name": "python37364bitbasecondacc7d9abba0074d939f383a6180d18325",
   "display_name": "Python 3.7.3 64-bit ('base': conda)"
  }
 },
 "cells": [
  {
   "cell_type": "code",
   "execution_count": 1,
   "metadata": {},
   "outputs": [],
   "source": [
    "import requests\n",
    "import time\n",
    "import pandas as pd\n",
    "import numpy as np\n",
    "import re\n",
    "import json\n",
    "import pdb\n",
    "from bs4 import BeautifulSoup\n",
    "import personal_keys\n",
    "import ravelry_request_functions as rav"
   ]
  },
  {
   "cell_type": "code",
   "execution_count": 2,
   "metadata": {},
   "outputs": [],
   "source": [
    "search_url = 'https://api.ravelry.com/patterns/search.json?query=cowl'\n",
    "search = requests.get(search_url, auth = (personal_keys.username(),personal_keys.password()))"
   ]
  },
  {
   "cell_type": "code",
   "execution_count": 5,
   "metadata": {},
   "outputs": [],
   "source": [
    "s_json = search.json()"
   ]
  },
  {
   "cell_type": "code",
   "execution_count": 6,
   "metadata": {},
   "outputs": [
    {
     "data": {
      "text/plain": "dict_keys(['patterns', 'paginator'])"
     },
     "execution_count": 6,
     "metadata": {},
     "output_type": "execute_result"
    }
   ],
   "source": [
    "s_json.keys()"
   ]
  },
  {
   "cell_type": "code",
   "execution_count": 16,
   "metadata": {},
   "outputs": [
    {
     "data": {
      "text/plain": "100"
     },
     "execution_count": 16,
     "metadata": {},
     "output_type": "execute_result"
    }
   ],
   "source": [
    "len(s_json['patterns'])"
   ]
  },
  {
   "cell_type": "code",
   "execution_count": 17,
   "metadata": {},
   "outputs": [],
   "source": [
    "p_list = s_json['patterns']"
   ]
  },
  {
   "cell_type": "code",
   "execution_count": 19,
   "metadata": {},
   "outputs": [
    {
     "data": {
      "text/plain": "[819716,\n 548384,\n 942286,\n 713248,\n 169260,\n 273024,\n 984809,\n 676427,\n 937706,\n 993855,\n 1012211,\n 823822,\n 795017,\n 544760,\n 969514,\n 777599,\n 662003,\n 863981,\n 906575,\n 973717,\n 886206,\n 694874,\n 874903,\n 896925,\n 904113,\n 1004111,\n 883597,\n 904306,\n 984696,\n 889787,\n 274180,\n 912668,\n 685878,\n 921988,\n 770185,\n 887099,\n 650875,\n 694868,\n 349190,\n 579409,\n 605255,\n 687513,\n 788341,\n 831347,\n 915757,\n 919337,\n 1004479,\n 541942,\n 748054,\n 805682,\n 892627,\n 893452,\n 95665,\n 183419,\n 220382,\n 428305,\n 474831,\n 539629,\n 801782,\n 805442,\n 921551,\n 201783,\n 362254,\n 448414,\n 453083,\n 572838,\n 665933,\n 675505,\n 681116,\n 694878,\n 705730,\n 776036,\n 829760,\n 890079,\n 958426,\n 111995,\n 196171,\n 287966,\n 337942,\n 341417,\n 359051,\n 433300,\n 506171,\n 536882,\n 576963,\n 580927,\n 618829,\n 622093,\n 628358,\n 645431,\n 686282,\n 687662,\n 709870,\n 720587,\n 797319,\n 802312,\n 811205,\n 821348,\n 831200,\n 877277]"
     },
     "execution_count": 19,
     "metadata": {},
     "output_type": "execute_result"
    }
   ],
   "source": [
    "[p_list[ind]['id'] for ind in list(range(0,len(p_list)))]"
   ]
  },
  {
   "cell_type": "code",
   "execution_count": 20,
   "metadata": {},
   "outputs": [],
   "source": [
    "def search(term):\n",
    "    search_url = 'https://api.ravelry.com/patterns/search.json?query={}'.format(term)\n",
    "    search = requests.get(search_url, auth = (personal_keys.username(),personal_keys.password()))\n",
    "    s_json = search.json()\n",
    "    p_list = s_json['patterns']\n",
    "    return [p_list[ind]['id'] for ind in list(range(0,len(p_list)))]\n",
    "\n"
   ]
  },
  {
   "cell_type": "code",
   "execution_count": 21,
   "metadata": {},
   "outputs": [
    {
     "data": {
      "text/plain": "[1012013,\n 1011965,\n 910492,\n 927223,\n 710742,\n 788421,\n 709323,\n 944225,\n 1012205,\n 888409,\n 754478,\n 1012433,\n 443533,\n 778932,\n 1011536,\n 1012444,\n 632425,\n 927665,\n 790875,\n 773775,\n 881730,\n 719901,\n 887770,\n 873567,\n 963082,\n 879410,\n 18401,\n 535773,\n 76820,\n 766664,\n 119643,\n 248939,\n 138318,\n 456930,\n 572077,\n 629715,\n 689841,\n 818781,\n 856129,\n 959678,\n 34574,\n 62085,\n 68220,\n 146974,\n 195406,\n 270727,\n 316919,\n 400080,\n 436055,\n 507256,\n 556651,\n 606870,\n 616578,\n 616981,\n 639531,\n 732165,\n 735615,\n 807910,\n 813756,\n 818750,\n 818770,\n 830543,\n 841933,\n 869345,\n 876669,\n 877325,\n 880772,\n 884313,\n 887810,\n 891118,\n 908191,\n 909747,\n 916181,\n 933083,\n 933413,\n 963708,\n 978847,\n 995773,\n 6098,\n 17395,\n 18078,\n 22210,\n 32161,\n 52785,\n 55616,\n 66192,\n 81929,\n 83853,\n 136991,\n 153466,\n 160159,\n 162137,\n 164389,\n 168969,\n 168973,\n 168975,\n 179026,\n 190756,\n 201149,\n 252055]"
     },
     "execution_count": 21,
     "metadata": {},
     "output_type": "execute_result"
    }
   ],
   "source": [
    "search('sweater')"
   ]
  },
  {
   "cell_type": "code",
   "execution_count": null,
   "metadata": {},
   "outputs": [],
   "source": []
  }
 ]
}