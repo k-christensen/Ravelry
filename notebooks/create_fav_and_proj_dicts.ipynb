{
 "nbformat": 4,
 "nbformat_minor": 2,
 "metadata": {
  "language_info": {
   "name": "python",
   "codemirror_mode": {
    "name": "ipython",
    "version": 3
   },
   "version": "3.7.3-final"
  },
  "orig_nbformat": 2,
  "file_extension": ".py",
  "mimetype": "text/x-python",
  "name": "python",
  "npconvert_exporter": "python",
  "pygments_lexer": "ipython3",
  "version": 3,
  "kernelspec": {
   "name": "python37364bitbasecondacc7d9abba0074d939f383a6180d18325",
   "display_name": "Python 3.7.3 64-bit ('base': conda)"
  }
 },
 "cells": [
  {
   "cell_type": "code",
   "execution_count": 6,
   "metadata": {},
   "outputs": [],
   "source": [
    "import requests\n",
    "import time\n",
    "import pandas as pd\n",
    "import numpy as np\n",
    "import re\n",
    "import json\n",
    "import pdb\n",
    "from bs4 import BeautifulSoup\n",
    "import python_functions.personal_keys as pk\n",
    "from python_functions.fav_funcs import *\n",
    "from python_functions.proj_funcs import *\n",
    "from python_functions.pattern_attr_funcs import *"
   ]
  },
  {
   "cell_type": "code",
   "execution_count": 59,
   "metadata": {},
   "outputs": [],
   "source": [
    "attr_url = 'https://api.ravelry.com/pattern_attributes/groups.json'\n",
    "attr = requests.get(attr_url, \n",
    "                        auth = (pk.username(),pk.password()))\n",
    "attr_json = attr.json()"
   ]
  },
  {
   "cell_type": "code",
   "execution_count": 60,
   "metadata": {},
   "outputs": [
    {
     "output_type": "execute_result",
     "data": {
      "text/plain": "dict_keys(['attribute_groups'])"
     },
     "metadata": {},
     "execution_count": 60
    }
   ],
   "source": [
    "attr_json.keys()"
   ]
  },
  {
   "cell_type": "code",
   "execution_count": 26,
   "metadata": {},
   "outputs": [],
   "source": [
    "attr_groups = attr_json['attribute_groups']"
   ]
  },
  {
   "cell_type": "code",
   "execution_count": 27,
   "metadata": {},
   "outputs": [
    {
     "output_type": "execute_result",
     "data": {
      "text/plain": "list"
     },
     "metadata": {},
     "execution_count": 27
    }
   ],
   "source": [
    "type(attr_groups)"
   ]
  },
  {
   "cell_type": "code",
   "execution_count": 28,
   "metadata": {},
   "outputs": [
    {
     "output_type": "execute_result",
     "data": {
      "text/plain": "12"
     },
     "metadata": {},
     "execution_count": 28
    }
   ],
   "source": [
    "len(attr_groups)"
   ]
  },
  {
   "cell_type": "markdown",
   "metadata": {},
   "source": [
    "12 attribute groups, 11 are the attributes on the sidebar on the search page, but second item in the attribute groups is age/size/fit, which is its own category on the search page"
   ]
  },
  {
   "cell_type": "code",
   "execution_count": 36,
   "metadata": {},
   "outputs": [
    {
     "output_type": "execute_result",
     "data": {
      "text/plain": "dict_keys(['id', 'name', 'permalink', 'children', 'pattern_attributes'])"
     },
     "metadata": {},
     "execution_count": 36
    }
   ],
   "source": [
    "attr_groups[1].keys()"
   ]
  },
  {
   "cell_type": "code",
   "execution_count": 3,
   "metadata": {},
   "outputs": [],
   "source": [
    "kate_proj_list = get_project_list(\"katec125\")"
   ]
  },
  {
   "cell_type": "code",
   "execution_count": 4,
   "metadata": {},
   "outputs": [
    {
     "output_type": "execute_result",
     "data": {
      "text/plain": "20"
     },
     "metadata": {},
     "execution_count": 4
    }
   ],
   "source": [
    "len(kate_proj_list)"
   ]
  },
  {
   "cell_type": "code",
   "execution_count": 9,
   "metadata": {},
   "outputs": [],
   "source": [
    "kate_proj_list_str = [str(item) for item in kate_proj_list]"
   ]
  },
  {
   "cell_type": "code",
   "execution_count": 12,
   "metadata": {},
   "outputs": [],
   "source": [
    "json_mult_pattern = multiple_pattern_request(kate_proj_list_str)"
   ]
  },
  {
   "cell_type": "code",
   "execution_count": 13,
   "metadata": {},
   "outputs": [
    {
     "output_type": "execute_result",
     "data": {
      "text/plain": "dict_keys(['patterns'])"
     },
     "metadata": {},
     "execution_count": 13
    }
   ],
   "source": [
    "json_mult_pattern.keys()"
   ]
  },
  {
   "cell_type": "code",
   "execution_count": 21,
   "metadata": {},
   "outputs": [
    {
     "output_type": "execute_result",
     "data": {
      "text/plain": "['comments_count',\n 'created_at',\n 'currency',\n 'difficulty_average',\n 'difficulty_count',\n 'downloadable',\n 'favorites_count',\n 'free',\n 'gauge',\n 'gauge_divisor',\n 'gauge_pattern',\n 'generally_available',\n 'id',\n 'name',\n 'pdf_url',\n 'permalink',\n 'price',\n 'projects_count',\n 'published',\n 'queued_projects_count',\n 'rating_average',\n 'rating_count',\n 'row_gauge',\n 'updated_at',\n 'url',\n 'yardage',\n 'yardage_max',\n 'personal_attributes',\n 'sizes_available',\n 'product_id',\n 'currency_symbol',\n 'ravelry_download',\n 'download_location',\n 'pdf_in_library',\n 'volumes_in_library',\n 'gauge_description',\n 'yarn_weight_description',\n 'yardage_description',\n 'pattern_needle_sizes',\n 'notes_html',\n 'notes',\n 'packs',\n 'printings',\n 'yarn_weight',\n 'craft',\n 'pattern_categories',\n 'pattern_attributes',\n 'pattern_author',\n 'photos',\n 'pattern_type']"
     },
     "metadata": {},
     "execution_count": 21
    }
   ],
   "source": [
    "list(json_mult_pattern['patterns']['91776'].keys())"
   ]
  },
  {
   "cell_type": "code",
   "execution_count": null,
   "metadata": {},
   "outputs": [],
   "source": []
  },
  {
   "cell_type": "code",
   "execution_count": 17,
   "metadata": {},
   "outputs": [
    {
     "output_type": "execute_result",
     "data": {
      "text/plain": "['669230',\n '118820',\n '490330',\n '103767',\n '91776',\n '216824',\n '990541',\n '582245',\n '921518',\n '497647',\n '828182',\n '833778',\n '807214',\n '497856',\n '617705',\n '722427',\n '669230',\n '714457',\n '676427',\n '226669']"
     },
     "metadata": {},
     "execution_count": 17
    }
   ],
   "source": [
    "kate_proj_list_str"
   ]
  },
  {
   "cell_type": "code",
   "execution_count": 19,
   "metadata": {},
   "outputs": [],
   "source": [
    "with open('example_output.json', 'w') as json_file:\n",
    "    json.dump(json_mult_pattern, json_file)"
   ]
  },
  {
   "cell_type": "code",
   "execution_count": 55,
   "metadata": {},
   "outputs": [
    {
     "output_type": "execute_result",
     "data": {
      "text/plain": "[{'crochet_gauge': '',\n  'id': 1,\n  'knit_gauge': '18',\n  'max_gauge': None,\n  'min_gauge': None,\n  'name': 'Aran',\n  'ply': '10',\n  'wpi': '8'},\n {'crochet_gauge': '',\n  'id': 4,\n  'knit_gauge': '14-15',\n  'max_gauge': None,\n  'min_gauge': None,\n  'name': 'Bulky',\n  'ply': '12',\n  'wpi': '7'},\n {'crochet_gauge': '',\n  'id': 5,\n  'knit_gauge': '28',\n  'max_gauge': None,\n  'min_gauge': None,\n  'name': 'Fingering',\n  'ply': '4',\n  'wpi': '14'},\n {'crochet_gauge': '',\n  'id': 6,\n  'knit_gauge': '7-12',\n  'max_gauge': None,\n  'min_gauge': None,\n  'name': 'Super Bulky',\n  'ply': None,\n  'wpi': '5-6'},\n {'crochet_gauge': '',\n  'id': 7,\n  'knit_gauge': '32-34',\n  'max_gauge': None,\n  'min_gauge': None,\n  'name': 'Lace',\n  'ply': '2',\n  'wpi': None},\n {'crochet_gauge': None,\n  'id': 8,\n  'knit_gauge': None,\n  'max_gauge': None,\n  'min_gauge': None,\n  'name': 'Cobweb',\n  'ply': '1',\n  'wpi': None},\n {'crochet_gauge': None,\n  'id': 9,\n  'knit_gauge': None,\n  'max_gauge': None,\n  'min_gauge': None,\n  'name': 'Thread',\n  'ply': None,\n  'wpi': None},\n {'crochet_gauge': None,\n  'id': 10,\n  'knit_gauge': '24-26',\n  'max_gauge': None,\n  'min_gauge': None,\n  'name': 'Sport',\n  'ply': '5',\n  'wpi': '12'},\n {'crochet_gauge': None,\n  'id': 11,\n  'knit_gauge': '22',\n  'max_gauge': None,\n  'min_gauge': None,\n  'name': 'DK',\n  'ply': '8',\n  'wpi': '11'},\n {'crochet_gauge': None,\n  'id': 12,\n  'knit_gauge': '20',\n  'max_gauge': None,\n  'min_gauge': None,\n  'name': 'Worsted',\n  'ply': '10',\n  'wpi': '9'},\n {'crochet_gauge': None,\n  'id': 13,\n  'knit_gauge': '32',\n  'max_gauge': None,\n  'min_gauge': None,\n  'name': 'Light Fingering',\n  'ply': '3',\n  'wpi': None},\n {'crochet_gauge': None,\n  'id': 15,\n  'knit_gauge': None,\n  'max_gauge': None,\n  'min_gauge': None,\n  'name': 'Any gauge',\n  'ply': None,\n  'wpi': None},\n {'crochet_gauge': None,\n  'id': 16,\n  'knit_gauge': '0-6',\n  'max_gauge': None,\n  'min_gauge': None,\n  'name': 'Jumbo',\n  'ply': None,\n  'wpi': '0-4'}]"
     },
     "metadata": {},
     "execution_count": 55
    }
   ],
   "source": [
    "yarn_attr_json['yarn_weights']"
   ]
  },
  {
   "cell_type": "code",
   "execution_count": 63,
   "metadata": {},
   "outputs": [],
   "source": [
    "pattern_cats_url = 'https://api.ravelry.com/pattern_categories/list.json'\n",
    "pattern_cats = requests.get(pattern_cats_url, \n",
    "                        auth = (pk.username(),pk.password()))\n",
    "pattern_cats_json = pattern_cats.json()"
   ]
  },
  {
   "cell_type": "code",
   "execution_count": 74,
   "metadata": {},
   "outputs": [
    {
     "output_type": "execute_result",
     "data": {
      "text/plain": "  'long_name': 'Bag',\n     'name': 'Bag',\n     'permalink': 'bag',\n     'children': [{'id': 373,\n       'long_name': 'Clutch',\n       'name': 'Clutch',\n       'permalink': 'clutch',\n       'children': []},\n      {'id': 374,\n       'long_name': 'Tote',\n       'name': 'Tote',\n       'permalink': 'tote',\n       'children': []},\n      {'id': 375,\n       'long_name': 'Purse / Handbag',\n       'name': 'Purse / Handbag',\n       'permalink': 'purse',\n       'children': []},\n      {'id': 376,\n       'long_name': 'Wristlet',\n       'name': 'Wristlet',\n       'permalink': 'wristlet',\n       'children': []},\n      {'id': 377,\n       'long_name': 'Market bag (slouchy)',\n       'name': 'Market bag (slouchy)',\n       'permalink': 'market',\n       'children': []},\n      {'id': 378,\n       'long_name': 'Laptop',\n       'name': 'Laptop',\n       'permalink': 'laptop',\n       'children': []},\n      {'id': 380,\n       'long_name': 'Messenger Bag',\n       'name': 'Messenger',\n       'permalink': 'messenger',\n       'children': []},\n      {'id': 382,\n       'long_name': 'Backpack',\n       'name': 'Backpack',\n       'permalink': 'backpack',\n       'children': []},\n      {'id': 385,\n       'long_name': 'Drawstring Bag',\n       'name': 'Drawstring',\n       'permalink': 'drawstring',\n       'children': []},\n      {'id': 386,\n       'long_name': 'Duffle Bag',\n       'name': 'Duffle',\n       'permalink': 'duffle',\n       'children': []},\n      {'id': 387,\n       'long_name': 'Money Purse',\n       'name': 'Money',\n       'permalink': 'money',\n       'children': []},\n      {'id': 888,\n       'long_name': 'Bag - Other',\n       'name': 'Other',\n       'permalink': 'other-bag',\n       'children': []}]},\n    {'id': 390,\n     'long_name': 'Hands',\n     'name': 'Hands',\n     'permalink': 'hands',\n     'children': [{'id': 391,\n       'long_name': 'Mittens',\n       'name': 'Mittens',\n       'permalink': 'mittens',\n       'children': []},\n      {'id': 394,\n       'long_name': 'Gloves',\n       'name': 'Gloves',\n       'permalink': 'gloves',\n       'children': []},\n      {'id': 395,\n       'long_name': 'Fingerless Gloves',\n       'name': 'Fingerless Gloves/Mitts',\n       'permalink': 'fingerless',\n       'children': []},\n      {'id': 398,\n       'long_name': 'Convertible Gloves',\n       'name': 'Convertible',\n       'permalink': 'convertible',\n       'children': []},\n      {'id': 399,\n       'long_name': 'Cuffs',\n       'name': 'Cuffs',\n       'permalink': 'cuffs',\n       'children': []},\n      {'id': 400,\n       'long_name': 'Muff',\n       'name': 'Muff',\n       'permalink': 'muff',\n       'children': []},\n      {'id': 891,\n       'long_name': 'Hands - Other',\n       'name': 'Other',\n       'permalink': 'other-hands',\n       'children': []}]},\n    {'id': 401,\n     'long_name': 'Headwear',\n     'name': 'Other Headwear',\n     'permalink': 'headwear',\n     'children': [{'id': 402,\n       'long_name': 'Hair accessories',\n       'name': 'Hair accessories',\n       'permalink': 'hairaccessories',\n       'children': []},\n      {'id': 403,\n       'long_name': 'Headband',\n       'name': 'Headband',\n       'permalink': 'headband',\n       'children': []},\n      {'id': 405,\n       'long_name': 'Snood',\n       'name': 'Snood',\n       'permalink': 'snood',\n       'children': []},\n      {'id': 408,\n       'long_name': 'Headwrap',\n       'name': 'Headwrap',\n       'permalink': 'headwrap',\n       'children': []},\n      {'id': 409,\n       'long_name': 'Earwarmers',\n       'name': 'Earwarmers',\n       'permalink': 'earwarmers',\n       'children': []},\n      {'id': 410,\n       'long_name': 'Eye mask',\n       'name': 'Eye mask',\n       'permalink': 'eyemask',\n       'children': []},\n      {'id': 887,\n       'long_name': 'Kerchief',\n       'name': 'Kerchief',\n       'permalink': 'kerchief',\n       'children': []},\n      {'id': 892,\n       'long_name': 'Headwear - Other',\n       'name': 'Other',\n       'permalink': 'other-headwear',\n       'children': []}]},\n    {'id': 411,\n     'long_name': 'Hat',\n     'name': 'Hat',\n     'permalink': 'hat',\n     'children': [{'id': 412,\n       'long_name': 'Beret, Tam',\n       'name': 'Beret, Tam',\n       'permalink': 'beret-tam',\n       'children': []},\n      {'id': 413,\n       'long_name': 'Beanie, Toque',\n       'name': 'Beanie, Toque',\n       'permalink': 'beanie-toque',\n       'children': []},\n      {'id': 414,\n       'long_name': 'Bonnet',\n       'name': 'Bonnet',\n       'permalink': 'bonnet',\n       'children': []},\n      {'id': 415,\n       'long_name': 'Brimmed Hat',\n       'name': 'Brimmed',\n       'permalink': 'brimmed',\n       'children': []},\n      {'id': 416,\n       'long_name': 'Billed Hat',\n       'name': 'Billed',\n       'permalink': 'billed',\n       'children': []},\n      {'id': 417,\n       'long_name': 'Cloche Hat',\n       'name': 'Cloche',\n       'permalink': 'cloche',\n       'children': []},\n      {'id': 418,\n       'long_name': 'Balaclava',\n       'name': 'Balaclava',\n       'permalink': 'balaclava',\n       'children': []},\n      {'id': 419,\n       'long_name': 'Earflap Hat',\n       'name': 'Earflap',\n       'permalink': 'earflap',\n       'children': []},\n      {'id': 420,\n       'long_name': 'Pixie Hat',\n       'name': 'Pixie',\n       'permalink': 'pixie',\n       'children': []},\n      {'id': 422,\n       'long_name': 'Stocking',\n       'name': 'Stocking',\n       'permalink': 'stocking',\n       'children': []},\n      {'id': 423,\n       'long_name': 'Yarmulke',\n       'name': 'Yarmulke',\n       'permalink': 'yarmulke',\n       'children': []},\n      {'id': 915,\n       'long_name': 'Hats - Other',\n       'name': 'Other',\n       'permalink': 'other-hat',\n       'children': []}]},\n    {'id': 427,\n     'long_name': 'Jewelry',\n     'name': 'Jewelry',\n     'permalink': 'jewelry',\n     'children': [{'id': 428,\n       'long_name': 'Earrings',\n       'name': 'Earrings',\n       'permalink': 'earrings',\n       'children': []},\n      {'id': 429,\n       'long_name': 'Necklace',\n       'name': 'Necklace',\n       'permalink': 'necklace',\n       'children': []},\n      {'id': 430,\n       'long_name': 'Bracelet',\n       'name': 'Bracelet',\n       'permalink': 'bracelet',\n       'children': []},\n      {'id': 431,\n       'long_name': 'Brooch',\n       'name': 'Brooch',\n       'permalink': 'brooch',\n       'children': []},\n      {'id': 432,\n       'long_name': 'Ring',\n       'name': 'Ring',\n       'permalink': 'ring',\n       'children': []},\n      {'id': 433,\n       'long_name': 'Anklet',\n       'name': 'Ankle',\n       'permalink': 'ankle',\n       'children': []},\n      {'id': 893,\n       'long_name': 'Jewelry - Other',\n       'name': 'Other',\n       'permalink': 'other-jewelry',\n       'children': []}]},\n    {'id': 895,\n     'long_name': 'Accessories - Other',\n     'name': 'Other',\n     'permalink': 'other-accessories',\n     'children': []}]},\n  {'id': 440,\n   'long_name': 'Medical',\n   'name': 'Medical',\n   'permalink': 'medical',\n   'children': []},\n  {'id': 449,\n   'long_name': 'Home',\n   'name': 'Home',\n   'permalink': 'home',\n   'children': [{'id': 450,\n     'long_name': 'Blanket',\n     'name': 'Blanket',\n     'permalink': 'blanket',\n     'children': [{'id': 451,\n       'long_name': 'Throw',\n       'name': 'Throw',\n       'permalink': 'throw',\n       'children': []},\n      {'id': 452,\n       'long_name': 'Bedspread',\n       'name': 'Bedspread',\n       'permalink': 'bedspread',\n       'children': []},\n      {'id': 886,\n       'long_name': 'Baby Blanket',\n       'name': 'Baby Blanket',\n       'permalink': 'babyblanket',\n       'children': []},\n      {'id': 899,\n       'long_name': 'Blanket - Other',\n       'name': 'Other',\n       'permalink': 'other-blanket',\n       'children': []}]},\n    {'id': 453,\n     'long_name': 'Pillow / Cushion',\n     'name': 'Pillow',\n     'permalink': 'pillow',\n     'children': []},\n    {'id': 455,\n     'long_name': 'Table Setting',\n     'name': 'Table Setting',\n     'permalink': 'tablesetting',\n     'children': [{'id': 456,\n       'long_name': 'Table Runner',\n       'name': 'Table Runner',\n       'permalink': 'tablerunner',\n       'children': []},\n      {'id': 457,\n       'long_name': 'Tablecloth',\n       'name': 'Tablecloth',\n       'permalink': 'tablecloth',\n       'children': []},\n      {'id': 458,\n       'long_name': 'Napkin',\n       'name': 'Napkin',\n       'permalink': 'napkin',\n       'children': []},\n      {'id': 460,\n       'long_name': 'Placemat',\n       'name': 'Placemat',\n       'permalink': 'placemat',\n       'children': []},\n      {'id': 903,\n       'long_name': 'Table Setting - Other',\n       'name': 'Other',\n       'permalink': 'other-tablesetting',\n       'children': []}]},\n    {'id': 461,\n     'long_name': 'Curtain',\n     'name': 'Curtain',\n     'permalink': 'curtain',\n     'children': []},\n    {'id': 468,\n     'long_name': 'Coaster',\n     'name': 'Coaster',\n     'permalink': 'coaster',\n     'children': []},\n    {'id': 470,\n     'long_name': 'Containers',\n     'name': 'Containers',\n     'permalink': 'containers',\n     'children': []},\n    {'id': 474,\n     'long_name': 'Sachet',\n     'name': 'Sachet',\n     'permalink': 'sachet',\n     'children': []},\n    {'id': 475,\n     'long_name': 'Potholder',\n     'name': 'Potholder',\n     'permalink': 'potholder',\n     'children': []},\n    {'id': 476,\n     'long_name': 'Rug',\n     'name': 'Rug',\n     'permalink': 'rug',\n     'children': []},\n    {'id': 480,\n     'long_name': 'Lampshade',\n     'name': 'Lampshade',\n     'permalink': 'lampshade',\n     'children': []},\n    {'id': 481,\n     'long_name': 'Cleaning',\n     'name': 'Cleaning',\n     'permalink': 'cleaning',\n     'children': [{'id': 482,\n       'long_name': 'Washcloth / Dishcloth',\n       'name': 'Washcloth / Dishcloth',\n       'permalink': 'washcloth',\n       'children': []},\n      {'id': 484,\n       'long_name': 'Scrubber',\n       'name': 'Scrubber',\n       'permalink': 'scrubber',\n       'children': []},\n      {'id': 486,\n       'long_name': 'Towel',\n       'name': 'Towel',\n       'permalink': 'towel',\n       'children': []},\n      {'id': 488,\n       'long_name': 'Bath Mitt',\n       'name': 'Bath Mitt',\n       'permalink': 'bathmitt',\n       'children': []},\n      {'id': 900,\n       'long_name': 'Cleaning - Other',\n       'name': 'Other',\n       'permalink': 'other-cleaning',\n       'children': []}]},\n    {'id': 492,\n     'long_name': 'Cozy',\n     'name': 'Cozy',\n     'permalink': 'cozy',\n     'children': [{'id': 493,\n       'long_name': 'Cup / Mug',\n       'name': 'Cup / Mug',\n       'permalink': 'cup-mug',\n       'children': []},\n      {'id': 497,\n       'long_name': 'Hot Water Bottle',\n       'name': 'Hot Water Bottle',\n       'permalink': 'hotwaterbottle',\n       'children': []},\n      {'id': 498,\n       'long_name': 'Lip Balm Cozy',\n       'name': 'Lip Balm',\n       'permalink': 'lipbalm',\n       'children': []},\n      {'id': 500,\n       'long_name': 'Electronics Cozy',\n       'name': 'Electronics',\n       'permalink': 'electronics',\n       'children': []},\n      {'id': 501,\n       'long_name': 'Food Cozy',\n       'name': 'Food Cozy',\n       'permalink': 'foodcozy',\n       'children': []},\n      {'id': 502,\n       'long_name': 'Book Cover',\n       'name': 'Book Cover',\n       'permalink': 'bookcover',\n       'children': []},\n      {'id': 503,\n       'long_name': 'Tissue Box Cover',\n       'name': 'Tissue Box Cover',\n       'permalink': 'tissueboxcover',\n       'children': []},\n      {'id': 504,\n       'long_name': 'Automobile',\n       'name': 'Automobile',\n       'permalink': 'automobile',\n       'children': []},\n      {'id': 506,\n       'long_name': 'Glasses Case',\n       'name': 'Glasses Case',\n       'permalink': 'glassescase',\n       'children': []},\n      {'id': 507,\n       'long_name': 'Hanger Cover',\n       'name': 'Hanger Cover',\n       'permalink': 'hangercover',\n       'children': []},\n      {'id': 508,\n       'long_name': 'Bathroom',\n       'name': 'Bathroom',\n       'permalink': 'bathroom',\n       'children': []},\n      {'id': 512,\n       'long_name': 'Mature Content Toys',\n       'name': 'Mature Content Toys',\n       'permalink': 'maturecontenttoys',\n       'children': []},\n      {'id': 513,\n       'long_name': 'Sports Equipment',\n       'name': 'Sports Equipment',\n       'permalink': 'sportsequipment',\n       'children': []},\n      {'id': 884,\n       'long_name': 'Coffee / Tea Pot',\n       'name': 'Coffee / Tea Pot',\n       'permalink': 'coffee-teapot',\n       'children': []},\n      {'id': 901,\n       'long_name': 'Cozy - Other',\n       'name': 'Other',\n       'permalink': 'other-cozy',\n       'children': []}]},\n    {'id': 514,\n     'long_name': 'Bookmark',\n     'name': 'Bookmark',\n     'permalink': 'bookmark',\n     'children': []},\n    {'id': 516,\n     'long_name': 'Decorative Ornament',\n     'name': 'Decorative',\n     'permalink': 'decorative',\n     'children': [{'id': 515,\n       'long_name': 'Doily',\n       'name': 'Doily',\n       'permalink': 'doily',\n       'children': []},\n      {'id': 517,\n       'long_name': 'Ornamental Flower',\n       'name': 'Ornamental Flower',\n       'permalink': 'ornamentalflower',\n       'children': []},\n      {'id': 518,\n       'long_name': 'Hanging Ornament',\n       'name': 'Hanging Ornament',\n       'permalink': 'hangingornament',\n       'children': []},\n      {'id': 521,\n       'long_name': 'Wall Hanging',\n       'name': 'Wall Hanging',\n       'permalink': 'wallhanging',\n       'children': []},\n      {'id': 522,\n       'long_name': 'Wreath',\n       'name': 'Wreath',\n       'permalink': 'wreath',\n       'children': []},\n      {'id': 523,\n       'long_name': 'Christmas Stocking',\n       'name': 'Christmas Stocking',\n       'permalink': 'christmasstocking',\n       'children': []},\n      {'id': 525,\n       'long_name': 'Picture Frame',\n       'name': 'Picture Frame',\n       'permalink': 'pictureframe',\n       'children': []},\n      {'id': 902,\n       'long_name': 'Decorative - Other',\n       'name': 'Other',\n       'permalink': 'other-decorative',\n       'children': []}]},\n    {'id': 904,\n     'long_name': 'Home - Other',\n     'name': 'Other',\n     'permalink': 'other-home',\n     'children': []}]},\n  {'id': 526,\n   'long_name': 'Toys and Hobbies',\n   'name': 'Toys and Hobbies',\n   'permalink': 'toysandhobbies',\n   'children': [{'id': 520,\n     'long_name': 'Softies',\n     'name': 'Softies',\n     'permalink': 'softies',\n     'children': [{'id': 527,\n       'long_name': 'Doll',\n       'name': 'Doll',\n       'permalink': 'doll',\n       'children': []},\n      {'id': 530,\n       'long_name': 'Animal Toy',\n       'name': 'Animal',\n       'permalink': 'animal',\n       'children': []},\n      {'id': 531,\n       'long_name': 'Toy Plant',\n       'name': 'Plant',\n       'permalink': 'plant',\n       'children': []},\n      {'id': 539,\n       'long_name': 'Toy Vehicle',\n       'name': 'Vehicle',\n       'permalink': 'vehicle',\n       'children': []},\n      {'id': 908,\n       'long_name': 'Softies - Other',\n       'name': 'Other',\n       'permalink': 'other-softies',\n       'children': []}]},\n    {'id': 528,\n     'long_name': 'Doll Clothes',\n     'name': 'Doll Clothes',\n     'permalink': 'dollclothes',\n     'children': [{'id': 917,\n       'long_name': 'Fashion Doll (Barbie, etc)',\n       'name': 'Fashion doll',\n       'permalink': 'fashion-doll',\n       'children': []},\n      {'id': 918,\n       'long_name': 'Child Doll (American Girl, Sasha, etc)',\n       'name': 'Child Doll',\n       'permalink': 'child-doll',\n       'children': []},\n      {'id': 919,\n       'long_name': 'Baby Doll',\n       'name': 'Baby Doll',\n       'permalink': 'baby-doll',\n       'children': []},\n      {'id': 920,\n       'long_name': 'Doll Clothes - Other',\n       'name': 'Other',\n       'permalink': 'other-dollclothes',\n       'children': []}]},\n    {'id': 532,\n     'long_name': 'Toy Food',\n     'name': 'Food',\n     'permalink': 'food',\n     'children': []},\n    {'id': 533,\n     'long_name': 'Puppet',\n     'name': 'Puppet',\n     'permalink': 'puppet',\n     'children': []},\n    {'id': 534,\n     'long_name': 'Toy Mobile',\n     'name': 'Mobile',\n     'permalink': 'mobile',\n     'children': []},\n    {'id': 535,\n     'long_name': 'Toy Game',\n     'name': 'Game',\n     'permalink': 'game',\n     'children': []},\n    {'id': 537,\n     'long_name': 'Ball',\n     'name': 'Ball',\n     'permalink': 'ball',\n     'children': []},\n    {'id': 541,\n     'long_name': 'Blocks',\n     'name': 'Blocks',\n     'permalink': 'blocks',\n     'children': []},\n    {'id': 543,\n     'long_name': 'Costume',\n     'name': 'Costume',\n     'permalink': 'costume',\n     'children': []},\n    {'id': 553,\n     'long_name': 'Mature Content',\n     'name': 'Mature Content',\n     'permalink': 'maturecontent',\n     'children': []},\n    {'id': 554,\n     'long_name': 'Craft',\n     'name': 'Craft',\n     'permalink': 'craft',\n     'children': [{'id': 555,\n       'long_name': 'Needle Holder',\n       'name': 'Needle Holder',\n       'permalink': 'needleholder',\n       'children': []},\n      {'id': 556,\n       'long_name': 'Crochet Hook Holder',\n       'name': 'Crochet Hook Holder',\n       'permalink': 'crochethookholder',\n       'children': []},\n      {'id': 557,\n       'long_name': 'Pin Cushion',\n       'name': 'Pin Cushion',\n       'permalink': 'pincushion',\n       'children': []},\n      {'id': 560,\n       'long_name': 'Tape Measure Cover',\n       'name': 'Tape Measure Cover',\n       'permalink': 'tapemeasurecover',\n       'children': []},\n      {'id': 907,\n       'long_name': 'Craft - Other',\n       'name': 'Other',\n       'permalink': 'other-craft',\n       'children': []}]},\n    {'id': 909,\n     'long_name': 'Toys and Hobbies - Other',\n     'name': 'Other',\n     'permalink': 'other-toysandhobbies',\n     'children': []}]},\n  {'id': 565,\n   'long_name': 'Pet',\n   'name': 'Pet',\n   'permalink': 'pet',\n   'children': [{'id': 566,\n     'long_name': 'Pet Clothing',\n     'name': 'Clothing',\n     'permalink': 'pet-clothing',\n     'children': []},\n    {'id': 567,\n     'long_name': 'Bedding',\n     'name': 'Bedding',\n     'permalink': 'bedding',\n     'children': []},\n    {'id': 568,\n     'long_name': 'Accessory',\n     'name': 'Accessory',\n     'permalink': 'accessory',\n     'children': []},\n    {'id': 569,\n     'long_name': 'Pet Toys',\n     'name': 'Toys',\n     'permalink': 'toys',\n     'children': []},\n    {'id': 906,\n     'long_name': 'Pet - Other',\n     'name': 'Other',\n     'permalink': 'other-pet',\n     'children': []}]},\n  {'id': 570,\n   'long_name': 'Component (stitch, edge)',\n   'name': 'Components',\n   'permalink': 'pattern-component',\n   'children': [{'id': 571,\n     'long_name': 'Tutorial',\n     'name': 'Tutorial',\n     'permalink': 'tutorial',\n     'children': []},\n    {'id': 572,\n     'long_name': 'Edging',\n     'name': 'Edging',\n     'permalink': 'edging',\n     'children': []},\n    {'id': 573,\n     'long_name': 'Insertion',\n     'name': 'Insertion',\n     'permalink': 'insertion',\n     'children': []},\n    {'id': 574,\n     'long_name': 'Button',\n     'name': 'Button',\n     'permalink': 'button',\n     'children': []},\n    {'id': 575,\n     'long_name': 'Frog',\n     'name': 'Frog',\n     'permalink': 'frog',\n     'children': []},\n    {'id': 577,\n     'long_name': 'Afghan block',\n     'name': 'Afghan block',\n     'permalink': 'afghanblock',\n     'children': []},\n    {'id': 579,\n     'long_name': 'Floral block',\n     'name': 'Floral block',\n     'permalink': 'floralblock',\n     'children': []},\n    {'id': 580,\n     'long_name': 'Stitch pattern',\n     'name': 'Stitch pattern',\n     'permalink': 'stitchpattern',\n     'children': []},\n    {'id': 581,\n     'long_name': 'Chart',\n     'name': 'Chart',\n     'permalink': 'chart',\n     'children': []},\n    {'id': 905,\n     'long_name': 'Component (stitch, edge) - Other',\n     'name': 'Other',\n     'permalink': 'other-x-notapattern',\n     'children': []},\n    {'id': 911,\n     'long_name': 'Applique / Embellishment',\n     'name': 'Applique / Embellishment',\n     'permalink': 'applique',\n     'children': []}]}]}"
     },
     "metadata": {},
     "execution_count": 74
    }
   ],
   "source": []
  },
  {
   "cell_type": "code",
   "execution_count": 56,
   "metadata": {},
   "outputs": [],
   "source": [
    "with open('yarn_weights.json', 'w') as json_file:\n",
    "    json.dump(yarn_attr_json, json_file)"
   ]
  },
  {
   "cell_type": "code",
   "execution_count": 61,
   "metadata": {},
   "outputs": [],
   "source": [
    "with open('pattern_attr.json', 'w') as json_file:\n",
    "    json.dump(attr_json, json_file)"
   ]
  },
  {
   "cell_type": "code",
   "execution_count": 75,
   "metadata": {},
   "outputs": [],
   "source": [
    "with open('pattern_categories.json', 'w') as json_file:\n",
    "    json.dump(pattern_cats_json, json_file)"
   ]
  },
  {
   "cell_type": "code",
   "execution_count": null,
   "metadata": {},
   "outputs": [],
   "source": []
  },
  {
   "cell_type": "code",
   "execution_count": 52,
   "metadata": {},
   "outputs": [],
   "source": [
    "yarn_attr_url = 'https://api.ravelry.com/yarn_weights.json'\n",
    "yarn_attr = requests.get(yarn_attr_url, \n",
    "                        auth = (pk.username(),pk.password()))\n",
    "yarn_attr_json = yarn_attr.json()"
   ]
  }
 ]
}