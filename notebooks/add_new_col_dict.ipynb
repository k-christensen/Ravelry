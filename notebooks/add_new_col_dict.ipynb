{
 "nbformat": 4,
 "nbformat_minor": 2,
 "metadata": {
  "language_info": {
   "name": "python",
   "codemirror_mode": {
    "name": "ipython",
    "version": 3
   },
   "version": "3.7.3-final"
  },
  "orig_nbformat": 2,
  "file_extension": ".py",
  "mimetype": "text/x-python",
  "name": "python",
  "npconvert_exporter": "python",
  "pygments_lexer": "ipython3",
  "version": 3,
  "kernelspec": {
   "name": "python37364bitbasecondacc7d9abba0074d939f383a6180d18325",
   "display_name": "Python 3.7.3 64-bit ('base': conda)"
  }
 },
 "cells": [
  {
   "cell_type": "code",
   "execution_count": 1,
   "metadata": {},
   "outputs": [],
   "source": [
    "import pandas as pd "
   ]
  },
  {
   "cell_type": "code",
   "execution_count": 19,
   "metadata": {},
   "outputs": [
    {
     "output_type": "execute_result",
     "data": {
      "text/plain": "     Name  Height Qualification\n0     Jai     5.1           Msc\n1  Princi     6.2            MA\n2  Gaurav     5.1           Msc\n3    Anuj     5.2           Msc",
      "text/html": "<div>\n<style scoped>\n    .dataframe tbody tr th:only-of-type {\n        vertical-align: middle;\n    }\n\n    .dataframe tbody tr th {\n        vertical-align: top;\n    }\n\n    .dataframe thead th {\n        text-align: right;\n    }\n</style>\n<table border=\"1\" class=\"dataframe\">\n  <thead>\n    <tr style=\"text-align: right;\">\n      <th></th>\n      <th>Name</th>\n      <th>Height</th>\n      <th>Qualification</th>\n    </tr>\n  </thead>\n  <tbody>\n    <tr>\n      <th>0</th>\n      <td>Jai</td>\n      <td>5.1</td>\n      <td>Msc</td>\n    </tr>\n    <tr>\n      <th>1</th>\n      <td>Princi</td>\n      <td>6.2</td>\n      <td>MA</td>\n    </tr>\n    <tr>\n      <th>2</th>\n      <td>Gaurav</td>\n      <td>5.1</td>\n      <td>Msc</td>\n    </tr>\n    <tr>\n      <th>3</th>\n      <td>Anuj</td>\n      <td>5.2</td>\n      <td>Msc</td>\n    </tr>\n  </tbody>\n</table>\n</div>"
     },
     "metadata": {},
     "execution_count": 19
    }
   ],
   "source": [
    "data = {'Name': ['Jai', 'Princi', 'Gaurav', 'Anuj'], \n",
    "        'Height': [5.1, 6.2, 5.1, 5.2], \n",
    "        'Qualification': ['Msc', 'MA', 'Msc', 'Msc']} \n",
    "\n",
    "df = pd.DataFrame(data)\n",
    "df"
   ]
  },
  {
   "cell_type": "code",
   "execution_count": 20,
   "metadata": {},
   "outputs": [
    {
     "output_type": "execute_result",
     "data": {
      "text/plain": "        Height Qualification\nName                        \nJai        5.1           Msc\nPrinci     6.2            MA\nGaurav     5.1           Msc\nAnuj       5.2           Msc",
      "text/html": "<div>\n<style scoped>\n    .dataframe tbody tr th:only-of-type {\n        vertical-align: middle;\n    }\n\n    .dataframe tbody tr th {\n        vertical-align: top;\n    }\n\n    .dataframe thead th {\n        text-align: right;\n    }\n</style>\n<table border=\"1\" class=\"dataframe\">\n  <thead>\n    <tr style=\"text-align: right;\">\n      <th></th>\n      <th>Height</th>\n      <th>Qualification</th>\n    </tr>\n    <tr>\n      <th>Name</th>\n      <th></th>\n      <th></th>\n    </tr>\n  </thead>\n  <tbody>\n    <tr>\n      <th>Jai</th>\n      <td>5.1</td>\n      <td>Msc</td>\n    </tr>\n    <tr>\n      <th>Princi</th>\n      <td>6.2</td>\n      <td>MA</td>\n    </tr>\n    <tr>\n      <th>Gaurav</th>\n      <td>5.1</td>\n      <td>Msc</td>\n    </tr>\n    <tr>\n      <th>Anuj</th>\n      <td>5.2</td>\n      <td>Msc</td>\n    </tr>\n  </tbody>\n</table>\n</div>"
     },
     "metadata": {},
     "execution_count": 20
    }
   ],
   "source": [
    "df = df.set_index(\"Name\")\n",
    "df"
   ]
  },
  {
   "cell_type": "code",
   "execution_count": 23,
   "metadata": {},
   "outputs": [
    {
     "output_type": "execute_result",
     "data": {
      "text/plain": "{'Jai': 'Delhi', 'Gaurav': 'Patna', 'Princi': 'Bangalore', 'Anuj': 'Chennai'}"
     },
     "metadata": {},
     "execution_count": 23
    }
   ],
   "source": [
    "address = {'Delhi': 'Jai', 'Patna': 'Gaurav', 'Bangalore': 'Princi', \n",
    "        'Chennai': 'Anuj'}\n",
    "\n",
    "new_addresses = dict(zip(list(address.values()),list(address.keys())))\n",
    "\n",
    "new_addresses"
   ]
  },
  {
   "cell_type": "code",
   "execution_count": 18,
   "metadata": {},
   "outputs": [
    {
     "output_type": "execute_result",
     "data": {
      "text/plain": "        Height Qualification    Address\nName                                   \nJai        5.1           Msc      Delhi\nPrinci     6.2            MA      Patna\nGaurav     5.1           Msc  Bangalore\nAnuj       5.2           Msc    Chennai",
      "text/html": "<div>\n<style scoped>\n    .dataframe tbody tr th:only-of-type {\n        vertical-align: middle;\n    }\n\n    .dataframe tbody tr th {\n        vertical-align: top;\n    }\n\n    .dataframe thead th {\n        text-align: right;\n    }\n</style>\n<table border=\"1\" class=\"dataframe\">\n  <thead>\n    <tr style=\"text-align: right;\">\n      <th></th>\n      <th>Height</th>\n      <th>Qualification</th>\n      <th>Address</th>\n    </tr>\n    <tr>\n      <th>Name</th>\n      <th></th>\n      <th></th>\n      <th></th>\n    </tr>\n  </thead>\n  <tbody>\n    <tr>\n      <th>Jai</th>\n      <td>5.1</td>\n      <td>Msc</td>\n      <td>Delhi</td>\n    </tr>\n    <tr>\n      <th>Princi</th>\n      <td>6.2</td>\n      <td>MA</td>\n      <td>Patna</td>\n    </tr>\n    <tr>\n      <th>Gaurav</th>\n      <td>5.1</td>\n      <td>Msc</td>\n      <td>Bangalore</td>\n    </tr>\n    <tr>\n      <th>Anuj</th>\n      <td>5.2</td>\n      <td>Msc</td>\n      <td>Chennai</td>\n    </tr>\n  </tbody>\n</table>\n</div>"
     },
     "metadata": {},
     "execution_count": 18
    }
   ],
   "source": [
    "df['Address'] = address \n",
    "df"
   ]
  },
  {
   "cell_type": "code",
   "execution_count": 14,
   "metadata": {},
   "outputs": [
    {
     "output_type": "execute_result",
     "data": {
      "text/plain": "Index(['Jai', 'Princi', 'Gaurav', 'Anuj'], dtype='object', name='Name')"
     },
     "metadata": {},
     "execution_count": 14
    }
   ],
   "source": [
    "df.index"
   ]
  },
  {
   "cell_type": "code",
   "execution_count": 29,
   "metadata": {},
   "outputs": [
    {
     "output_type": "execute_result",
     "data": {
      "text/plain": "{'Delhi': 'Jai', 'Patna': 'Gaurav', 'Bangalore': 'Princi', 'Chennai': 'Anuj'}"
     },
     "metadata": {},
     "execution_count": 29
    }
   ],
   "source": [
    "address"
   ]
  },
  {
   "cell_type": "code",
   "execution_count": 30,
   "metadata": {},
   "outputs": [],
   "source": [
    "df['address'] = df.index.map(new_addresses) \n",
    ""
   ]
  },
  {
   "cell_type": "code",
   "execution_count": 31,
   "metadata": {},
   "outputs": [
    {
     "output_type": "execute_result",
     "data": {
      "text/plain": "        Height Qualification    address\nName                                   \nJai        5.1           Msc      Delhi\nPrinci     6.2            MA  Bangalore\nGaurav     5.1           Msc      Patna\nAnuj       5.2           Msc    Chennai",
      "text/html": "<div>\n<style scoped>\n    .dataframe tbody tr th:only-of-type {\n        vertical-align: middle;\n    }\n\n    .dataframe tbody tr th {\n        vertical-align: top;\n    }\n\n    .dataframe thead th {\n        text-align: right;\n    }\n</style>\n<table border=\"1\" class=\"dataframe\">\n  <thead>\n    <tr style=\"text-align: right;\">\n      <th></th>\n      <th>Height</th>\n      <th>Qualification</th>\n      <th>address</th>\n    </tr>\n    <tr>\n      <th>Name</th>\n      <th></th>\n      <th></th>\n      <th></th>\n    </tr>\n  </thead>\n  <tbody>\n    <tr>\n      <th>Jai</th>\n      <td>5.1</td>\n      <td>Msc</td>\n      <td>Delhi</td>\n    </tr>\n    <tr>\n      <th>Princi</th>\n      <td>6.2</td>\n      <td>MA</td>\n      <td>Bangalore</td>\n    </tr>\n    <tr>\n      <th>Gaurav</th>\n      <td>5.1</td>\n      <td>Msc</td>\n      <td>Patna</td>\n    </tr>\n    <tr>\n      <th>Anuj</th>\n      <td>5.2</td>\n      <td>Msc</td>\n      <td>Chennai</td>\n    </tr>\n  </tbody>\n</table>\n</div>"
     },
     "metadata": {},
     "execution_count": 31
    }
   ],
   "source": [
    "df"
   ]
  },
  {
   "cell_type": "code",
   "execution_count": 28,
   "metadata": {},
   "outputs": [
    {
     "output_type": "execute_result",
     "data": {
      "text/plain": "Index(['Jai', 'Princi', 'Gaurav', 'Anuj'], dtype='object', name='Name')"
     },
     "metadata": {},
     "execution_count": 28
    }
   ],
   "source": []
  },
  {
   "cell_type": "code",
   "execution_count": null,
   "metadata": {},
   "outputs": [],
   "source": [
    "# add new column using dictionary, key is index, value is what's in the new column\n",
    "# df[name of new col] = df.index.map(dict with key as indexes, value is new col) \n"
   ]
  }
 ]
}