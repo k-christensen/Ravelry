{
 "cells": [
  {
   "cell_type": "code",
   "execution_count": 14,
   "metadata": {},
   "outputs": [],
   "source": [
    "import requests\n",
    "import time\n",
    "import pandas as pd\n",
    "import numpy as np\n",
    "import re\n",
    "import json\n",
    "import pdb\n",
    "from bs4 import BeautifulSoup\n",
    "import pickle\n",
    "import personal_keys\n",
    "import math"
   ]
  },
  {
   "cell_type": "markdown",
   "metadata": {},
   "source": [
    "# fav_funcs.py"
   ]
  },
  {
   "cell_type": "markdown",
   "metadata": {},
   "source": [
    "## fav_request\n",
    "makes request to API, returns json file of user"
   ]
  },
  {
   "cell_type": "code",
   "execution_count": 4,
   "metadata": {},
   "outputs": [],
   "source": [
    "def fav_request(username, page_size, page):\n",
    "    favs_url = 'https://api.ravelry.com/people/{}/favorites/list.json'.format(username)\n",
    "    favs = requests.get(favs_url, auth = (personal_keys.username(),personal_keys.password()),\n",
    "                        params={'page_size':page_size, 'page':page})\n",
    "    return favs.json()"
   ]
  },
  {
   "cell_type": "markdown",
   "metadata": {},
   "source": [
    "### example output:"
   ]
  },
  {
   "cell_type": "code",
   "execution_count": 5,
   "metadata": {},
   "outputs": [
    {
     "output_type": "execute_result",
     "data": {
      "text/plain": "dict_keys(['favorites', 'paginator'])"
     },
     "metadata": {},
     "execution_count": 5
    }
   ],
   "source": [
    "fav_request(\"katec125\", 2, 0).keys()"
   ]
  },
  {
   "cell_type": "markdown",
   "metadata": {},
   "source": [
    "## create_fav_list\n",
    "input fav json, output list of fav pattern codes"
   ]
  },
  {
   "cell_type": "code",
   "execution_count": 6,
   "metadata": {},
   "outputs": [],
   "source": [
    "def create_fav_list(fav_request):\n",
    "    fav_list = []\n",
    "    favorites = fav_request['favorites']\n",
    "    for item in range(0,len(favorites)):\n",
    "        if favorites[item]['favorited'] is not None:\n",
    "            if 'pattern_id' in favorites[item]['favorited'].keys():\n",
    "                fav_list.append(favorites[item]['favorited']['pattern_id'])\n",
    "            elif 'id' in favorites[item]['favorited'].keys():\n",
    "                fav_list.append(favorites[item]['favorited']['id'])\n",
    "    return [code for code in fav_list if code is not None]"
   ]
  },
  {
   "cell_type": "markdown",
   "metadata": {},
   "source": [
    "### example output: "
   ]
  },
  {
   "cell_type": "code",
   "execution_count": 11,
   "metadata": {},
   "outputs": [
    {
     "output_type": "execute_result",
     "data": {
      "text/plain": "[1017571, 777372]"
     },
     "metadata": {},
     "execution_count": 11
    }
   ],
   "source": [
    "fav_json = fav_request(\"katec125\", 2, 0)\n",
    "create_fav_list(fav_json)"
   ]
  },
  {
   "cell_type": "markdown",
   "metadata": {},
   "source": [
    "## get_favs_list\n",
    "* Input is username, output is list of pattern ids in a person's favorites\n",
    "* Essentially combination of fav request and create_fav_list\n",
    "* If the user has over 500 favorites, then only returns the first 500. This is done so other functions don't take forever"
   ]
  },
  {
   "cell_type": "code",
   "execution_count": 7,
   "metadata": {},
   "outputs": [],
   "source": [
    "def get_favs_list(username):\n",
    "    favs = fav_request(username, 100, 1)\n",
    "    fav_list = create_fav_list(favs)\n",
    "    if favs['paginator']['page_count']>1:\n",
    "        page_number = 2\n",
    "        if favs['paginator']['last_page'] > 5:\n",
    "            last_page = 5\n",
    "        else:\n",
    "            last_page = favs['paginator']['last_page']\n",
    "        while page_number <= last_page:\n",
    "            new_request_favs = fav_request(username,100, page_number)\n",
    "            fav_list.extend(create_fav_list(new_request_favs))\n",
    "            page_number += 1\n",
    "    return fav_list"
   ]
  },
  {
   "cell_type": "markdown",
   "metadata": {},
   "source": [
    "### Example output "
   ]
  },
  {
   "cell_type": "code",
   "execution_count": 14,
   "metadata": {},
   "outputs": [
    {
     "output_type": "execute_result",
     "data": {
      "text/plain": "[1017571,\n 777372,\n 1002216,\n 998422,\n 877616,\n 990541,\n 966823,\n 444597,\n 888409,\n 420814]"
     },
     "metadata": {},
     "execution_count": 14
    }
   ],
   "source": [
    "get_favs_list(\"katec125\")[:10]"
   ]
  },
  {
   "cell_type": "markdown",
   "metadata": {},
   "source": [
    "## fav_dict\n",
    "* Returns a dict that is just pattern code and 1 for every value\n",
    "* This is done so we can then do the proj rating func to create user data column"
   ]
  },
  {
   "cell_type": "code",
   "execution_count": 9,
   "metadata": {},
   "outputs": [],
   "source": [
    "def fav_dict (username):\n",
    "    fav_list = get_favs_list(username)\n",
    "    return {code:1 for code in fav_list}"
   ]
  },
  {
   "cell_type": "code",
   "execution_count": 21,
   "metadata": {},
   "outputs": [
    {
     "output_type": "execute_result",
     "data": {
      "text/plain": "1"
     },
     "metadata": {},
     "execution_count": 21
    }
   ],
   "source": [
    "fav_dict(\"katec125\")[1017571]"
   ]
  },
  {
   "cell_type": "markdown",
   "metadata": {},
   "source": [
    "# proj_funcs.py"
   ]
  },
  {
   "cell_type": "markdown",
   "metadata": {},
   "source": [
    "## proj_json\n",
    "returns json file with all the info about user patterns"
   ]
  },
  {
   "cell_type": "code",
   "execution_count": 10,
   "metadata": {},
   "outputs": [],
   "source": [
    "def proj_json(username):\n",
    "    projects_url = 'https://api.ravelry.com/projects/{}/list.json'.format(username)\n",
    "    projects = requests.get(projects_url, \n",
    "                        auth = (personal_keys.username(),personal_keys.password()))\n",
    "    return projects.json()"
   ]
  },
  {
   "cell_type": "markdown",
   "metadata": {},
   "source": [
    "### Example output:"
   ]
  },
  {
   "cell_type": "code",
   "execution_count": 23,
   "metadata": {},
   "outputs": [
    {
     "output_type": "execute_result",
     "data": {
      "text/plain": "dict_keys(['projects', 'collections', 'paginator'])"
     },
     "metadata": {},
     "execution_count": 23
    }
   ],
   "source": [
    "proj_json(\"katec125\").keys()"
   ]
  },
  {
   "cell_type": "markdown",
   "metadata": {},
   "source": [
    "## project_list\n",
    "Input is a json obtained in the proj_json function, output is a list of pattern ids for user's projects"
   ]
  },
  {
   "cell_type": "code",
   "execution_count": 11,
   "metadata": {},
   "outputs": [],
   "source": [
    "def project_list(p_json):\n",
    "    proj_list = []\n",
    "    proj_list.extend([p_json['projects'][item]['pattern_id'] \n",
    "                    for item in range(0,len(p_json['projects']))])\n",
    "    return proj_list"
   ]
  },
  {
   "cell_type": "markdown",
   "metadata": {},
   "source": [
    "### Example output:"
   ]
  },
  {
   "cell_type": "code",
   "execution_count": 25,
   "metadata": {},
   "outputs": [
    {
     "output_type": "execute_result",
     "data": {
      "text/plain": "[669230, 118820, 490330, 103767, 91776, 216824, 990541, 582245, 921518, 497647]"
     },
     "metadata": {},
     "execution_count": 25
    }
   ],
   "source": [
    "p_json = proj_json(\"katec125\")\n",
    "project_list(p_json)[:10]"
   ]
  },
  {
   "cell_type": "markdown",
   "metadata": {},
   "source": [
    "## get_project_list_from_username\n",
    "\n",
    "combination of the two previous functions\n"
   ]
  },
  {
   "cell_type": "code",
   "execution_count": 12,
   "metadata": {},
   "outputs": [],
   "source": [
    "def get_project_list_from_username(username):\n",
    "    p_json = proj_json(username)\n",
    "    return project_list(p_json)"
   ]
  },
  {
   "cell_type": "markdown",
   "metadata": {},
   "source": [
    "### Example output: "
   ]
  },
  {
   "cell_type": "code",
   "execution_count": 27,
   "metadata": {},
   "outputs": [
    {
     "output_type": "execute_result",
     "data": {
      "text/plain": "[669230, 118820, 490330, 103767, 91776, 216824, 990541, 582245, 921518, 497647]"
     },
     "metadata": {},
     "execution_count": 27
    }
   ],
   "source": [
    "get_project_list_from_username(\"katec125\")[:10]"
   ]
  },
  {
   "cell_type": "markdown",
   "metadata": {},
   "source": [
    "## project_rating\n",
    "* returns dictionary of project codes and user ratings, \n",
    "* default rating is 3 if none is given, \n",
    "* otherwise it's on a scale from 1-5 (hence the +1)"
   ]
  },
  {
   "cell_type": "code",
   "execution_count": 13,
   "metadata": {},
   "outputs": [],
   "source": [
    "def project_rating(username):\n",
    "    code_list = get_project_list_from_username(username)\n",
    "    rating_list = [3 if proj_json(username)['projects'][i]['rating'] == None \n",
    "                    else proj_json(username)['projects'][i]['rating']+1 \n",
    "                    for i in range(0,len(proj_json(\"katec125\")['projects']))]\n",
    "    return dict(zip(code_list, rating_list))"
   ]
  },
  {
   "cell_type": "markdown",
   "metadata": {},
   "source": [
    "Example output:"
   ]
  },
  {
   "cell_type": "code",
   "execution_count": 29,
   "metadata": {},
   "outputs": [
    {
     "output_type": "execute_result",
     "data": {
      "text/plain": "{669230: 3,\n 118820: 3,\n 490330: 3,\n 103767: 4,\n 91776: 3,\n 216824: 3,\n 990541: 3,\n 582245: 3,\n 921518: 3,\n 497647: 3,\n 828182: 3,\n 833778: 3,\n 807214: 3,\n 497856: 3,\n 617705: 3,\n 722427: 3,\n 714457: 3,\n 676427: 3,\n 226669: 3}"
     },
     "metadata": {},
     "execution_count": 29
    }
   ],
   "source": [
    "project_rating(\"katec125\")"
   ]
  },
  {
   "cell_type": "markdown",
   "metadata": {},
   "source": [
    "## user_data \n",
    "* creates dictionary where the keys are all user's favorites and projects\n",
    "* all favorites get a 1 assigned\n",
    "* projects get either their rating or 3 assigned\n",
    "* the final dict is turned into a string so it can combine with the existing user profile df"
   ]
  },
  {
   "cell_type": "code",
   "execution_count": 35,
   "metadata": {},
   "outputs": [],
   "source": [
    "def user_data(username):\n",
    "    user_data = fav_dict(username)\n",
    "    user_data.update(project_rating(username))\n",
    "    str_user_data_dict = {str(k):v for k,v in user_data.items()}\n",
    "    return str_user_data_dict"
   ]
  },
  {
   "cell_type": "markdown",
   "metadata": {},
   "source": [
    "Example output:"
   ]
  },
  {
   "cell_type": "code",
   "execution_count": 36,
   "metadata": {},
   "outputs": [
    {
     "output_type": "execute_result",
     "data": {
      "text/plain": "{'1017571': 1,\n '777372': 1,\n '1002216': 1,\n '998422': 1,\n '877616': 1,\n '990541': 3,\n '966823': 1,\n '444597': 1,\n '888409': 1,\n '420814': 1,\n '790875': 1,\n '409979': 1,\n '538253': 1,\n '387775': 1,\n '994876': 1,\n '993218': 1,\n '975032': 1,\n '995685': 1,\n '731341': 1,\n '984587': 1,\n '384733': 1,\n '866947': 1,\n '932512': 1,\n '893880': 1,\n '986145': 1,\n '807636': 1,\n '936349': 1,\n '918043': 1,\n '907192': 1,\n '843846': 1,\n '866773': 1,\n '686988': 1,\n '966033': 1,\n '968150': 1,\n '869199': 1,\n '351173': 1,\n '824391': 1,\n '921518': 3,\n '843810': 1,\n '855203': 1,\n '925240': 1,\n '929139': 1,\n '570677': 1,\n '483117': 1,\n '639396': 1,\n '754362': 1,\n '824302': 1,\n '886241': 1,\n '561403': 1,\n '171113': 1,\n '57264': 1,\n '772466': 1,\n '497126': 1,\n '680396': 1,\n '868477': 1,\n '868478': 1,\n '497647': 3,\n '582257': 1,\n '377778': 1,\n '593997': 1,\n '838914': 1,\n '742300': 1,\n '858134': 1,\n '855568': 1,\n '763885': 1,\n '830861': 1,\n '853849': 1,\n '690209': 1,\n '843963': 1,\n '804284': 1,\n '853145': 1,\n '743018': 1,\n '758635': 1,\n '745500': 1,\n '847738': 1,\n '842474': 1,\n '658135': 1,\n '833778': 3,\n '841735': 1,\n '602732': 1,\n '833943': 1,\n '833941': 1,\n '606529': 1,\n '785079': 1,\n '814274': 1,\n '761738': 1,\n '829488': 1,\n '829043': 1,\n '825008': 1,\n '526155': 1,\n '752414': 1,\n '373662': 1,\n '412555': 1,\n '534321': 1,\n '580557': 1,\n '807394': 1,\n '536459': 1,\n '522775': 1,\n '466908': 1,\n '172113': 1,\n '481187': 1,\n '593681': 1,\n '746797': 1,\n '676427': 3,\n '516187': 1,\n '651122': 1,\n '686917': 1,\n '679511': 1,\n '36436': 1,\n '636348': 1,\n '582245': 3,\n '291786': 1,\n '510235': 1,\n '557997': 1,\n '588220': 1,\n '132791': 1,\n '520203': 1,\n '470169': 1,\n '605975': 1,\n '515957': 1,\n '497856': 3,\n '243036': 1,\n '78651': 1,\n '397607': 1,\n '105865': 1,\n '551194': 1,\n '567180': 1,\n '532971': 1,\n '504052': 1,\n '121493': 1,\n '574591': 1,\n '579248': 1,\n '669230': 3,\n '118820': 3,\n '490330': 3,\n '103767': 4,\n '91776': 3,\n '216824': 3,\n '828182': 3,\n '807214': 3,\n '617705': 3,\n '722427': 3,\n '714457': 3,\n '226669': 3}"
     },
     "metadata": {},
     "execution_count": 36
    }
   ],
   "source": [
    "user_data(\"katec125\")"
   ]
  },
  {
   "cell_type": "markdown",
   "metadata": {},
   "source": [
    "# friend_funcs.py\n",
    "Note: I may not end up using these functions\n",
    "\n",
    "Additionally, example outputs are not included here because I'm not here to put friend info out in a viewable notebook"
   ]
  },
  {
   "cell_type": "markdown",
   "metadata": {},
   "source": [
    "## friend_username_list\n",
    "The input is a username and the output is a list of the user's friends"
   ]
  },
  {
   "cell_type": "code",
   "execution_count": 32,
   "metadata": {},
   "outputs": [],
   "source": [
    "def friend_username_list(username):\n",
    "    user_url = 'https://api.ravelry.com/people/{}/friends/list.json'.format(username)\n",
    "    user = requests.get(user_url, \n",
    "                        auth = (personal_keys.username(),personal_keys.password()))\n",
    "    return [user.json()['friendships'][item]['friend_username'] \n",
    "            for item in range(0,len(user.json()['friendships']))]\n",
    ""
   ]
  },
  {
   "cell_type": "markdown",
   "metadata": {},
   "source": [
    "## get_friend_favs\n",
    "The input is a username, output is a list of the user's friends' favorites"
   ]
  },
  {
   "cell_type": "code",
   "execution_count": null,
   "metadata": {},
   "outputs": [],
   "source": [
    "def get_friend_favs(username):    \n",
    "    friend_list = friend_username_list(username)\n",
    "    all_friend_projs = []\n",
    "    for user in friend_list:\n",
    "        all_friend_projs.append(get_favs_list(user))   \n",
    "    flat_list = [item for sublist in all_friend_projs for item in sublist]\n",
    "    edited_flat_list = [item for item in flat_list if item is not None]\n",
    "    return edited_flat_list"
   ]
  },
  {
   "cell_type": "markdown",
   "metadata": {},
   "source": [
    "## get_friend_projs\n",
    "The input is a username, output is a list of the user's friends' projects"
   ]
  },
  {
   "cell_type": "code",
   "execution_count": 33,
   "metadata": {},
   "outputs": [],
   "source": [
    "def get_friend_projs(username):    \n",
    "    friend_list = friend_username_list(username)\n",
    "    all_friend_projs = []\n",
    "    for user in friend_list:\n",
    "        all_friend_projs.extend(get_project_list(user))        \n",
    "    edited_proj_list = [item for item in all_friend_projs if item is not None]\n",
    "    return edited_proj_list"
   ]
  },
  {
   "cell_type": "markdown",
   "metadata": {},
   "source": [
    "# search_functions.py "
   ]
  },
  {
   "cell_type": "markdown",
   "metadata": {},
   "source": [
    "## search\n",
    "Input is a search term of some sort, output is the json file containing search results"
   ]
  },
  {
   "cell_type": "code",
   "execution_count": 15,
   "metadata": {},
   "outputs": [],
   "source": [
    "def search(term):\n",
    "    search_url = 'https://api.ravelry.com/patterns/search.json?query={}'.format(term)\n",
    "    search = requests.get(search_url, auth = (personal_keys.username(),personal_keys.password()))\n",
    "    s_json = search.json()\n",
    "    return s_json"
   ]
  },
  {
   "cell_type": "markdown",
   "metadata": {},
   "source": [
    "### Example output:"
   ]
  },
  {
   "cell_type": "code",
   "execution_count": 36,
   "metadata": {},
   "outputs": [
    {
     "output_type": "execute_result",
     "data": {
      "text/plain": "dict_keys(['patterns', 'paginator'])"
     },
     "metadata": {},
     "execution_count": 36
    }
   ],
   "source": [
    "search(\"cowl\").keys()"
   ]
  },
  {
   "cell_type": "markdown",
   "metadata": {},
   "source": [
    "## search_pattern_list\n",
    "Input is a json of searched patterns (the output of the previous function), output is a list of pattern ids."
   ]
  },
  {
   "cell_type": "code",
   "execution_count": 16,
   "metadata": {},
   "outputs": [],
   "source": [
    "def search_pattern_list(s_json):\n",
    "    p_list = s_json['patterns']\n",
    "    return [p_list[ind]['id'] for ind in list(range(0,len(p_list)))]\n",
    ""
   ]
  },
  {
   "cell_type": "markdown",
   "metadata": {},
   "source": [
    "### Example output:"
   ]
  },
  {
   "cell_type": "code",
   "execution_count": 39,
   "metadata": {},
   "outputs": [
    {
     "output_type": "execute_result",
     "data": {
      "text/plain": "[819716,\n 1024446,\n 548384,\n 1024387,\n 1004479,\n 713248,\n 169260,\n 942286,\n 273024,\n 1023884]"
     },
     "metadata": {},
     "execution_count": 39
    }
   ],
   "source": [
    "s_json = search(\"cowl\")\n",
    "search_pattern_list(s_json)[:10]"
   ]
  },
  {
   "cell_type": "markdown",
   "metadata": {},
   "source": [
    "## search_to_list\n",
    "This is just a combination of the two previous functions into one function. The input is a search term, output is a list of pattern ids\n"
   ]
  },
  {
   "cell_type": "code",
   "execution_count": 17,
   "metadata": {},
   "outputs": [],
   "source": [
    "def search_to_list(term):\n",
    "    s_json = search(term)\n",
    "    return search_pattern_list(s_json)"
   ]
  },
  {
   "cell_type": "markdown",
   "metadata": {},
   "source": [
    "### Example output:"
   ]
  },
  {
   "cell_type": "code",
   "execution_count": 41,
   "metadata": {},
   "outputs": [
    {
     "output_type": "execute_result",
     "data": {
      "text/plain": "[819716,\n 1024446,\n 548384,\n 1024387,\n 1004479,\n 713248,\n 169260,\n 942286,\n 273024,\n 1023884]"
     },
     "metadata": {},
     "execution_count": 41
    }
   ],
   "source": [
    "search_to_list(\"cowl\")[:10]"
   ]
  },
  {
   "cell_type": "markdown",
   "metadata": {},
   "source": [
    "## or_string\n",
    "This function turns list of terms into string separated by '%7C', which is 'or' in the ravelry search url."
   ]
  },
  {
   "cell_type": "code",
   "execution_count": 3,
   "metadata": {},
   "outputs": [],
   "source": [
    "def or_string(attr_list):\n",
    "    return '%7C'.join(attr_list)"
   ]
  },
  {
   "cell_type": "markdown",
   "metadata": {},
   "source": [
    "### Example output:"
   ]
  },
  {
   "cell_type": "code",
   "execution_count": 6,
   "metadata": {},
   "outputs": [
    {
     "output_type": "execute_result",
     "data": {
      "text/plain": "'dk%7Cworsted%7Caran'"
     },
     "metadata": {},
     "execution_count": 6
    }
   ],
   "source": [
    "or_string(['dk', 'worsted', 'aran'])"
   ]
  },
  {
   "cell_type": "markdown",
   "metadata": {},
   "source": [
    "## fit_and_attr_split\n",
    "Some of the pattern attributes are actually listed under 'fit' when creating the search url, so the pattern attributes need to be split into two lists. The first list is the list of attributes that would be searched under 'fit' and the other list is the attributes that would actually be listed under pattern attributes "
   ]
  },
  {
   "cell_type": "code",
   "execution_count": 7,
   "metadata": {},
   "outputs": [],
   "source": [
    "def fit_and_attr_split(attr_list):\n",
    "    fit_name_list = ['adult','baby','child','doll-size',\n",
    " 'newborn-size','preemie','teen','toddler',\n",
    " 'negative-ease','no-ease','positive-ease',\n",
    " 'maternity','fitted','miniature','oversized',\n",
    " 'petite','plus','tall','female','male','unisex']\n",
    "    attribute_list = []\n",
    "    fit_list = []\n",
    "    for item in attr_list:\n",
    "        if item in fit_name_list:\n",
    "            fit_list.append(item)\n",
    "        else:\n",
    "            attribute_list.append(item)\n",
    "    return [fit_list, attribute_list]"
   ]
  },
  {
   "cell_type": "markdown",
   "metadata": {},
   "source": [
    "### Example output:"
   ]
  },
  {
   "cell_type": "code",
   "execution_count": 8,
   "metadata": {},
   "outputs": [
    {
     "output_type": "execute_result",
     "data": {
      "text/plain": "[['female', 'adult', 'fitted'],\n ['lace',\n  'stripes',\n  'ripple',\n  'seamed',\n  'crew-neck',\n  'elbow-sleeve',\n  'bottom-up',\n  'written-pattern',\n  'worked-flat',\n  'stripes-colorwork']]"
     },
     "metadata": {},
     "execution_count": 8
    }
   ],
   "source": [
    "example_attr_list = ['female', 'adult', 'fitted', 'lace',\n",
    "                'stripes', 'ripple', 'seamed', 'crew-neck',\n",
    "                'elbow-sleeve', 'bottom-up', 'written-pattern',\n",
    "                'worked-flat','stripes-colorwork']\n",
    "fit_and_attr_split(example_attr_list)\n"
   ]
  },
  {
   "cell_type": "markdown",
   "metadata": {},
   "source": [
    "## unique_search_url_section\n",
    "This function creates the string that is the unique part of the search url. In other words, this is the section that tells the search function what to search for."
   ]
  },
  {
   "cell_type": "code",
   "execution_count": 9,
   "metadata": {},
   "outputs": [],
   "source": [
    "def unique_search_url_section(attr_dict):\n",
    "    yarn_list = create_yarn_list(attr_dict['yarn_weight'])\n",
    "    attr_and_fit_list = fit_and_attr_split(attr_dict['pattern_attributes'])\n",
    "    attr_list = attr_and_fit_list[1]\n",
    "    fit_list = attr_and_fit_list[0]\n",
    "    yarn_str = or_string(yarn_list)\n",
    "    attr_str = or_string(attr_list)\n",
    "    cat_str = or_string(attr_dict['pattern_categories'][1:])\n",
    "    fit_str = or_string(fit_list)\n",
    "    return 'weight={}&pa={}&pc={}&fit={}'.format(yarn_str,attr_str,cat_str, fit_str)\n"
   ]
  },
  {
   "cell_type": "markdown",
   "metadata": {},
   "source": [
    "### Example output:"
   ]
  },
  {
   "cell_type": "code",
   "execution_count": 16,
   "metadata": {},
   "outputs": [
    {
     "output_type": "execute_result",
     "data": {
      "text/plain": "'weight=fingering%7Clight-fingering%7Csport&pa=lace%7Cstripes%7Cripple%7Cseamed%7Ccrew-neck%7Celbow-sleeve%7Cbottom-up%7Cwritten-pattern%7Cworked-flat%7Cstripes-colorwork&pc=sweater%7Cpullover&fit=female%7Cadult%7Cfitted'"
     },
     "metadata": {},
     "execution_count": 16
    }
   ],
   "source": [
    "search_example_attr_dict = {'yarn_weight': 'Fingering',\n",
    " 'pattern_attributes': ['female', 'adult', 'fitted', 'lace',\n",
    "                        'stripes', 'ripple', 'seamed',\n",
    "                        'crew-neck', 'elbow-sleeve',\n",
    "                        'bottom-up','written-pattern',          \n",
    "                        'worked-flat', 'stripes-colorwork'],\n",
    " 'pattern_categories': ['clothing', 'sweater', 'pullover']}\n",
    "\n",
    "unique_search_url_section(search_example_attr_dict)"
   ]
  },
  {
   "cell_type": "markdown",
   "metadata": {},
   "source": [
    "## full_search_url\n",
    "This function takes the unique url section created in the previous section and adds that to the rest of the url needed to make a search query"
   ]
  },
  {
   "cell_type": "code",
   "execution_count": 18,
   "metadata": {},
   "outputs": [],
   "source": [
    "def full_search_url(url_sect):\n",
    "    return 'https://api.ravelry.com/patterns/search.json?{}&sort=recently-popular&view=captioned_thumbs'.format(url_sect)\n"
   ]
  },
  {
   "cell_type": "markdown",
   "metadata": {},
   "source": [
    "### Example output"
   ]
  },
  {
   "cell_type": "code",
   "execution_count": 19,
   "metadata": {},
   "outputs": [
    {
     "output_type": "execute_result",
     "data": {
      "text/plain": "'https://api.ravelry.com/patterns/search.json?weight=fingering%7Clight-fingering%7Csport&pa=lace%7Cstripes%7Cripple%7Cseamed%7Ccrew-neck%7Celbow-sleeve%7Cbottom-up%7Cwritten-pattern%7Cworked-flat%7Cstripes-colorwork&pc=sweater%7Cpullover&fit=female%7Cadult%7Cfitted&sort=recently-popular&view=captioned_thumbs'"
     },
     "metadata": {},
     "execution_count": 19
    }
   ],
   "source": [
    "url_sect = unique_search_url_section(search_example_attr_dict)\n",
    "full_search_url(url_sect)"
   ]
  },
  {
   "cell_type": "markdown",
   "metadata": {},
   "source": [
    "## create_search_url\n",
    "\n",
    "A combination of the two previous functions. It takes in a attribute dictionary and the output is a full search url."
   ]
  },
  {
   "cell_type": "code",
   "execution_count": 20,
   "metadata": {},
   "outputs": [],
   "source": [
    "def create_search_url(attr_dict):\n",
    "    url_sect = unique_search_url_section(attr_dict)\n",
    "    return full_search_url(url_sect)"
   ]
  },
  {
   "cell_type": "markdown",
   "metadata": {},
   "source": [
    "### Example output:"
   ]
  },
  {
   "cell_type": "code",
   "execution_count": 21,
   "metadata": {},
   "outputs": [
    {
     "output_type": "execute_result",
     "data": {
      "text/plain": "'https://api.ravelry.com/patterns/search.json?weight=fingering%7Clight-fingering%7Csport&pa=lace%7Cstripes%7Cripple%7Cseamed%7Ccrew-neck%7Celbow-sleeve%7Cbottom-up%7Cwritten-pattern%7Cworked-flat%7Cstripes-colorwork&pc=sweater%7Cpullover&fit=female%7Cadult%7Cfitted&sort=recently-popular&view=captioned_thumbs'"
     },
     "metadata": {},
     "execution_count": 21
    }
   ],
   "source": [
    "create_search_url(search_example_attr_dict)"
   ]
  },
  {
   "cell_type": "markdown",
   "metadata": {},
   "source": [
    "# yarn_weights.py"
   ]
  },
  {
   "cell_type": "markdown",
   "metadata": {},
   "source": [
    "## create_yarn_list\n",
    "The input is a yarn weight (such as \"fingering\", \"dk\", etc.), the output is a list of that yarn weight and the weight that is one lower or one higher.\n",
    "\n",
    "This function also uses a dictionary I created that is a pickle file ```yarn_id_dict.p```. This dictionary is a dictionary where the keys are the numbers 0 through 11 and the values are the names of the various yarn weights. This is done for ease of calculating the yarn weight that is one lower and one higher of the input yarn weight.\n",
    "\n",
    "In the event the input weight is either the lowest or the highest, the list will only be the input weight and the one either one lower or one higher than that input weight."
   ]
  },
  {
   "cell_type": "code",
   "execution_count": 15,
   "metadata": {},
   "outputs": [],
   "source": [
    "def create_yarn_list(input_weight):\n",
    "    id_dict = pickle.load( open( \"yarn_id_dict.p\", \"rb\" ) )\n",
    "    input_weight = input_weight.lower()\n",
    "    yarn_list = [input_weight]\n",
    "    for num,name in id_dict.items():\n",
    "        if name == input_weight:\n",
    "            input_id = num\n",
    "    if input_id == 0:\n",
    "        yarn_list.append(id_dict[1])\n",
    "    elif input_id == 11:\n",
    "        yarn_list.append(id_dict[10])\n",
    "    else:\n",
    "        yarn_list.extend((id_dict[input_id-1], id_dict[input_id+1]))\n",
    "    return yarn_list"
   ]
  },
  {
   "cell_type": "markdown",
   "metadata": {},
   "source": [
    "### Example output:"
   ]
  },
  {
   "cell_type": "code",
   "execution_count": 44,
   "metadata": {},
   "outputs": [
    {
     "output_type": "execute_result",
     "data": {
      "text/plain": "['dk', 'sport', 'worsted']"
     },
     "metadata": {},
     "execution_count": 44
    }
   ],
   "source": [
    "create_yarn_list('dk')"
   ]
  },
  {
   "cell_type": "code",
   "execution_count": 45,
   "metadata": {},
   "outputs": [
    {
     "output_type": "execute_result",
     "data": {
      "text/plain": "['thread', 'cobweb']"
     },
     "metadata": {},
     "execution_count": 45
    }
   ],
   "source": [
    "create_yarn_list('thread')"
   ]
  },
  {
   "cell_type": "markdown",
   "metadata": {},
   "source": [
    "# pattern_attr_funcs.py"
   ]
  },
  {
   "cell_type": "markdown",
   "metadata": {},
   "source": [
    "## multiple_pattern_request\n",
    "The input is a list of pattern ids, output is a json file with those patterns. In the event the request throws an error due to a faulty pattern id, the function will return 404."
   ]
  },
  {
   "cell_type": "code",
   "execution_count": 19,
   "metadata": {},
   "outputs": [],
   "source": [
    "def multiple_pattern_request(pattern_list):\n",
    "    pattern_list = [str(code) for code in pattern_list]\n",
    "    patterns_url = 'https://api.ravelry.com/patterns.json?ids={}'.format('+'.join(pattern_list))\n",
    "    patterns = requests.get(patterns_url, \n",
    "                            auth = (personal_keys.username(),personal_keys.password()))\n",
    "    if patterns.status_code is 200:\n",
    "        return patterns.json()\n",
    "    else:\n",
    "        return 404"
   ]
  },
  {
   "cell_type": "markdown",
   "metadata": {},
   "source": [
    "### Example output:"
   ]
  },
  {
   "cell_type": "code",
   "execution_count": 50,
   "metadata": {},
   "outputs": [
    {
     "output_type": "execute_result",
     "data": {
      "text/plain": "dict_keys(['169260', '273024', '548384', '713248', '819716', '942286', '1004479', '1023884', '1024387', '1024446'])"
     },
     "metadata": {},
     "execution_count": 50
    }
   ],
   "source": [
    "example_pattern_list = [819716,\n",
    " 1024446,\n",
    " 548384,\n",
    " 1024387,\n",
    " 1004479,\n",
    " 713248,\n",
    " 169260,\n",
    " 942286,\n",
    " 273024,\n",
    " 1023884]\n",
    "\n",
    "multiple_pattern_request(example_pattern_list)['patterns'].keys()"
   ]
  },
  {
   "cell_type": "markdown",
   "metadata": {},
   "source": [
    "## single_pattern_request\n",
    "This is the same as multiple_pattern_request except there is only one pattern being requested instead of a list of patterns."
   ]
  },
  {
   "cell_type": "code",
   "execution_count": 24,
   "metadata": {},
   "outputs": [],
   "source": [
    "def single_pattern_request(code):\n",
    "    if type(code) is not str:\n",
    "        code = str(code)\n",
    "    pattern_url = 'https://api.ravelry.com/patterns/{}.json'.format(code)\n",
    "    pattern = requests.get(pattern_url, \n",
    "                            auth = (personal_keys.username(),personal_keys.password()))\n",
    "    return pattern.json()['pattern']"
   ]
  },
  {
   "cell_type": "markdown",
   "metadata": {},
   "source": [
    "### Example output:"
   ]
  },
  {
   "cell_type": "code",
   "execution_count": 53,
   "metadata": {},
   "outputs": [
    {
     "output_type": "execute_result",
     "data": {
      "text/plain": "dict_keys(['comments_count', 'created_at', 'currency', 'difficulty_average', 'difficulty_count', 'downloadable', 'favorites_count', 'free', 'gauge', 'gauge_divisor', 'gauge_pattern', 'generally_available', 'id', 'name', 'pdf_url', 'permalink', 'price', 'projects_count', 'published', 'queued_projects_count', 'rating_average', 'rating_count', 'row_gauge', 'updated_at', 'url', 'yardage', 'yardage_max', 'personal_attributes', 'sizes_available', 'product_id', 'currency_symbol', 'ravelry_download', 'download_location', 'pdf_in_library', 'volumes_in_library', 'gauge_description', 'yarn_weight_description', 'yardage_description', 'pattern_needle_sizes', 'notes_html', 'notes', 'packs', 'printings', 'yarn_weight', 'craft', 'pattern_categories', 'pattern_attributes', 'pattern_author', 'photos', 'pattern_type'])"
     },
     "metadata": {},
     "execution_count": 53
    }
   ],
   "source": [
    "single_pattern_request(1023884).keys()"
   ]
  },
  {
   "cell_type": "markdown",
   "metadata": {},
   "source": [
    "## url_to_code\n",
    "This function returns the last part of a given pattern url. This last part can be used to look up the pattern.\n"
   ]
  },
  {
   "cell_type": "code",
   "execution_count": 22,
   "metadata": {},
   "outputs": [],
   "source": [
    "def url_to_code(url):\n",
    "    split_list = url.split('https://www.ravelry.com/patterns/library/')\n",
    "    return split_list[-1]"
   ]
  },
  {
   "cell_type": "markdown",
   "metadata": {},
   "source": [
    "### Example output:"
   ]
  },
  {
   "cell_type": "code",
   "execution_count": 23,
   "metadata": {},
   "outputs": [
    {
     "output_type": "execute_result",
     "data": {
      "text/plain": "'oreti'"
     },
     "metadata": {},
     "execution_count": 23
    }
   ],
   "source": [
    "example_url = 'https://www.ravelry.com/patterns/library/oreti'\n",
    "url_to_code(example_url)"
   ]
  },
  {
   "cell_type": "markdown",
   "metadata": {},
   "source": [
    "## url_to_request\n",
    "This is just a combination of url to code and single pattern request, the input is a url, and output is the pattern json"
   ]
  },
  {
   "cell_type": "code",
   "execution_count": 25,
   "metadata": {},
   "outputs": [],
   "source": [
    "def url_to_request(url):\n",
    "    code = url_to_code(url)\n",
    "    return single_pattern_request(code)"
   ]
  },
  {
   "cell_type": "markdown",
   "metadata": {},
   "source": [
    "### Example output:"
   ]
  },
  {
   "cell_type": "code",
   "execution_count": 27,
   "metadata": {},
   "outputs": [
    {
     "output_type": "execute_result",
     "data": {
      "text/plain": "dict_keys(['comments_count', 'created_at', 'currency', 'difficulty_average', 'difficulty_count', 'downloadable', 'favorites_count', 'free', 'gauge', 'gauge_divisor', 'gauge_pattern', 'generally_available', 'id', 'name', 'pdf_url', 'permalink', 'price', 'projects_count', 'published', 'queued_projects_count', 'rating_average', 'rating_count', 'row_gauge', 'updated_at', 'url', 'yardage', 'yardage_max', 'personal_attributes', 'sizes_available', 'product_id', 'currency_symbol', 'ravelry_download', 'download_location', 'pdf_in_library', 'volumes_in_library', 'gauge_description', 'yarn_weight_description', 'yardage_description', 'pattern_needle_sizes', 'notes_html', 'notes', 'packs', 'printings', 'yarn_weight', 'craft', 'pattern_categories', 'pattern_attributes', 'pattern_author', 'photos', 'pattern_type'])"
     },
     "metadata": {},
     "execution_count": 27
    }
   ],
   "source": [
    "url_to_request(example_url).keys()"
   ]
  },
  {
   "cell_type": "markdown",
   "metadata": {},
   "source": [
    "## attrs_single_pattern\n",
    "Input is the output of single_pattern_request, the output is a dictionary containing the pattern's yarn weight, pattern categories, and pattern attributes"
   ]
  },
  {
   "cell_type": "code",
   "execution_count": 21,
   "metadata": {},
   "outputs": [],
   "source": [
    "def attrs_single_pattern(pattern):\n",
    "    data = pattern['pattern_categories'][0]    \n",
    "    df = pd.io.json.json_normalize(data)\n",
    "    df = df.filter(regex = 'permalink$', axis = 1)\n",
    "    atrib_dict = df.to_dict(orient='records')[0]\n",
    "    cat_list = [v for v in atrib_dict.values() if v != 'categories']\n",
    "\n",
    "    attr_dict = {'yarn_weight':'-'.join(pattern['yarn_weight']['name'].split(' ')),\n",
    "    'pattern_attributes': [attr['permalink'] \n",
    "    for attr in pattern['pattern_attributes']],\n",
    "    'pattern_categories':cat_list}\n",
    "    return attr_dict"
   ]
  },
  {
   "cell_type": "markdown",
   "metadata": {},
   "source": [
    "### Example output:"
   ]
  },
  {
   "cell_type": "code",
   "execution_count": 55,
   "metadata": {},
   "outputs": [
    {
     "output_type": "execute_result",
     "data": {
      "text/plain": "{'yarn_weight': 'Aran',\n 'pattern_attributes': ['phototutorial',\n  'written-pattern',\n  'stripes-colorwork'],\n 'pattern_categories': ['accessories', 'neck-torso', 'cowl']}"
     },
     "metadata": {},
     "execution_count": 55
    }
   ],
   "source": [
    "pattern = single_pattern_request(1023884)\n",
    "attrs_single_pattern(pattern)"
   ]
  },
  {
   "cell_type": "markdown",
   "metadata": {},
   "source": [
    "## single_request_to_attrs\n",
    "This is just a combination of the two functions listed above. The input is a pattern code, output is the pattern's yarn weight, pattern attributes, and pattern categories."
   ]
  },
  {
   "cell_type": "code",
   "execution_count": 22,
   "metadata": {},
   "outputs": [],
   "source": [
    "def single_request_to_attrs(code):\n",
    "    pattern = single_pattern_request(code)\n",
    "    return attrs_single_pattern(pattern)"
   ]
  },
  {
   "cell_type": "markdown",
   "metadata": {},
   "source": [
    "### Example output:"
   ]
  },
  {
   "cell_type": "code",
   "execution_count": 57,
   "metadata": {},
   "outputs": [
    {
     "output_type": "execute_result",
     "data": {
      "text/plain": "{'yarn_weight': 'Aran',\n 'pattern_attributes': ['phototutorial',\n  'written-pattern',\n  'stripes-colorwork'],\n 'pattern_categories': ['accessories', 'neck-torso', 'cowl']}"
     },
     "metadata": {},
     "execution_count": 57
    }
   ],
   "source": [
    "single_request_to_attrs(1023884)"
   ]
  },
  {
   "cell_type": "markdown",
   "metadata": {},
   "source": [
    "## pattern_req\n",
    "This makes the same request as multiple_pattern_request, except it returns the value of the patterns section of the mpr json."
   ]
  },
  {
   "cell_type": "code",
   "execution_count": 23,
   "metadata": {},
   "outputs": [],
   "source": [
    "def pattern_req(pattern_list):\n",
    "    pattern_req = multiple_pattern_request(pattern_list)\n",
    "    patterns = pattern_req['patterns']\n",
    "    return patterns"
   ]
  },
  {
   "cell_type": "markdown",
   "metadata": {},
   "source": [
    "### Example output:"
   ]
  },
  {
   "cell_type": "code",
   "execution_count": 61,
   "metadata": {},
   "outputs": [
    {
     "output_type": "execute_result",
     "data": {
      "text/plain": "dict_keys(['169260', '273024', '548384', '713248', '819716', '942286', '1004479', '1023884', '1024387', '1024446'])"
     },
     "metadata": {},
     "execution_count": 61
    }
   ],
   "source": [
    "pattern_req(example_pattern_list).keys()"
   ]
  },
  {
   "cell_type": "markdown",
   "metadata": {},
   "source": [
    "## attr_dict\n",
    "Input is a pattern list, output is a dictionary of pattern codes and attributes associated with each pattern"
   ]
  },
  {
   "cell_type": "code",
   "execution_count": 24,
   "metadata": {},
   "outputs": [],
   "source": [
    "def attr_dict(pattern_list):\n",
    "    patterns = pattern_req(pattern_list)\n",
    "    attr_dict = {}\n",
    "    for key in patterns.keys():\n",
    "        attr_dict.update(({key:{\"pa_{}\".format(attr['permalink']):1 \n",
    "        for attr in patterns[key]['pattern_attributes']}}))\n",
    "    return attr_dict"
   ]
  },
  {
   "cell_type": "markdown",
   "metadata": {},
   "source": [
    "### Example output:"
   ]
  },
  {
   "cell_type": "code",
   "execution_count": 65,
   "metadata": {},
   "outputs": [
    {
     "output_type": "execute_result",
     "data": {
      "text/plain": "{'pa_female': 1,\n 'pa_adult': 1,\n 'pa_textured': 1,\n 'pa_one-piece': 1,\n 'pa_seamless': 1,\n 'pa_written-pattern': 1,\n 'pa_in-the-round': 1,\n 'pa_slipped-stitches': 1}"
     },
     "metadata": {},
     "execution_count": 65
    }
   ],
   "source": [
    "attr_dict(example_pattern_list)['169260']"
   ]
  },
  {
   "cell_type": "markdown",
   "metadata": {},
   "source": [
    "## yarn_dict\n",
    "\n",
    "Input is a pattern list, output is a dictionary of pattern codes and the yarn weight associated.\n",
    "\n",
    "The yarn weight is given as ```yarn_id_[what you would put in for url]``` \n",
    "\n",
    "For example, for a pattern whose yarn weight is dk, the output would be ```yarn_id_dk``` and a pattern whose yarn id is light fingering, the output would be ```yarn_id_light-fingering```\n",
    "\n",
    "note: since the name contains spaces, the name is split and put back together with dash where the space was\n",
    "\n",
    "In the event there is not a yarn weight listed because the pattern writer was an idiot, pattern is assigned the yarn weight \"yarn_id_None\" as a placeholder\n"
   ]
  },
  {
   "cell_type": "code",
   "execution_count": 25,
   "metadata": {},
   "outputs": [],
   "source": [
    "def yarn_dict(pattern_list):\n",
    "    patterns = pattern_req(pattern_list)\n",
    "    yarn_dict = {}\n",
    "    for key in patterns.keys():\n",
    "        if 'yarn_weight' in patterns[key]:    \n",
    "            yarn_dict.update({key:\n",
    "            {\"yarn_id_{}\".format('-'.join(patterns[key]['yarn_weight']['name'].split(' '))):1}})\n",
    "        else:\n",
    "            yarn_dict.update({key:{\"yarn_id_None\":1}})\n",
    "    return yarn_dict"
   ]
  },
  {
   "cell_type": "markdown",
   "metadata": {},
   "source": [
    "### Example output:"
   ]
  },
  {
   "cell_type": "code",
   "execution_count": 67,
   "metadata": {},
   "outputs": [
    {
     "output_type": "execute_result",
     "data": {
      "text/plain": "{'169260': {'yarn_id_DK': 1},\n '273024': {'yarn_id_Bulky': 1},\n '548384': {'yarn_id_Fingering': 1},\n '713248': {'yarn_id_Fingering': 1},\n '819716': {'yarn_id_Sport': 1},\n '942286': {'yarn_id_Worsted': 1},\n '1004479': {'yarn_id_Worsted': 1},\n '1023884': {'yarn_id_Aran': 1},\n '1024387': {'yarn_id_Sport': 1},\n '1024446': {'yarn_id_Bulky': 1}}"
     },
     "metadata": {},
     "execution_count": 67
    }
   ],
   "source": [
    "yarn_dict(example_pattern_list)"
   ]
  },
  {
   "cell_type": "markdown",
   "metadata": {},
   "source": [
    "## categ_dict\n",
    "Input is a pattern list, the output is dictionary with the pattern codes and the different categories each pattern is in."
   ]
  },
  {
   "cell_type": "code",
   "execution_count": 26,
   "metadata": {},
   "outputs": [],
   "source": [
    "def categ_dict(pattern_list):\n",
    "    patterns = pattern_req(pattern_list)\n",
    "    categ_dict = {}\n",
    "    for key in patterns.keys():\n",
    "        data = patterns[key]['pattern_categories'][0]    \n",
    "        df = pd.io.json.json_normalize(data)\n",
    "        df = df.filter(regex = 'permalink$', axis = 1)\n",
    "        atrib_dict = df.to_dict(orient='records')[0]\n",
    "        cat_dict = {\"pc_{}\".format(v):1 for v in atrib_dict.values() if v != 'categories'}\n",
    "        categ_dict.update({key:cat_dict})\n",
    "    return categ_dict"
   ]
  },
  {
   "cell_type": "markdown",
   "metadata": {},
   "source": [
    "### Example output:"
   ]
  },
  {
   "cell_type": "code",
   "execution_count": 70,
   "metadata": {},
   "outputs": [
    {
     "output_type": "execute_result",
     "data": {
      "text/plain": "{'169260': {'pc_accessories': 1, 'pc_neck-torso': 1, 'pc_cowl': 1},\n '273024': {'pc_accessories': 1, 'pc_neck-torso': 1, 'pc_cowl': 1},\n '548384': {'pc_accessories': 1, 'pc_neck-torso': 1, 'pc_cowl': 1},\n '713248': {'pc_accessories': 1, 'pc_neck-torso': 1, 'pc_cowl': 1},\n '819716': {'pc_accessories': 1, 'pc_neck-torso': 1, 'pc_cowl': 1},\n '942286': {'pc_accessories': 1, 'pc_neck-torso': 1, 'pc_cowl': 1},\n '1004479': {'pc_accessories': 1, 'pc_neck-torso': 1, 'pc_cowl': 1},\n '1023884': {'pc_accessories': 1, 'pc_neck-torso': 1, 'pc_cowl': 1},\n '1024387': {'pc_accessories': 1, 'pc_neck-torso': 1, 'pc_cowl': 1},\n '1024446': {'pc_accessories': 1, 'pc_neck-torso': 1, 'pc_cowl': 1}}"
     },
     "metadata": {},
     "execution_count": 70
    }
   ],
   "source": [
    "categ_dict(example_pattern_list)"
   ]
  },
  {
   "cell_type": "markdown",
   "metadata": {},
   "source": [
    "## all_attr_dict\n",
    "Input is a pattern list, it creates dictionary of the pattern and the pattern attributes, categories, and yarn weight all in one dict\n",
    "\n",
    "Essentially, it combines three previous functions plus compressing all three dictionaries into one\n",
    "\n",
    "Additionally, it norms each value for each pattern entry so that patterns with a lot of attributes have each attribute weighted less than those with fewer attributes \n"
   ]
  },
  {
   "cell_type": "code",
   "execution_count": 27,
   "metadata": {},
   "outputs": [],
   "source": [
    "def all_attr_dict(pattern_list):\n",
    "    attrib_dict = attr_dict(pattern_list)\n",
    "    y_dict = yarn_dict(pattern_list)\n",
    "    ca_dict = categ_dict(pattern_list)\n",
    "    finaldict = {key:[attrib_dict[key], y_dict[key], ca_dict[key]] \n",
    "                for key in y_dict.keys()}\n",
    "    for key in finaldict:\n",
    "        while len(finaldict[key])>1:\n",
    "            finaldict[key][0].update(finaldict[key][1])\n",
    "            finaldict[key].pop(1)\n",
    "        finaldict[key] = finaldict[key][0]\n",
    "    normed_fd = {key:{k:1/math.sqrt(len(d)) for k in d} for key,d in finaldict.items()}\n",
    "    return normed_fd"
   ]
  },
  {
   "cell_type": "markdown",
   "metadata": {},
   "source": [
    "### Example output:"
   ]
  },
  {
   "cell_type": "code",
   "execution_count": 74,
   "metadata": {},
   "outputs": [
    {
     "output_type": "execute_result",
     "data": {
      "text/plain": "{'169260': {'pa_female': 0.2886751345948129,\n  'pa_adult': 0.2886751345948129,\n  'pa_textured': 0.2886751345948129,\n  'pa_one-piece': 0.2886751345948129,\n  'pa_seamless': 0.2886751345948129,\n  'pa_written-pattern': 0.2886751345948129,\n  'pa_in-the-round': 0.2886751345948129,\n  'pa_slipped-stitches': 0.2886751345948129,\n  'yarn_id_DK': 0.2886751345948129,\n  'pc_accessories': 0.2886751345948129,\n  'pc_neck-torso': 0.2886751345948129,\n  'pc_cowl': 0.2886751345948129},\n '273024': {'pa_in-the-round': 0.35355339059327373,\n  'pa_unisex': 0.35355339059327373,\n  'pa_short-rows': 0.35355339059327373,\n  'pa_written-pattern': 0.35355339059327373,\n  'yarn_id_Bulky': 0.35355339059327373,\n  'pc_accessories': 0.35355339059327373,\n  'pc_neck-torso': 0.35355339059327373,\n  'pc_cowl': 0.35355339059327373},\n '548384': {'pa_male': 0.24253562503633297,\n  'pa_female': 0.24253562503633297,\n  'pa_unisex': 0.24253562503633297,\n  'pa_teen': 0.24253562503633297,\n  'pa_adult': 0.24253562503633297,\n  'pa_lace': 0.24253562503633297,\n  'pa_textured': 0.24253562503633297,\n  'pa_one-piece': 0.24253562503633297,\n  'pa_seamless': 0.24253562503633297,\n  'pa_bottom-up': 0.24253562503633297,\n  'pa_written-pattern': 0.24253562503633297,\n  'pa_in-the-round': 0.24253562503633297,\n  'pa_stripes-colorwork': 0.24253562503633297,\n  'yarn_id_Fingering': 0.24253562503633297,\n  'pc_accessories': 0.24253562503633297,\n  'pc_neck-torso': 0.24253562503633297,\n  'pc_cowl': 0.24253562503633297},\n '713248': {'pa_unisex': 0.30151134457776363,\n  'pa_adult': 0.30151134457776363,\n  'pa_one-piece': 0.30151134457776363,\n  'pa_seamless': 0.30151134457776363,\n  'pa_bottom-up': 0.30151134457776363,\n  'pa_written-pattern': 0.30151134457776363,\n  'pa_in-the-round': 0.30151134457776363,\n  'yarn_id_Fingering': 0.30151134457776363,\n  'pc_accessories': 0.30151134457776363,\n  'pc_neck-torso': 0.30151134457776363,\n  'pc_cowl': 0.30151134457776363},\n '819716': {'pa_stripes': 0.23570226039551587,\n  'pa_textured': 0.23570226039551587,\n  'pa_seamed': 0.23570226039551587,\n  'pa_asymmetric': 0.23570226039551587,\n  'pa_mosaic': 0.23570226039551587,\n  'pa_bias': 0.23570226039551587,\n  'pa_one-piece': 0.23570226039551587,\n  'pa_triangle-shaped': 0.23570226039551587,\n  'pa_written-pattern': 0.23570226039551587,\n  'pa_worked-flat': 0.23570226039551587,\n  'pa_icord-edging': 0.23570226039551587,\n  'pa_slipped-stitches': 0.23570226039551587,\n  'pa_stripes-colorwork': 0.23570226039551587,\n  'pa_schematic': 0.23570226039551587,\n  'yarn_id_Sport': 0.23570226039551587,\n  'pc_accessories': 0.23570226039551587,\n  'pc_neck-torso': 0.23570226039551587,\n  'pc_cowl': 0.23570226039551587},\n '942286': {'pa_male': 0.2581988897471611,\n  'pa_female': 0.2581988897471611,\n  'pa_unisex': 0.2581988897471611,\n  'pa_textured': 0.2581988897471611,\n  'pa_dropped-stitches': 0.2581988897471611,\n  'pa_kitchener': 0.2581988897471611,\n  'pa_one-piece': 0.2581988897471611,\n  'pa_chart': 0.2581988897471611,\n  'pa_written-pattern': 0.2581988897471611,\n  'pa_worked-flat': 0.2581988897471611,\n  'pa_schematic': 0.2581988897471611,\n  'yarn_id_Worsted': 0.2581988897471611,\n  'pc_accessories': 0.2581988897471611,\n  'pc_neck-torso': 0.2581988897471611,\n  'pc_cowl': 0.2581988897471611},\n '1004479': {'pa_straight': 0.2581988897471611,\n  'pa_moebius': 0.2581988897471611,\n  'pa_stranded': 0.2581988897471611,\n  'pa_kitchener': 0.2581988897471611,\n  'pa_one-piece': 0.2581988897471611,\n  'pa_sideways': 0.2581988897471611,\n  'pa_chart': 0.2581988897471611,\n  'pa_phototutorial': 0.2581988897471611,\n  'pa_written-pattern': 0.2581988897471611,\n  'pa_in-the-round': 0.2581988897471611,\n  'pa_provisional': 0.2581988897471611,\n  'yarn_id_Worsted': 0.2581988897471611,\n  'pc_accessories': 0.2581988897471611,\n  'pc_neck-torso': 0.2581988897471611,\n  'pc_cowl': 0.2581988897471611},\n '1023884': {'pa_phototutorial': 0.3779644730092272,\n  'pa_written-pattern': 0.3779644730092272,\n  'pa_stripes-colorwork': 0.3779644730092272,\n  'yarn_id_Aran': 0.3779644730092272,\n  'pc_accessories': 0.3779644730092272,\n  'pc_neck-torso': 0.3779644730092272,\n  'pc_cowl': 0.3779644730092272},\n '1024387': {'pa_teen': 0.23570226039551587,\n  'pa_adult': 0.23570226039551587,\n  'pa_textured': 0.23570226039551587,\n  'pa_seamed': 0.23570226039551587,\n  'pa_mosaic': 0.23570226039551587,\n  'pa_bias': 0.23570226039551587,\n  'pa_one-piece': 0.23570226039551587,\n  'pa_triangle-shaped': 0.23570226039551587,\n  'pa_chart': 0.23570226039551587,\n  'pa_written-pattern': 0.23570226039551587,\n  'pa_video-tutorial': 0.23570226039551587,\n  'pa_worked-flat': 0.23570226039551587,\n  'pa_slipped-stitches': 0.23570226039551587,\n  'pa_stripes-colorwork': 0.23570226039551587,\n  'yarn_id_Sport': 0.23570226039551587,\n  'pc_accessories': 0.23570226039551587,\n  'pc_neck-torso': 0.23570226039551587,\n  'pc_cowl': 0.23570226039551587},\n '1024446': {'pa_textured': 0.3779644730092272,\n  'pa_seamed': 0.3779644730092272,\n  'pa_written-pattern': 0.3779644730092272,\n  'yarn_id_Bulky': 0.3779644730092272,\n  'pc_accessories': 0.3779644730092272,\n  'pc_neck-torso': 0.3779644730092272,\n  'pc_cowl': 0.3779644730092272}}"
     },
     "metadata": {},
     "execution_count": 74
    }
   ],
   "source": [
    "all_attr_dict(example_pattern_list)"
   ]
  },
  {
   "cell_type": "markdown",
   "metadata": {},
   "source": [
    "# count_df_funcs.py\n"
   ]
  },
  {
   "cell_type": "markdown",
   "metadata": {},
   "source": [
    "## pattern_attr_to_df\n",
    "Input is dictionary created in all_attr_dict. It creates a dataframe whose index is pattern code, columns are various attributes, categories, and yarn weights.\n"
   ]
  },
  {
   "cell_type": "code",
   "execution_count": 28,
   "metadata": {},
   "outputs": [],
   "source": [
    "def pattern_attr_to_df(pattern_dict):\n",
    "    df_attr = pd.DataFrame(list(pattern_dict.values()), \n",
    "            index=list(pattern_dict.keys())).fillna(0)\n",
    "    return df_attr"
   ]
  },
  {
   "cell_type": "markdown",
   "metadata": {},
   "source": [
    "### Example output:"
   ]
  },
  {
   "cell_type": "code",
   "execution_count": 80,
   "metadata": {},
   "outputs": [
    {
     "output_type": "execute_result",
     "data": {
      "text/plain": "         pa_adult  pa_asymmetric   pa_bias  pa_bottom-up  pa_chart  \\\n169260   0.288675       0.000000  0.000000      0.000000  0.000000   \n273024   0.000000       0.000000  0.000000      0.000000  0.000000   \n548384   0.242536       0.000000  0.000000      0.242536  0.000000   \n713248   0.301511       0.000000  0.000000      0.301511  0.000000   \n819716   0.000000       0.235702  0.235702      0.000000  0.000000   \n942286   0.000000       0.000000  0.000000      0.000000  0.258199   \n1004479  0.000000       0.000000  0.000000      0.000000  0.258199   \n1023884  0.000000       0.000000  0.000000      0.000000  0.000000   \n1024387  0.235702       0.000000  0.235702      0.000000  0.235702   \n1024446  0.000000       0.000000  0.000000      0.000000  0.000000   \n\n         pa_dropped-stitches  pa_female  pa_icord-edging  pa_in-the-round  \\\n169260              0.000000   0.288675         0.000000         0.288675   \n273024              0.000000   0.000000         0.000000         0.353553   \n548384              0.000000   0.242536         0.000000         0.242536   \n713248              0.000000   0.000000         0.000000         0.301511   \n819716              0.000000   0.000000         0.235702         0.000000   \n942286              0.258199   0.258199         0.000000         0.000000   \n1004479             0.000000   0.000000         0.000000         0.258199   \n1023884             0.000000   0.000000         0.000000         0.000000   \n1024387             0.000000   0.000000         0.000000         0.000000   \n1024446             0.000000   0.000000         0.000000         0.000000   \n\n         pa_kitchener  ...  pa_written-pattern  pc_accessories   pc_cowl  \\\n169260       0.000000  ...            0.288675        0.288675  0.288675   \n273024       0.000000  ...            0.353553        0.353553  0.353553   \n548384       0.000000  ...            0.242536        0.242536  0.242536   \n713248       0.000000  ...            0.301511        0.301511  0.301511   \n819716       0.000000  ...            0.235702        0.235702  0.235702   \n942286       0.258199  ...            0.258199        0.258199  0.258199   \n1004479      0.258199  ...            0.258199        0.258199  0.258199   \n1023884      0.000000  ...            0.377964        0.377964  0.377964   \n1024387      0.000000  ...            0.235702        0.235702  0.235702   \n1024446      0.000000  ...            0.377964        0.377964  0.377964   \n\n         pc_neck-torso  yarn_id_Aran  yarn_id_Bulky  yarn_id_DK  \\\n169260        0.288675      0.000000       0.000000    0.288675   \n273024        0.353553      0.000000       0.353553    0.000000   \n548384        0.242536      0.000000       0.000000    0.000000   \n713248        0.301511      0.000000       0.000000    0.000000   \n819716        0.235702      0.000000       0.000000    0.000000   \n942286        0.258199      0.000000       0.000000    0.000000   \n1004479       0.258199      0.000000       0.000000    0.000000   \n1023884       0.377964      0.377964       0.000000    0.000000   \n1024387       0.235702      0.000000       0.000000    0.000000   \n1024446       0.377964      0.000000       0.377964    0.000000   \n\n         yarn_id_Fingering  yarn_id_Sport  yarn_id_Worsted  \n169260            0.000000       0.000000         0.000000  \n273024            0.000000       0.000000         0.000000  \n548384            0.242536       0.000000         0.000000  \n713248            0.301511       0.000000         0.000000  \n819716            0.000000       0.235702         0.000000  \n942286            0.000000       0.000000         0.258199  \n1004479           0.000000       0.000000         0.258199  \n1023884           0.000000       0.000000         0.000000  \n1024387           0.000000       0.235702         0.000000  \n1024446           0.000000       0.000000         0.000000  \n\n[10 rows x 43 columns]",
      "text/html": "<div>\n<style scoped>\n    .dataframe tbody tr th:only-of-type {\n        vertical-align: middle;\n    }\n\n    .dataframe tbody tr th {\n        vertical-align: top;\n    }\n\n    .dataframe thead th {\n        text-align: right;\n    }\n</style>\n<table border=\"1\" class=\"dataframe\">\n  <thead>\n    <tr style=\"text-align: right;\">\n      <th></th>\n      <th>pa_adult</th>\n      <th>pa_asymmetric</th>\n      <th>pa_bias</th>\n      <th>pa_bottom-up</th>\n      <th>pa_chart</th>\n      <th>pa_dropped-stitches</th>\n      <th>pa_female</th>\n      <th>pa_icord-edging</th>\n      <th>pa_in-the-round</th>\n      <th>pa_kitchener</th>\n      <th>...</th>\n      <th>pa_written-pattern</th>\n      <th>pc_accessories</th>\n      <th>pc_cowl</th>\n      <th>pc_neck-torso</th>\n      <th>yarn_id_Aran</th>\n      <th>yarn_id_Bulky</th>\n      <th>yarn_id_DK</th>\n      <th>yarn_id_Fingering</th>\n      <th>yarn_id_Sport</th>\n      <th>yarn_id_Worsted</th>\n    </tr>\n  </thead>\n  <tbody>\n    <tr>\n      <th>169260</th>\n      <td>0.288675</td>\n      <td>0.000000</td>\n      <td>0.000000</td>\n      <td>0.000000</td>\n      <td>0.000000</td>\n      <td>0.000000</td>\n      <td>0.288675</td>\n      <td>0.000000</td>\n      <td>0.288675</td>\n      <td>0.000000</td>\n      <td>...</td>\n      <td>0.288675</td>\n      <td>0.288675</td>\n      <td>0.288675</td>\n      <td>0.288675</td>\n      <td>0.000000</td>\n      <td>0.000000</td>\n      <td>0.288675</td>\n      <td>0.000000</td>\n      <td>0.000000</td>\n      <td>0.000000</td>\n    </tr>\n    <tr>\n      <th>273024</th>\n      <td>0.000000</td>\n      <td>0.000000</td>\n      <td>0.000000</td>\n      <td>0.000000</td>\n      <td>0.000000</td>\n      <td>0.000000</td>\n      <td>0.000000</td>\n      <td>0.000000</td>\n      <td>0.353553</td>\n      <td>0.000000</td>\n      <td>...</td>\n      <td>0.353553</td>\n      <td>0.353553</td>\n      <td>0.353553</td>\n      <td>0.353553</td>\n      <td>0.000000</td>\n      <td>0.353553</td>\n      <td>0.000000</td>\n      <td>0.000000</td>\n      <td>0.000000</td>\n      <td>0.000000</td>\n    </tr>\n    <tr>\n      <th>548384</th>\n      <td>0.242536</td>\n      <td>0.000000</td>\n      <td>0.000000</td>\n      <td>0.242536</td>\n      <td>0.000000</td>\n      <td>0.000000</td>\n      <td>0.242536</td>\n      <td>0.000000</td>\n      <td>0.242536</td>\n      <td>0.000000</td>\n      <td>...</td>\n      <td>0.242536</td>\n      <td>0.242536</td>\n      <td>0.242536</td>\n      <td>0.242536</td>\n      <td>0.000000</td>\n      <td>0.000000</td>\n      <td>0.000000</td>\n      <td>0.242536</td>\n      <td>0.000000</td>\n      <td>0.000000</td>\n    </tr>\n    <tr>\n      <th>713248</th>\n      <td>0.301511</td>\n      <td>0.000000</td>\n      <td>0.000000</td>\n      <td>0.301511</td>\n      <td>0.000000</td>\n      <td>0.000000</td>\n      <td>0.000000</td>\n      <td>0.000000</td>\n      <td>0.301511</td>\n      <td>0.000000</td>\n      <td>...</td>\n      <td>0.301511</td>\n      <td>0.301511</td>\n      <td>0.301511</td>\n      <td>0.301511</td>\n      <td>0.000000</td>\n      <td>0.000000</td>\n      <td>0.000000</td>\n      <td>0.301511</td>\n      <td>0.000000</td>\n      <td>0.000000</td>\n    </tr>\n    <tr>\n      <th>819716</th>\n      <td>0.000000</td>\n      <td>0.235702</td>\n      <td>0.235702</td>\n      <td>0.000000</td>\n      <td>0.000000</td>\n      <td>0.000000</td>\n      <td>0.000000</td>\n      <td>0.235702</td>\n      <td>0.000000</td>\n      <td>0.000000</td>\n      <td>...</td>\n      <td>0.235702</td>\n      <td>0.235702</td>\n      <td>0.235702</td>\n      <td>0.235702</td>\n      <td>0.000000</td>\n      <td>0.000000</td>\n      <td>0.000000</td>\n      <td>0.000000</td>\n      <td>0.235702</td>\n      <td>0.000000</td>\n    </tr>\n    <tr>\n      <th>942286</th>\n      <td>0.000000</td>\n      <td>0.000000</td>\n      <td>0.000000</td>\n      <td>0.000000</td>\n      <td>0.258199</td>\n      <td>0.258199</td>\n      <td>0.258199</td>\n      <td>0.000000</td>\n      <td>0.000000</td>\n      <td>0.258199</td>\n      <td>...</td>\n      <td>0.258199</td>\n      <td>0.258199</td>\n      <td>0.258199</td>\n      <td>0.258199</td>\n      <td>0.000000</td>\n      <td>0.000000</td>\n      <td>0.000000</td>\n      <td>0.000000</td>\n      <td>0.000000</td>\n      <td>0.258199</td>\n    </tr>\n    <tr>\n      <th>1004479</th>\n      <td>0.000000</td>\n      <td>0.000000</td>\n      <td>0.000000</td>\n      <td>0.000000</td>\n      <td>0.258199</td>\n      <td>0.000000</td>\n      <td>0.000000</td>\n      <td>0.000000</td>\n      <td>0.258199</td>\n      <td>0.258199</td>\n      <td>...</td>\n      <td>0.258199</td>\n      <td>0.258199</td>\n      <td>0.258199</td>\n      <td>0.258199</td>\n      <td>0.000000</td>\n      <td>0.000000</td>\n      <td>0.000000</td>\n      <td>0.000000</td>\n      <td>0.000000</td>\n      <td>0.258199</td>\n    </tr>\n    <tr>\n      <th>1023884</th>\n      <td>0.000000</td>\n      <td>0.000000</td>\n      <td>0.000000</td>\n      <td>0.000000</td>\n      <td>0.000000</td>\n      <td>0.000000</td>\n      <td>0.000000</td>\n      <td>0.000000</td>\n      <td>0.000000</td>\n      <td>0.000000</td>\n      <td>...</td>\n      <td>0.377964</td>\n      <td>0.377964</td>\n      <td>0.377964</td>\n      <td>0.377964</td>\n      <td>0.377964</td>\n      <td>0.000000</td>\n      <td>0.000000</td>\n      <td>0.000000</td>\n      <td>0.000000</td>\n      <td>0.000000</td>\n    </tr>\n    <tr>\n      <th>1024387</th>\n      <td>0.235702</td>\n      <td>0.000000</td>\n      <td>0.235702</td>\n      <td>0.000000</td>\n      <td>0.235702</td>\n      <td>0.000000</td>\n      <td>0.000000</td>\n      <td>0.000000</td>\n      <td>0.000000</td>\n      <td>0.000000</td>\n      <td>...</td>\n      <td>0.235702</td>\n      <td>0.235702</td>\n      <td>0.235702</td>\n      <td>0.235702</td>\n      <td>0.000000</td>\n      <td>0.000000</td>\n      <td>0.000000</td>\n      <td>0.000000</td>\n      <td>0.235702</td>\n      <td>0.000000</td>\n    </tr>\n    <tr>\n      <th>1024446</th>\n      <td>0.000000</td>\n      <td>0.000000</td>\n      <td>0.000000</td>\n      <td>0.000000</td>\n      <td>0.000000</td>\n      <td>0.000000</td>\n      <td>0.000000</td>\n      <td>0.000000</td>\n      <td>0.000000</td>\n      <td>0.000000</td>\n      <td>...</td>\n      <td>0.377964</td>\n      <td>0.377964</td>\n      <td>0.377964</td>\n      <td>0.377964</td>\n      <td>0.000000</td>\n      <td>0.377964</td>\n      <td>0.000000</td>\n      <td>0.000000</td>\n      <td>0.000000</td>\n      <td>0.000000</td>\n    </tr>\n  </tbody>\n</table>\n<p>10 rows × 43 columns</p>\n</div>"
     },
     "metadata": {},
     "execution_count": 80
    }
   ],
   "source": [
    "example_attr_dict = all_attr_dict(example_pattern_list)\n",
    "pattern_attr_to_df(example_attr_dict)"
   ]
  },
  {
   "cell_type": "markdown",
   "metadata": {},
   "source": [
    "## pattern_list_to_df\n",
    "Input is a pattern list, output is a dataframe of all the patterns and their attributes. Essentially a combo of all_attr_dict and pattern_attr_to_df"
   ]
  },
  {
   "cell_type": "code",
   "execution_count": 29,
   "metadata": {},
   "outputs": [],
   "source": [
    "def pattern_list_to_df(pattern_list):\n",
    "    pattern_dict = all_attr_dict(pattern_list)\n",
    "    df_attr = pattern_attr_to_df(pattern_dict)\n",
    "    return df_attr"
   ]
  },
  {
   "cell_type": "markdown",
   "metadata": {},
   "source": [
    "### Example output:"
   ]
  },
  {
   "cell_type": "code",
   "execution_count": 81,
   "metadata": {},
   "outputs": [
    {
     "output_type": "execute_result",
     "data": {
      "text/plain": "         pa_adult  pa_asymmetric   pa_bias  pa_bottom-up  pa_chart  \\\n169260   0.288675       0.000000  0.000000      0.000000  0.000000   \n273024   0.000000       0.000000  0.000000      0.000000  0.000000   \n548384   0.242536       0.000000  0.000000      0.242536  0.000000   \n713248   0.301511       0.000000  0.000000      0.301511  0.000000   \n819716   0.000000       0.235702  0.235702      0.000000  0.000000   \n942286   0.000000       0.000000  0.000000      0.000000  0.258199   \n1004479  0.000000       0.000000  0.000000      0.000000  0.258199   \n1023884  0.000000       0.000000  0.000000      0.000000  0.000000   \n1024387  0.235702       0.000000  0.235702      0.000000  0.235702   \n1024446  0.000000       0.000000  0.000000      0.000000  0.000000   \n\n         pa_dropped-stitches  pa_female  pa_icord-edging  pa_in-the-round  \\\n169260              0.000000   0.288675         0.000000         0.288675   \n273024              0.000000   0.000000         0.000000         0.353553   \n548384              0.000000   0.242536         0.000000         0.242536   \n713248              0.000000   0.000000         0.000000         0.301511   \n819716              0.000000   0.000000         0.235702         0.000000   \n942286              0.258199   0.258199         0.000000         0.000000   \n1004479             0.000000   0.000000         0.000000         0.258199   \n1023884             0.000000   0.000000         0.000000         0.000000   \n1024387             0.000000   0.000000         0.000000         0.000000   \n1024446             0.000000   0.000000         0.000000         0.000000   \n\n         pa_kitchener  ...  pa_written-pattern  pc_accessories   pc_cowl  \\\n169260       0.000000  ...            0.288675        0.288675  0.288675   \n273024       0.000000  ...            0.353553        0.353553  0.353553   \n548384       0.000000  ...            0.242536        0.242536  0.242536   \n713248       0.000000  ...            0.301511        0.301511  0.301511   \n819716       0.000000  ...            0.235702        0.235702  0.235702   \n942286       0.258199  ...            0.258199        0.258199  0.258199   \n1004479      0.258199  ...            0.258199        0.258199  0.258199   \n1023884      0.000000  ...            0.377964        0.377964  0.377964   \n1024387      0.000000  ...            0.235702        0.235702  0.235702   \n1024446      0.000000  ...            0.377964        0.377964  0.377964   \n\n         pc_neck-torso  yarn_id_Aran  yarn_id_Bulky  yarn_id_DK  \\\n169260        0.288675      0.000000       0.000000    0.288675   \n273024        0.353553      0.000000       0.353553    0.000000   \n548384        0.242536      0.000000       0.000000    0.000000   \n713248        0.301511      0.000000       0.000000    0.000000   \n819716        0.235702      0.000000       0.000000    0.000000   \n942286        0.258199      0.000000       0.000000    0.000000   \n1004479       0.258199      0.000000       0.000000    0.000000   \n1023884       0.377964      0.377964       0.000000    0.000000   \n1024387       0.235702      0.000000       0.000000    0.000000   \n1024446       0.377964      0.000000       0.377964    0.000000   \n\n         yarn_id_Fingering  yarn_id_Sport  yarn_id_Worsted  \n169260            0.000000       0.000000         0.000000  \n273024            0.000000       0.000000         0.000000  \n548384            0.242536       0.000000         0.000000  \n713248            0.301511       0.000000         0.000000  \n819716            0.000000       0.235702         0.000000  \n942286            0.000000       0.000000         0.258199  \n1004479           0.000000       0.000000         0.258199  \n1023884           0.000000       0.000000         0.000000  \n1024387           0.000000       0.235702         0.000000  \n1024446           0.000000       0.000000         0.000000  \n\n[10 rows x 43 columns]",
      "text/html": "<div>\n<style scoped>\n    .dataframe tbody tr th:only-of-type {\n        vertical-align: middle;\n    }\n\n    .dataframe tbody tr th {\n        vertical-align: top;\n    }\n\n    .dataframe thead th {\n        text-align: right;\n    }\n</style>\n<table border=\"1\" class=\"dataframe\">\n  <thead>\n    <tr style=\"text-align: right;\">\n      <th></th>\n      <th>pa_adult</th>\n      <th>pa_asymmetric</th>\n      <th>pa_bias</th>\n      <th>pa_bottom-up</th>\n      <th>pa_chart</th>\n      <th>pa_dropped-stitches</th>\n      <th>pa_female</th>\n      <th>pa_icord-edging</th>\n      <th>pa_in-the-round</th>\n      <th>pa_kitchener</th>\n      <th>...</th>\n      <th>pa_written-pattern</th>\n      <th>pc_accessories</th>\n      <th>pc_cowl</th>\n      <th>pc_neck-torso</th>\n      <th>yarn_id_Aran</th>\n      <th>yarn_id_Bulky</th>\n      <th>yarn_id_DK</th>\n      <th>yarn_id_Fingering</th>\n      <th>yarn_id_Sport</th>\n      <th>yarn_id_Worsted</th>\n    </tr>\n  </thead>\n  <tbody>\n    <tr>\n      <th>169260</th>\n      <td>0.288675</td>\n      <td>0.000000</td>\n      <td>0.000000</td>\n      <td>0.000000</td>\n      <td>0.000000</td>\n      <td>0.000000</td>\n      <td>0.288675</td>\n      <td>0.000000</td>\n      <td>0.288675</td>\n      <td>0.000000</td>\n      <td>...</td>\n      <td>0.288675</td>\n      <td>0.288675</td>\n      <td>0.288675</td>\n      <td>0.288675</td>\n      <td>0.000000</td>\n      <td>0.000000</td>\n      <td>0.288675</td>\n      <td>0.000000</td>\n      <td>0.000000</td>\n      <td>0.000000</td>\n    </tr>\n    <tr>\n      <th>273024</th>\n      <td>0.000000</td>\n      <td>0.000000</td>\n      <td>0.000000</td>\n      <td>0.000000</td>\n      <td>0.000000</td>\n      <td>0.000000</td>\n      <td>0.000000</td>\n      <td>0.000000</td>\n      <td>0.353553</td>\n      <td>0.000000</td>\n      <td>...</td>\n      <td>0.353553</td>\n      <td>0.353553</td>\n      <td>0.353553</td>\n      <td>0.353553</td>\n      <td>0.000000</td>\n      <td>0.353553</td>\n      <td>0.000000</td>\n      <td>0.000000</td>\n      <td>0.000000</td>\n      <td>0.000000</td>\n    </tr>\n    <tr>\n      <th>548384</th>\n      <td>0.242536</td>\n      <td>0.000000</td>\n      <td>0.000000</td>\n      <td>0.242536</td>\n      <td>0.000000</td>\n      <td>0.000000</td>\n      <td>0.242536</td>\n      <td>0.000000</td>\n      <td>0.242536</td>\n      <td>0.000000</td>\n      <td>...</td>\n      <td>0.242536</td>\n      <td>0.242536</td>\n      <td>0.242536</td>\n      <td>0.242536</td>\n      <td>0.000000</td>\n      <td>0.000000</td>\n      <td>0.000000</td>\n      <td>0.242536</td>\n      <td>0.000000</td>\n      <td>0.000000</td>\n    </tr>\n    <tr>\n      <th>713248</th>\n      <td>0.301511</td>\n      <td>0.000000</td>\n      <td>0.000000</td>\n      <td>0.301511</td>\n      <td>0.000000</td>\n      <td>0.000000</td>\n      <td>0.000000</td>\n      <td>0.000000</td>\n      <td>0.301511</td>\n      <td>0.000000</td>\n      <td>...</td>\n      <td>0.301511</td>\n      <td>0.301511</td>\n      <td>0.301511</td>\n      <td>0.301511</td>\n      <td>0.000000</td>\n      <td>0.000000</td>\n      <td>0.000000</td>\n      <td>0.301511</td>\n      <td>0.000000</td>\n      <td>0.000000</td>\n    </tr>\n    <tr>\n      <th>819716</th>\n      <td>0.000000</td>\n      <td>0.235702</td>\n      <td>0.235702</td>\n      <td>0.000000</td>\n      <td>0.000000</td>\n      <td>0.000000</td>\n      <td>0.000000</td>\n      <td>0.235702</td>\n      <td>0.000000</td>\n      <td>0.000000</td>\n      <td>...</td>\n      <td>0.235702</td>\n      <td>0.235702</td>\n      <td>0.235702</td>\n      <td>0.235702</td>\n      <td>0.000000</td>\n      <td>0.000000</td>\n      <td>0.000000</td>\n      <td>0.000000</td>\n      <td>0.235702</td>\n      <td>0.000000</td>\n    </tr>\n    <tr>\n      <th>942286</th>\n      <td>0.000000</td>\n      <td>0.000000</td>\n      <td>0.000000</td>\n      <td>0.000000</td>\n      <td>0.258199</td>\n      <td>0.258199</td>\n      <td>0.258199</td>\n      <td>0.000000</td>\n      <td>0.000000</td>\n      <td>0.258199</td>\n      <td>...</td>\n      <td>0.258199</td>\n      <td>0.258199</td>\n      <td>0.258199</td>\n      <td>0.258199</td>\n      <td>0.000000</td>\n      <td>0.000000</td>\n      <td>0.000000</td>\n      <td>0.000000</td>\n      <td>0.000000</td>\n      <td>0.258199</td>\n    </tr>\n    <tr>\n      <th>1004479</th>\n      <td>0.000000</td>\n      <td>0.000000</td>\n      <td>0.000000</td>\n      <td>0.000000</td>\n      <td>0.258199</td>\n      <td>0.000000</td>\n      <td>0.000000</td>\n      <td>0.000000</td>\n      <td>0.258199</td>\n      <td>0.258199</td>\n      <td>...</td>\n      <td>0.258199</td>\n      <td>0.258199</td>\n      <td>0.258199</td>\n      <td>0.258199</td>\n      <td>0.000000</td>\n      <td>0.000000</td>\n      <td>0.000000</td>\n      <td>0.000000</td>\n      <td>0.000000</td>\n      <td>0.258199</td>\n    </tr>\n    <tr>\n      <th>1023884</th>\n      <td>0.000000</td>\n      <td>0.000000</td>\n      <td>0.000000</td>\n      <td>0.000000</td>\n      <td>0.000000</td>\n      <td>0.000000</td>\n      <td>0.000000</td>\n      <td>0.000000</td>\n      <td>0.000000</td>\n      <td>0.000000</td>\n      <td>...</td>\n      <td>0.377964</td>\n      <td>0.377964</td>\n      <td>0.377964</td>\n      <td>0.377964</td>\n      <td>0.377964</td>\n      <td>0.000000</td>\n      <td>0.000000</td>\n      <td>0.000000</td>\n      <td>0.000000</td>\n      <td>0.000000</td>\n    </tr>\n    <tr>\n      <th>1024387</th>\n      <td>0.235702</td>\n      <td>0.000000</td>\n      <td>0.235702</td>\n      <td>0.000000</td>\n      <td>0.235702</td>\n      <td>0.000000</td>\n      <td>0.000000</td>\n      <td>0.000000</td>\n      <td>0.000000</td>\n      <td>0.000000</td>\n      <td>...</td>\n      <td>0.235702</td>\n      <td>0.235702</td>\n      <td>0.235702</td>\n      <td>0.235702</td>\n      <td>0.000000</td>\n      <td>0.000000</td>\n      <td>0.000000</td>\n      <td>0.000000</td>\n      <td>0.235702</td>\n      <td>0.000000</td>\n    </tr>\n    <tr>\n      <th>1024446</th>\n      <td>0.000000</td>\n      <td>0.000000</td>\n      <td>0.000000</td>\n      <td>0.000000</td>\n      <td>0.000000</td>\n      <td>0.000000</td>\n      <td>0.000000</td>\n      <td>0.000000</td>\n      <td>0.000000</td>\n      <td>0.000000</td>\n      <td>...</td>\n      <td>0.377964</td>\n      <td>0.377964</td>\n      <td>0.377964</td>\n      <td>0.377964</td>\n      <td>0.000000</td>\n      <td>0.377964</td>\n      <td>0.000000</td>\n      <td>0.000000</td>\n      <td>0.000000</td>\n      <td>0.000000</td>\n    </tr>\n  </tbody>\n</table>\n<p>10 rows × 43 columns</p>\n</div>"
     },
     "metadata": {},
     "execution_count": 81
    }
   ],
   "source": [
    "pattern_list_to_df(example_pattern_list)"
   ]
  },
  {
   "cell_type": "markdown",
   "metadata": {},
   "source": [
    "## user_profile_df\n",
    "\n",
    "Input is a username, output is a df of all the user's favs and projects in one dataframe. \n",
    "\n",
    "Dataframe columns include pattern categories (prefaced with \"pc_\"), pattern attributes (prefaced with \"pa_\"), and yarn weight (prefaced with \"yarn_id_\"). \n",
    "\n",
    "Output also includes a final column that is user data. Each code either gets a 1 if it's in favs or a 3 or user's rating if it's in their projects\n"
   ]
  },
  {
   "cell_type": "code",
   "execution_count": 37,
   "metadata": {},
   "outputs": [],
   "source": [
    "def user_profile_df(username):\n",
    "    fav_list = get_favs_list(username)\n",
    "    proj_list = get_project_list_from_username(username)\n",
    "    full_list = list(set(fav_list+proj_list))\n",
    "    df = pattern_list_to_df(full_list)\n",
    "    user_data_dict = user_data(username)\n",
    "    df['user_data'] = pd.Series(user_data_dict)\n",
    "    return df "
   ]
  },
  {
   "cell_type": "markdown",
   "metadata": {},
   "source": [
    "### Example output:"
   ]
  },
  {
   "cell_type": "code",
   "execution_count": 38,
   "metadata": {},
   "outputs": [
    {
     "output_type": "execute_result",
     "data": {
      "text/plain": "        pa_3-4-sleeve  pa_3-dimensional  pa_Intarsia  pa_Shetland  pa_adult  \\\n36436             0.0               0.0          0.0          0.0  0.242536   \n57264             0.0               0.0          0.0          0.0  0.229416   \n78651             0.0               0.0          0.0          0.0  0.000000   \n91776             0.0               0.0          0.0          0.0  0.316228   \n103767            0.0               0.0          0.0          0.0  0.208514   \n105865            0.0               0.0          0.0          0.0  0.250000   \n118820            0.0               0.0          0.0          0.0  0.301511   \n121493            0.0               0.0          0.0          0.0  0.235702   \n132791            0.0               0.0          0.0          0.0  0.277350   \n171113            0.0               0.0          0.0          0.0  0.000000   \n\n        pa_afterthought-pocket  pa_aline  pa_amigurumi  pa_appliqued  \\\n36436                      0.0       0.0           0.0           0.0   \n57264                      0.0       0.0           0.0           0.0   \n78651                      0.0       0.0           0.0           0.0   \n91776                      0.0       0.0           0.0           0.0   \n103767                     0.0       0.0           0.0           0.0   \n105865                     0.0       0.0           0.0           0.0   \n118820                     0.0       0.0           0.0           0.0   \n121493                     0.0       0.0           0.0           0.0   \n132791                     0.0       0.0           0.0           0.0   \n171113                     0.0       0.0           0.0           0.0   \n\n        pa_asymmetric  ...  yarn_id_Bulky  yarn_id_DK  yarn_id_Fingering  \\\n36436             0.0  ...       0.000000         0.0           0.242536   \n57264             0.0  ...       0.000000         0.0           0.000000   \n78651             0.0  ...       0.000000         0.0           0.277350   \n91776             0.0  ...       0.000000         0.0           0.000000   \n103767            0.0  ...       0.208514         0.0           0.000000   \n105865            0.0  ...       0.000000         0.0           0.000000   \n118820            0.0  ...       0.000000         0.0           0.301511   \n121493            0.0  ...       0.235702         0.0           0.000000   \n132791            0.0  ...       0.000000         0.0           0.277350   \n171113            0.0  ...       0.000000         0.0           0.333333   \n\n        yarn_id_Lace  yarn_id_Light-Fingering  yarn_id_None  yarn_id_Sport  \\\n36436       0.000000                      0.0           0.0       0.000000   \n57264       0.000000                      0.0           0.0       0.229416   \n78651       0.000000                      0.0           0.0       0.000000   \n91776       0.316228                      0.0           0.0       0.000000   \n103767      0.000000                      0.0           0.0       0.000000   \n105865      0.000000                      0.0           0.0       0.000000   \n118820      0.000000                      0.0           0.0       0.000000   \n121493      0.000000                      0.0           0.0       0.000000   \n132791      0.000000                      0.0           0.0       0.000000   \n171113      0.000000                      0.0           0.0       0.000000   \n\n        yarn_id_Super-Bulky  yarn_id_Worsted  user_data  \n36436                   0.0             0.00          1  \n57264                   0.0             0.00          1  \n78651                   0.0             0.00          1  \n91776                   0.0             0.00          3  \n103767                  0.0             0.00          4  \n105865                  0.0             0.25          1  \n118820                  0.0             0.00          3  \n121493                  0.0             0.00          1  \n132791                  0.0             0.00          1  \n171113                  0.0             0.00          1  \n\n[10 rows x 167 columns]",
      "text/html": "<div>\n<style scoped>\n    .dataframe tbody tr th:only-of-type {\n        vertical-align: middle;\n    }\n\n    .dataframe tbody tr th {\n        vertical-align: top;\n    }\n\n    .dataframe thead th {\n        text-align: right;\n    }\n</style>\n<table border=\"1\" class=\"dataframe\">\n  <thead>\n    <tr style=\"text-align: right;\">\n      <th></th>\n      <th>pa_3-4-sleeve</th>\n      <th>pa_3-dimensional</th>\n      <th>pa_Intarsia</th>\n      <th>pa_Shetland</th>\n      <th>pa_adult</th>\n      <th>pa_afterthought-pocket</th>\n      <th>pa_aline</th>\n      <th>pa_amigurumi</th>\n      <th>pa_appliqued</th>\n      <th>pa_asymmetric</th>\n      <th>...</th>\n      <th>yarn_id_Bulky</th>\n      <th>yarn_id_DK</th>\n      <th>yarn_id_Fingering</th>\n      <th>yarn_id_Lace</th>\n      <th>yarn_id_Light-Fingering</th>\n      <th>yarn_id_None</th>\n      <th>yarn_id_Sport</th>\n      <th>yarn_id_Super-Bulky</th>\n      <th>yarn_id_Worsted</th>\n      <th>user_data</th>\n    </tr>\n  </thead>\n  <tbody>\n    <tr>\n      <th>36436</th>\n      <td>0.0</td>\n      <td>0.0</td>\n      <td>0.0</td>\n      <td>0.0</td>\n      <td>0.242536</td>\n      <td>0.0</td>\n      <td>0.0</td>\n      <td>0.0</td>\n      <td>0.0</td>\n      <td>0.0</td>\n      <td>...</td>\n      <td>0.000000</td>\n      <td>0.0</td>\n      <td>0.242536</td>\n      <td>0.000000</td>\n      <td>0.0</td>\n      <td>0.0</td>\n      <td>0.000000</td>\n      <td>0.0</td>\n      <td>0.00</td>\n      <td>1</td>\n    </tr>\n    <tr>\n      <th>57264</th>\n      <td>0.0</td>\n      <td>0.0</td>\n      <td>0.0</td>\n      <td>0.0</td>\n      <td>0.229416</td>\n      <td>0.0</td>\n      <td>0.0</td>\n      <td>0.0</td>\n      <td>0.0</td>\n      <td>0.0</td>\n      <td>...</td>\n      <td>0.000000</td>\n      <td>0.0</td>\n      <td>0.000000</td>\n      <td>0.000000</td>\n      <td>0.0</td>\n      <td>0.0</td>\n      <td>0.229416</td>\n      <td>0.0</td>\n      <td>0.00</td>\n      <td>1</td>\n    </tr>\n    <tr>\n      <th>78651</th>\n      <td>0.0</td>\n      <td>0.0</td>\n      <td>0.0</td>\n      <td>0.0</td>\n      <td>0.000000</td>\n      <td>0.0</td>\n      <td>0.0</td>\n      <td>0.0</td>\n      <td>0.0</td>\n      <td>0.0</td>\n      <td>...</td>\n      <td>0.000000</td>\n      <td>0.0</td>\n      <td>0.277350</td>\n      <td>0.000000</td>\n      <td>0.0</td>\n      <td>0.0</td>\n      <td>0.000000</td>\n      <td>0.0</td>\n      <td>0.00</td>\n      <td>1</td>\n    </tr>\n    <tr>\n      <th>91776</th>\n      <td>0.0</td>\n      <td>0.0</td>\n      <td>0.0</td>\n      <td>0.0</td>\n      <td>0.316228</td>\n      <td>0.0</td>\n      <td>0.0</td>\n      <td>0.0</td>\n      <td>0.0</td>\n      <td>0.0</td>\n      <td>...</td>\n      <td>0.000000</td>\n      <td>0.0</td>\n      <td>0.000000</td>\n      <td>0.316228</td>\n      <td>0.0</td>\n      <td>0.0</td>\n      <td>0.000000</td>\n      <td>0.0</td>\n      <td>0.00</td>\n      <td>3</td>\n    </tr>\n    <tr>\n      <th>103767</th>\n      <td>0.0</td>\n      <td>0.0</td>\n      <td>0.0</td>\n      <td>0.0</td>\n      <td>0.208514</td>\n      <td>0.0</td>\n      <td>0.0</td>\n      <td>0.0</td>\n      <td>0.0</td>\n      <td>0.0</td>\n      <td>...</td>\n      <td>0.208514</td>\n      <td>0.0</td>\n      <td>0.000000</td>\n      <td>0.000000</td>\n      <td>0.0</td>\n      <td>0.0</td>\n      <td>0.000000</td>\n      <td>0.0</td>\n      <td>0.00</td>\n      <td>4</td>\n    </tr>\n    <tr>\n      <th>105865</th>\n      <td>0.0</td>\n      <td>0.0</td>\n      <td>0.0</td>\n      <td>0.0</td>\n      <td>0.250000</td>\n      <td>0.0</td>\n      <td>0.0</td>\n      <td>0.0</td>\n      <td>0.0</td>\n      <td>0.0</td>\n      <td>...</td>\n      <td>0.000000</td>\n      <td>0.0</td>\n      <td>0.000000</td>\n      <td>0.000000</td>\n      <td>0.0</td>\n      <td>0.0</td>\n      <td>0.000000</td>\n      <td>0.0</td>\n      <td>0.25</td>\n      <td>1</td>\n    </tr>\n    <tr>\n      <th>118820</th>\n      <td>0.0</td>\n      <td>0.0</td>\n      <td>0.0</td>\n      <td>0.0</td>\n      <td>0.301511</td>\n      <td>0.0</td>\n      <td>0.0</td>\n      <td>0.0</td>\n      <td>0.0</td>\n      <td>0.0</td>\n      <td>...</td>\n      <td>0.000000</td>\n      <td>0.0</td>\n      <td>0.301511</td>\n      <td>0.000000</td>\n      <td>0.0</td>\n      <td>0.0</td>\n      <td>0.000000</td>\n      <td>0.0</td>\n      <td>0.00</td>\n      <td>3</td>\n    </tr>\n    <tr>\n      <th>121493</th>\n      <td>0.0</td>\n      <td>0.0</td>\n      <td>0.0</td>\n      <td>0.0</td>\n      <td>0.235702</td>\n      <td>0.0</td>\n      <td>0.0</td>\n      <td>0.0</td>\n      <td>0.0</td>\n      <td>0.0</td>\n      <td>...</td>\n      <td>0.235702</td>\n      <td>0.0</td>\n      <td>0.000000</td>\n      <td>0.000000</td>\n      <td>0.0</td>\n      <td>0.0</td>\n      <td>0.000000</td>\n      <td>0.0</td>\n      <td>0.00</td>\n      <td>1</td>\n    </tr>\n    <tr>\n      <th>132791</th>\n      <td>0.0</td>\n      <td>0.0</td>\n      <td>0.0</td>\n      <td>0.0</td>\n      <td>0.277350</td>\n      <td>0.0</td>\n      <td>0.0</td>\n      <td>0.0</td>\n      <td>0.0</td>\n      <td>0.0</td>\n      <td>...</td>\n      <td>0.000000</td>\n      <td>0.0</td>\n      <td>0.277350</td>\n      <td>0.000000</td>\n      <td>0.0</td>\n      <td>0.0</td>\n      <td>0.000000</td>\n      <td>0.0</td>\n      <td>0.00</td>\n      <td>1</td>\n    </tr>\n    <tr>\n      <th>171113</th>\n      <td>0.0</td>\n      <td>0.0</td>\n      <td>0.0</td>\n      <td>0.0</td>\n      <td>0.000000</td>\n      <td>0.0</td>\n      <td>0.0</td>\n      <td>0.0</td>\n      <td>0.0</td>\n      <td>0.0</td>\n      <td>...</td>\n      <td>0.000000</td>\n      <td>0.0</td>\n      <td>0.333333</td>\n      <td>0.000000</td>\n      <td>0.0</td>\n      <td>0.0</td>\n      <td>0.000000</td>\n      <td>0.0</td>\n      <td>0.00</td>\n      <td>1</td>\n    </tr>\n  </tbody>\n</table>\n<p>10 rows × 167 columns</p>\n</div>"
     },
     "metadata": {},
     "execution_count": 38
    }
   ],
   "source": [
    "user_profile_df(\"katec125\").head(10)"
   ]
  },
  {
   "cell_type": "markdown",
   "metadata": {},
   "source": [
    "## user_profile_dict\n",
    "This function takes in the previously made dataframe, and then takes the dot product of each column and the user data column. Each product then gets added to a dictionary where the key is a given attribute and the value is the dot product."
   ]
  },
  {
   "cell_type": "code",
   "execution_count": 39,
   "metadata": {},
   "outputs": [],
   "source": [
    "def user_profile_dict(user_data_df):\n",
    "     return {col:np.dot(user_data_df[col],user_data_df.user_data) for col in list(user_data_df.columns)[:-1]}"
   ]
  },
  {
   "cell_type": "markdown",
   "metadata": {},
   "source": [
    "### Example output:"
   ]
  },
  {
   "cell_type": "code",
   "execution_count": 41,
   "metadata": {},
   "outputs": [
    {
     "output_type": "execute_result",
     "data": {
      "text/plain": "{'pa_3-4-sleeve': 1.5369028913029648,\n 'pa_3-dimensional': 0.7862127634730902,\n 'pa_Intarsia': 1.8912033012166127,\n 'pa_Shetland': 0.7282378854318489,\n 'pa_adult': 30.239751759389442,\n 'pa_afterthought-pocket': 0.23570226039551587,\n 'pa_aline': 1.7351376052018876,\n 'pa_amigurumi': 0.3779644730092272,\n 'pa_appliqued': 0.6255432421712244,\n 'pa_asymmetric': 1.5612385803482762,\n 'pa_baby': 0.3333333333333333,\n 'pa_ballet-neck': 0.862955612973055,\n 'pa_beads': 1.3363062095621219,\n 'pa_bias': 0.6976336241065542,\n 'pa_boat-neck': 1.8410759723558563,\n 'pa_bobble-or-popcorn': 0.2672612419124244,\n 'pa_bottom-up': 14.068443875731088,\n 'pa_bracelet-sleeve': 0.8729158626938447,\n 'pa_brioche-tuck': 3.337717184833733,\n 'pa_buttoned': 0.4661424227863119,\n 'pa_buttonholes': 0.22360679774997896,\n 'pa_cables': 3.006497992007887,\n 'pa_cap-sleeve': 1.79438020684445,\n 'pa_chart': 23.54558881330513,\n 'pa_child': 2.473742042999813,\n 'pa_circle-shaped': 0.5547001962252291,\n 'pa_circular-yoke': 9.399198577215506,\n 'pa_collar': 1.1296518609910604,\n 'pa_contiguous': 0.8491500399212033,\n 'pa_corrugated-ribbing': 0.7282378854318489,\n 'pa_crescent-shape': 4.32729204214586,\n 'pa_crew-neck': 6.6272461877588436,\n 'pa_cropped': 2.6932508804464073,\n 'pa_cuffed-sleeve': 1.5799998616074418,\n 'pa_danish': 0.19245008972987526,\n 'pa_dolman-sleeve': 0.7517205708844794,\n 'pa_drop-sleeve': 0.9617949700490638,\n 'pa_dropped-stitches': 1.0754509424451957,\n 'pa_elbow-sleeve': 0.9208502269358976,\n 'pa_embroidery': 0.2672612419124244,\n 'pa_estonian': 0.21320071635561041,\n 'pa_eyelets': 5.5075466915545395,\n 'pa_fairisle': 0.6329236492437734,\n 'pa_female': 20.41897847728903,\n 'pa_fitted': 7.586344973076538,\n 'pa_flutter-sleeve': 0.19611613513818404,\n 'pa_front-fastening': 0.21320071635561041,\n 'pa_funnel-neck': 0.47941573387056174,\n 'pa_gathers': 0.20851441405707477,\n 'pa_gusset': 1.706317759470564,\n 'pa_halfcircle-shape': 1.6358413819655724,\n 'pa_hems': 0.45302253162054074,\n 'pa_hidden-pocket': 0.23570226039551587,\n 'pa_icelandic': 1.721873371407856,\n 'pa_icord': 2.9745016932559314,\n 'pa_icord-edging': 2.047944768870668,\n 'pa_in-the-round': 24.05044583018177,\n 'pa_kitchener': 3.9490863273584167,\n 'pa_lace': 12.01031997818861,\n 'pa_lace-edging': 0.8208868497528694,\n 'pa_long-sleeve': 6.058717989675474,\n 'pa_male': 4.178801632894206,\n 'pa_mature': 0.3779644730092272,\n 'pa_mesh': 1.5351076953217069,\n 'pa_modular': 2.485751255586887,\n 'pa_mosaic': 0.24253562503633297,\n 'pa_negative-ease': 4.505510223608084,\n 'pa_no-ease': 3.8688930146120244,\n 'pa_norwegian': 1.3839497676038526,\n 'pa_one-piece': 18.738872121900307,\n 'pa_other-colorwork': 3.677744484195636,\n 'pa_other-edging': 1.2460475759339162,\n 'pa_oversized': 2.459033471736613,\n 'pa_pattern-recipe': 0.7183112810058321,\n 'pa_petite': 1.52080287401941,\n 'pa_phototutorial': 3.2816523321333824,\n 'pa_picots': 1.7389271686864514,\n 'pa_placeholder': 0.19611613513818404,\n 'pa_plus': 4.922144778714425,\n 'pa_positive-ease': 10.03123751974686,\n 'pa_provisional': 2.144975875687031,\n 'pa_puffed-sleeve': 0.657417390808201,\n 'pa_racerback': 0.6123724356957946,\n 'pa_raglan-sleeve': 2.7080670783321756,\n 'pa_reversible': 3.411726106130885,\n 'pa_ribbed': 5.996986217724745,\n 'pa_ripple': 0.24253562503633297,\n 'pa_rolled': 0.22941573387056174,\n 'pa_saddle-shoulder': 0.47360679774997894,\n 'pa_schematic': 14.046134006384136,\n 'pa_scoop-neck': 2.099270358954214,\n 'pa_seamed': 4.695333469556617,\n 'pa_seamless': 27.9415765031371,\n 'pa_selvedge': 0.7233168840132387,\n 'pa_set-in-pocket': 0.23570226039551587,\n 'pa_set-in-sleeve': 1.8126125953441967,\n 'pa_short-rows': 9.746478629144468,\n 'pa_short-sleeve': 3.0785252452043554,\n 'pa_sideways': 1.252596146775502,\n 'pa_sleeves': 1.4719243262033108,\n 'pa_slipped-stitches': 2.214510751479185,\n 'pa_smocked': 0.2182178902359924,\n 'pa_square': 0.35355339059327373,\n 'pa_steeks': 0.4588314677411235,\n 'pa_straight': 3.0483728268112613,\n 'pa_stranded': 12.109094458411874,\n 'pa_stripes': 2.8484763295262066,\n 'pa_stripes-colorwork': 9.196018761486442,\n 'pa_surface-crochet': 0.23570226039551587,\n 'pa_tall': 1.255500723725419,\n 'pa_teen': 10.41188747208035,\n 'pa_textured': 7.89625648502628,\n 'pa_three-needle-bind': 1.924878242768973,\n 'pa_tied': 0.21320071635561041,\n 'pa_toe-up': 0.3333333333333333,\n 'pa_top-cuff-down': 1.0,\n 'pa_top-down': 20.38704894316716,\n 'pa_triangle-shaped': 3.9997603883664428,\n 'pa_turtleneck': 0.20412414523193154,\n 'pa_twisted-stitches': 1.7471532335451094,\n 'pa_unisex': 13.584369472592357,\n 'pa_v-neck': 1.1465366008576805,\n 'pa_video-tutorial': 1.9699174617358821,\n 'pa_waist': 3.740477665809654,\n 'pa_worked-flat': 19.394899469044905,\n 'pa_wrap': 0.21320071635561041,\n 'pa_written-pattern': 38.585988238323154,\n 'pc_accessories': 21.507462262965632,\n 'pc_animal': 0.7862127634730902,\n 'pc_bag': 0.22941573387056174,\n 'pc_beanie-toque': 2.416082204685508,\n 'pc_booties': 0.3333333333333333,\n 'pc_cardigan': 1.077140323696364,\n 'pc_clothing': 24.60094332851114,\n 'pc_cowl': 1.2439898767936661,\n 'pc_doll': 0.3779644730092272,\n 'pc_feet-legs': 1.3333333333333333,\n 'pc_fingerless': 0.6106834314459479,\n 'pc_hands': 2.6056763255113253,\n 'pc_hat': 2.416082204685508,\n 'pc_home': 0.7315178636025009,\n 'pc_mid-calf': 1.0,\n 'pc_mittens': 1.9949928940653772,\n 'pc_neck-torso': 14.922954665564902,\n 'pc_pillow': 0.7315178636025009,\n 'pc_pullover': 18.26517927397682,\n 'pc_purse': 0.22941573387056174,\n 'pc_scarf': 1.4412189230868466,\n 'pc_shawl-wrap': 12.237745865684388,\n 'pc_sleeveless-top': 1.7310578794069271,\n 'pc_socks': 1.0,\n 'pc_softies': 1.1641772364823173,\n 'pc_sweater': 19.342319597673182,\n 'pc_tee': 3.527565851431029,\n 'pc_tops': 5.2586237308379555,\n 'pc_toysandhobbies': 1.1641772364823173,\n 'yarn_id_Aran': 4.492849968211852,\n 'yarn_id_Bulky': 2.7419821216275855,\n 'yarn_id_DK': 10.813807620883566,\n 'yarn_id_Fingering': 19.71003204362763,\n 'yarn_id_Lace': 2.5935250044518128,\n 'yarn_id_Light-Fingering': 1.773606565100056,\n 'yarn_id_None': 0.3779644730092272,\n 'yarn_id_Sport': 2.9140816417501068,\n 'yarn_id_Super-Bulky': 0.35355339059327373,\n 'yarn_id_Worsted': 2.232697862306474}"
     },
     "metadata": {},
     "execution_count": 41
    }
   ],
   "source": [
    "user_data_df = user_profile_df(\"katec125\")\n",
    "user_profile_dict(user_data_df)"
   ]
  },
  {
   "cell_type": "markdown",
   "metadata": {},
   "source": [
    "## user_profile\n",
    "\n",
    "This function just puts together the previous two functions, the input is a username, and the output is a user profile in the form of a dictionary where the keys are pattern attributes and the values are the dot products between the user data column and each attribute column.\n"
   ]
  },
  {
   "cell_type": "code",
   "execution_count": 43,
   "metadata": {},
   "outputs": [],
   "source": [
    "def user_profile(username):\n",
    "    user_data_df = user_profile_df(username)\n",
    "    return user_profile_dict(user_data_df)"
   ]
  },
  {
   "cell_type": "markdown",
   "metadata": {},
   "source": [
    "### Example output:"
   ]
  },
  {
   "cell_type": "code",
   "execution_count": 44,
   "metadata": {},
   "outputs": [
    {
     "output_type": "execute_result",
     "data": {
      "text/plain": "{'pa_3-4-sleeve': 1.5369028913029648,\n 'pa_3-dimensional': 0.7862127634730902,\n 'pa_Intarsia': 1.8912033012166127,\n 'pa_Shetland': 0.7282378854318489,\n 'pa_adult': 30.239751759389442,\n 'pa_afterthought-pocket': 0.23570226039551587,\n 'pa_aline': 1.7351376052018876,\n 'pa_amigurumi': 0.3779644730092272,\n 'pa_appliqued': 0.6255432421712244,\n 'pa_asymmetric': 1.5612385803482762,\n 'pa_baby': 0.3333333333333333,\n 'pa_ballet-neck': 0.862955612973055,\n 'pa_beads': 1.3363062095621219,\n 'pa_bias': 0.6976336241065542,\n 'pa_boat-neck': 1.8410759723558563,\n 'pa_bobble-or-popcorn': 0.2672612419124244,\n 'pa_bottom-up': 14.068443875731088,\n 'pa_bracelet-sleeve': 0.8729158626938447,\n 'pa_brioche-tuck': 3.337717184833733,\n 'pa_buttoned': 0.4661424227863119,\n 'pa_buttonholes': 0.22360679774997896,\n 'pa_cables': 3.006497992007887,\n 'pa_cap-sleeve': 1.79438020684445,\n 'pa_chart': 23.54558881330513,\n 'pa_child': 2.473742042999813,\n 'pa_circle-shaped': 0.5547001962252291,\n 'pa_circular-yoke': 9.399198577215506,\n 'pa_collar': 1.1296518609910604,\n 'pa_contiguous': 0.8491500399212033,\n 'pa_corrugated-ribbing': 0.7282378854318489,\n 'pa_crescent-shape': 4.32729204214586,\n 'pa_crew-neck': 6.6272461877588436,\n 'pa_cropped': 2.6932508804464073,\n 'pa_cuffed-sleeve': 1.5799998616074418,\n 'pa_danish': 0.19245008972987526,\n 'pa_dolman-sleeve': 0.7517205708844794,\n 'pa_drop-sleeve': 0.9617949700490638,\n 'pa_dropped-stitches': 1.0754509424451957,\n 'pa_elbow-sleeve': 0.9208502269358976,\n 'pa_embroidery': 0.2672612419124244,\n 'pa_estonian': 0.21320071635561041,\n 'pa_eyelets': 5.5075466915545395,\n 'pa_fairisle': 0.6329236492437734,\n 'pa_female': 20.41897847728903,\n 'pa_fitted': 7.586344973076538,\n 'pa_flutter-sleeve': 0.19611613513818404,\n 'pa_front-fastening': 0.21320071635561041,\n 'pa_funnel-neck': 0.47941573387056174,\n 'pa_gathers': 0.20851441405707477,\n 'pa_gusset': 1.706317759470564,\n 'pa_halfcircle-shape': 1.6358413819655724,\n 'pa_hems': 0.45302253162054074,\n 'pa_hidden-pocket': 0.23570226039551587,\n 'pa_icelandic': 1.721873371407856,\n 'pa_icord': 2.9745016932559314,\n 'pa_icord-edging': 2.047944768870668,\n 'pa_in-the-round': 24.05044583018177,\n 'pa_kitchener': 3.9490863273584167,\n 'pa_lace': 12.01031997818861,\n 'pa_lace-edging': 0.8208868497528694,\n 'pa_long-sleeve': 6.058717989675474,\n 'pa_male': 4.178801632894206,\n 'pa_mature': 0.3779644730092272,\n 'pa_mesh': 1.5351076953217069,\n 'pa_modular': 2.485751255586887,\n 'pa_mosaic': 0.24253562503633297,\n 'pa_negative-ease': 4.505510223608084,\n 'pa_no-ease': 3.8688930146120244,\n 'pa_norwegian': 1.3839497676038526,\n 'pa_one-piece': 18.738872121900307,\n 'pa_other-colorwork': 3.677744484195636,\n 'pa_other-edging': 1.2460475759339162,\n 'pa_oversized': 2.459033471736613,\n 'pa_pattern-recipe': 0.7183112810058321,\n 'pa_petite': 1.52080287401941,\n 'pa_phototutorial': 3.2816523321333824,\n 'pa_picots': 1.7389271686864514,\n 'pa_placeholder': 0.19611613513818404,\n 'pa_plus': 4.922144778714425,\n 'pa_positive-ease': 10.03123751974686,\n 'pa_provisional': 2.144975875687031,\n 'pa_puffed-sleeve': 0.657417390808201,\n 'pa_racerback': 0.6123724356957946,\n 'pa_raglan-sleeve': 2.7080670783321756,\n 'pa_reversible': 3.411726106130885,\n 'pa_ribbed': 5.996986217724745,\n 'pa_ripple': 0.24253562503633297,\n 'pa_rolled': 0.22941573387056174,\n 'pa_saddle-shoulder': 0.47360679774997894,\n 'pa_schematic': 14.046134006384136,\n 'pa_scoop-neck': 2.099270358954214,\n 'pa_seamed': 4.695333469556617,\n 'pa_seamless': 27.9415765031371,\n 'pa_selvedge': 0.7233168840132387,\n 'pa_set-in-pocket': 0.23570226039551587,\n 'pa_set-in-sleeve': 1.8126125953441967,\n 'pa_short-rows': 9.746478629144468,\n 'pa_short-sleeve': 3.0785252452043554,\n 'pa_sideways': 1.252596146775502,\n 'pa_sleeves': 1.4719243262033108,\n 'pa_slipped-stitches': 2.214510751479185,\n 'pa_smocked': 0.2182178902359924,\n 'pa_square': 0.35355339059327373,\n 'pa_steeks': 0.4588314677411235,\n 'pa_straight': 3.0483728268112613,\n 'pa_stranded': 12.109094458411874,\n 'pa_stripes': 2.8484763295262066,\n 'pa_stripes-colorwork': 9.196018761486442,\n 'pa_surface-crochet': 0.23570226039551587,\n 'pa_tall': 1.255500723725419,\n 'pa_teen': 10.41188747208035,\n 'pa_textured': 7.89625648502628,\n 'pa_three-needle-bind': 1.924878242768973,\n 'pa_tied': 0.21320071635561041,\n 'pa_toe-up': 0.3333333333333333,\n 'pa_top-cuff-down': 1.0,\n 'pa_top-down': 20.38704894316716,\n 'pa_triangle-shaped': 3.9997603883664428,\n 'pa_turtleneck': 0.20412414523193154,\n 'pa_twisted-stitches': 1.7471532335451094,\n 'pa_unisex': 13.584369472592357,\n 'pa_v-neck': 1.1465366008576805,\n 'pa_video-tutorial': 1.9699174617358821,\n 'pa_waist': 3.740477665809654,\n 'pa_worked-flat': 19.394899469044905,\n 'pa_wrap': 0.21320071635561041,\n 'pa_written-pattern': 38.585988238323154,\n 'pc_accessories': 21.507462262965632,\n 'pc_animal': 0.7862127634730902,\n 'pc_bag': 0.22941573387056174,\n 'pc_beanie-toque': 2.416082204685508,\n 'pc_booties': 0.3333333333333333,\n 'pc_cardigan': 1.077140323696364,\n 'pc_clothing': 24.60094332851114,\n 'pc_cowl': 1.2439898767936661,\n 'pc_doll': 0.3779644730092272,\n 'pc_feet-legs': 1.3333333333333333,\n 'pc_fingerless': 0.6106834314459479,\n 'pc_hands': 2.6056763255113253,\n 'pc_hat': 2.416082204685508,\n 'pc_home': 0.7315178636025009,\n 'pc_mid-calf': 1.0,\n 'pc_mittens': 1.9949928940653772,\n 'pc_neck-torso': 14.922954665564902,\n 'pc_pillow': 0.7315178636025009,\n 'pc_pullover': 18.26517927397682,\n 'pc_purse': 0.22941573387056174,\n 'pc_scarf': 1.4412189230868466,\n 'pc_shawl-wrap': 12.237745865684388,\n 'pc_sleeveless-top': 1.7310578794069271,\n 'pc_socks': 1.0,\n 'pc_softies': 1.1641772364823173,\n 'pc_sweater': 19.342319597673182,\n 'pc_tee': 3.527565851431029,\n 'pc_tops': 5.2586237308379555,\n 'pc_toysandhobbies': 1.1641772364823173,\n 'yarn_id_Aran': 4.492849968211852,\n 'yarn_id_Bulky': 2.7419821216275855,\n 'yarn_id_DK': 10.813807620883566,\n 'yarn_id_Fingering': 19.71003204362763,\n 'yarn_id_Lace': 2.5935250044518128,\n 'yarn_id_Light-Fingering': 1.773606565100056,\n 'yarn_id_None': 0.3779644730092272,\n 'yarn_id_Sport': 2.9140816417501068,\n 'yarn_id_Super-Bulky': 0.35355339059327373,\n 'yarn_id_Worsted': 2.232697862306474}"
     },
     "metadata": {},
     "execution_count": 44
    }
   ],
   "source": [
    "user_profile(\"katec125\")"
   ]
  },
  {
   "cell_type": "markdown",
   "metadata": {},
   "source": [
    "*Note: the two functions listed below may end up not being used*"
   ]
  },
  {
   "cell_type": "markdown",
   "metadata": {},
   "source": [
    "## create_fav_df\n",
    "Input is a username, output is a dataframe of all the patterns in their favorites"
   ]
  },
  {
   "cell_type": "code",
   "execution_count": 78,
   "metadata": {},
   "outputs": [],
   "source": [
    "def create_fav_df(username):\n",
    "    fav_list = get_favs_list(username)\n",
    "    fav_df = pattern_list_to_df(fav_list)\n",
    "    return fav_df"
   ]
  },
  {
   "cell_type": "markdown",
   "metadata": {},
   "source": [
    "### Example output:"
   ]
  },
  {
   "cell_type": "code",
   "execution_count": 84,
   "metadata": {},
   "outputs": [
    {
     "output_type": "execute_result",
     "data": {
      "text/plain": "        pa_3-4-sleeve  pa_3-dimensional  pa_Intarsia  pa_Shetland  pa_adult  \\\n36436             0.0               0.0         0.00          0.0  0.242536   \n57264             0.0               0.0         0.00          0.0  0.229416   \n78651             0.0               0.0         0.00          0.0  0.000000   \n105865            0.0               0.0         0.00          0.0  0.250000   \n121493            0.0               0.0         0.00          0.0  0.235702   \n132791            0.0               0.0         0.00          0.0  0.277350   \n171113            0.0               0.0         0.00          0.0  0.000000   \n172113            0.0               0.0         0.25          0.0  0.250000   \n243036            0.0               0.0         0.00          0.0  0.277350   \n291786            0.0               0.0         0.00          0.0  0.250000   \n\n        pa_afterthought-pocket  pa_aline  pa_amigurumi  pa_asymmetric  \\\n36436                      0.0       0.0           0.0            0.0   \n57264                      0.0       0.0           0.0            0.0   \n78651                      0.0       0.0           0.0            0.0   \n105865                     0.0       0.0           0.0            0.0   \n121493                     0.0       0.0           0.0            0.0   \n132791                     0.0       0.0           0.0            0.0   \n171113                     0.0       0.0           0.0            0.0   \n172113                     0.0       0.0           0.0            0.0   \n243036                     0.0       0.0           0.0            0.0   \n291786                     0.0       0.0           0.0            0.0   \n\n         pa_baby  ...  yarn_id_Aran  yarn_id_Bulky  yarn_id_DK  \\\n36436   0.000000  ...           0.0       0.000000        0.00   \n57264   0.000000  ...           0.0       0.000000        0.00   \n78651   0.000000  ...           0.0       0.000000        0.00   \n105865  0.000000  ...           0.0       0.000000        0.00   \n121493  0.000000  ...           0.0       0.235702        0.00   \n132791  0.000000  ...           0.0       0.000000        0.00   \n171113  0.333333  ...           0.0       0.000000        0.00   \n172113  0.000000  ...           0.0       0.000000        0.00   \n243036  0.000000  ...           0.0       0.000000        0.00   \n291786  0.000000  ...           0.0       0.000000        0.25   \n\n        yarn_id_Fingering  yarn_id_Lace  yarn_id_Light-Fingering  \\\n36436            0.242536       0.00000                     0.00   \n57264            0.000000       0.00000                     0.00   \n78651            0.277350       0.00000                     0.00   \n105865           0.000000       0.00000                     0.00   \n121493           0.000000       0.00000                     0.00   \n132791           0.277350       0.00000                     0.00   \n171113           0.333333       0.00000                     0.00   \n172113           0.000000       0.00000                     0.25   \n243036           0.000000       0.27735                     0.00   \n291786           0.000000       0.00000                     0.00   \n\n        yarn_id_None  yarn_id_Sport  yarn_id_Super-Bulky  yarn_id_Worsted  \n36436            0.0       0.000000                  0.0             0.00  \n57264            0.0       0.229416                  0.0             0.00  \n78651            0.0       0.000000                  0.0             0.00  \n105865           0.0       0.000000                  0.0             0.25  \n121493           0.0       0.000000                  0.0             0.00  \n132791           0.0       0.000000                  0.0             0.00  \n171113           0.0       0.000000                  0.0             0.00  \n172113           0.0       0.000000                  0.0             0.00  \n243036           0.0       0.000000                  0.0             0.00  \n291786           0.0       0.000000                  0.0             0.00  \n\n[10 rows x 161 columns]",
      "text/html": "<div>\n<style scoped>\n    .dataframe tbody tr th:only-of-type {\n        vertical-align: middle;\n    }\n\n    .dataframe tbody tr th {\n        vertical-align: top;\n    }\n\n    .dataframe thead th {\n        text-align: right;\n    }\n</style>\n<table border=\"1\" class=\"dataframe\">\n  <thead>\n    <tr style=\"text-align: right;\">\n      <th></th>\n      <th>pa_3-4-sleeve</th>\n      <th>pa_3-dimensional</th>\n      <th>pa_Intarsia</th>\n      <th>pa_Shetland</th>\n      <th>pa_adult</th>\n      <th>pa_afterthought-pocket</th>\n      <th>pa_aline</th>\n      <th>pa_amigurumi</th>\n      <th>pa_asymmetric</th>\n      <th>pa_baby</th>\n      <th>...</th>\n      <th>yarn_id_Aran</th>\n      <th>yarn_id_Bulky</th>\n      <th>yarn_id_DK</th>\n      <th>yarn_id_Fingering</th>\n      <th>yarn_id_Lace</th>\n      <th>yarn_id_Light-Fingering</th>\n      <th>yarn_id_None</th>\n      <th>yarn_id_Sport</th>\n      <th>yarn_id_Super-Bulky</th>\n      <th>yarn_id_Worsted</th>\n    </tr>\n  </thead>\n  <tbody>\n    <tr>\n      <th>36436</th>\n      <td>0.0</td>\n      <td>0.0</td>\n      <td>0.00</td>\n      <td>0.0</td>\n      <td>0.242536</td>\n      <td>0.0</td>\n      <td>0.0</td>\n      <td>0.0</td>\n      <td>0.0</td>\n      <td>0.000000</td>\n      <td>...</td>\n      <td>0.0</td>\n      <td>0.000000</td>\n      <td>0.00</td>\n      <td>0.242536</td>\n      <td>0.00000</td>\n      <td>0.00</td>\n      <td>0.0</td>\n      <td>0.000000</td>\n      <td>0.0</td>\n      <td>0.00</td>\n    </tr>\n    <tr>\n      <th>57264</th>\n      <td>0.0</td>\n      <td>0.0</td>\n      <td>0.00</td>\n      <td>0.0</td>\n      <td>0.229416</td>\n      <td>0.0</td>\n      <td>0.0</td>\n      <td>0.0</td>\n      <td>0.0</td>\n      <td>0.000000</td>\n      <td>...</td>\n      <td>0.0</td>\n      <td>0.000000</td>\n      <td>0.00</td>\n      <td>0.000000</td>\n      <td>0.00000</td>\n      <td>0.00</td>\n      <td>0.0</td>\n      <td>0.229416</td>\n      <td>0.0</td>\n      <td>0.00</td>\n    </tr>\n    <tr>\n      <th>78651</th>\n      <td>0.0</td>\n      <td>0.0</td>\n      <td>0.00</td>\n      <td>0.0</td>\n      <td>0.000000</td>\n      <td>0.0</td>\n      <td>0.0</td>\n      <td>0.0</td>\n      <td>0.0</td>\n      <td>0.000000</td>\n      <td>...</td>\n      <td>0.0</td>\n      <td>0.000000</td>\n      <td>0.00</td>\n      <td>0.277350</td>\n      <td>0.00000</td>\n      <td>0.00</td>\n      <td>0.0</td>\n      <td>0.000000</td>\n      <td>0.0</td>\n      <td>0.00</td>\n    </tr>\n    <tr>\n      <th>105865</th>\n      <td>0.0</td>\n      <td>0.0</td>\n      <td>0.00</td>\n      <td>0.0</td>\n      <td>0.250000</td>\n      <td>0.0</td>\n      <td>0.0</td>\n      <td>0.0</td>\n      <td>0.0</td>\n      <td>0.000000</td>\n      <td>...</td>\n      <td>0.0</td>\n      <td>0.000000</td>\n      <td>0.00</td>\n      <td>0.000000</td>\n      <td>0.00000</td>\n      <td>0.00</td>\n      <td>0.0</td>\n      <td>0.000000</td>\n      <td>0.0</td>\n      <td>0.25</td>\n    </tr>\n    <tr>\n      <th>121493</th>\n      <td>0.0</td>\n      <td>0.0</td>\n      <td>0.00</td>\n      <td>0.0</td>\n      <td>0.235702</td>\n      <td>0.0</td>\n      <td>0.0</td>\n      <td>0.0</td>\n      <td>0.0</td>\n      <td>0.000000</td>\n      <td>...</td>\n      <td>0.0</td>\n      <td>0.235702</td>\n      <td>0.00</td>\n      <td>0.000000</td>\n      <td>0.00000</td>\n      <td>0.00</td>\n      <td>0.0</td>\n      <td>0.000000</td>\n      <td>0.0</td>\n      <td>0.00</td>\n    </tr>\n    <tr>\n      <th>132791</th>\n      <td>0.0</td>\n      <td>0.0</td>\n      <td>0.00</td>\n      <td>0.0</td>\n      <td>0.277350</td>\n      <td>0.0</td>\n      <td>0.0</td>\n      <td>0.0</td>\n      <td>0.0</td>\n      <td>0.000000</td>\n      <td>...</td>\n      <td>0.0</td>\n      <td>0.000000</td>\n      <td>0.00</td>\n      <td>0.277350</td>\n      <td>0.00000</td>\n      <td>0.00</td>\n      <td>0.0</td>\n      <td>0.000000</td>\n      <td>0.0</td>\n      <td>0.00</td>\n    </tr>\n    <tr>\n      <th>171113</th>\n      <td>0.0</td>\n      <td>0.0</td>\n      <td>0.00</td>\n      <td>0.0</td>\n      <td>0.000000</td>\n      <td>0.0</td>\n      <td>0.0</td>\n      <td>0.0</td>\n      <td>0.0</td>\n      <td>0.333333</td>\n      <td>...</td>\n      <td>0.0</td>\n      <td>0.000000</td>\n      <td>0.00</td>\n      <td>0.333333</td>\n      <td>0.00000</td>\n      <td>0.00</td>\n      <td>0.0</td>\n      <td>0.000000</td>\n      <td>0.0</td>\n      <td>0.00</td>\n    </tr>\n    <tr>\n      <th>172113</th>\n      <td>0.0</td>\n      <td>0.0</td>\n      <td>0.25</td>\n      <td>0.0</td>\n      <td>0.250000</td>\n      <td>0.0</td>\n      <td>0.0</td>\n      <td>0.0</td>\n      <td>0.0</td>\n      <td>0.000000</td>\n      <td>...</td>\n      <td>0.0</td>\n      <td>0.000000</td>\n      <td>0.00</td>\n      <td>0.000000</td>\n      <td>0.00000</td>\n      <td>0.25</td>\n      <td>0.0</td>\n      <td>0.000000</td>\n      <td>0.0</td>\n      <td>0.00</td>\n    </tr>\n    <tr>\n      <th>243036</th>\n      <td>0.0</td>\n      <td>0.0</td>\n      <td>0.00</td>\n      <td>0.0</td>\n      <td>0.277350</td>\n      <td>0.0</td>\n      <td>0.0</td>\n      <td>0.0</td>\n      <td>0.0</td>\n      <td>0.000000</td>\n      <td>...</td>\n      <td>0.0</td>\n      <td>0.000000</td>\n      <td>0.00</td>\n      <td>0.000000</td>\n      <td>0.27735</td>\n      <td>0.00</td>\n      <td>0.0</td>\n      <td>0.000000</td>\n      <td>0.0</td>\n      <td>0.00</td>\n    </tr>\n    <tr>\n      <th>291786</th>\n      <td>0.0</td>\n      <td>0.0</td>\n      <td>0.00</td>\n      <td>0.0</td>\n      <td>0.250000</td>\n      <td>0.0</td>\n      <td>0.0</td>\n      <td>0.0</td>\n      <td>0.0</td>\n      <td>0.000000</td>\n      <td>...</td>\n      <td>0.0</td>\n      <td>0.000000</td>\n      <td>0.25</td>\n      <td>0.000000</td>\n      <td>0.00000</td>\n      <td>0.00</td>\n      <td>0.0</td>\n      <td>0.000000</td>\n      <td>0.0</td>\n      <td>0.00</td>\n    </tr>\n  </tbody>\n</table>\n<p>10 rows × 161 columns</p>\n</div>"
     },
     "metadata": {},
     "execution_count": 84
    }
   ],
   "source": [
    "create_fav_df(\"katec125\").head(10)"
   ]
  },
  {
   "cell_type": "markdown",
   "metadata": {},
   "source": [
    "## create_proj_df\n",
    "Input is a username, output is a dataframe of the user's projects, essentially the same as the fav function but working with the user's projects instead of what's in their favorites"
   ]
  },
  {
   "cell_type": "code",
   "execution_count": null,
   "metadata": {},
   "outputs": [],
   "source": []
  },
  {
   "cell_type": "code",
   "execution_count": 79,
   "metadata": {},
   "outputs": [],
   "source": [
    "def create_proj_df(username):\n",
    "    proj_list = get_project_list_from_username(username)\n",
    "    proj_df = pattern_attr_to_df(proj_list)\n",
    "    return proj_df"
   ]
  }
 ],
 "metadata": {
  "language_info": {
   "name": "python",
   "codemirror_mode": {
    "name": "ipython",
    "version": 3
   },
   "version": "3.7.3-final"
  },
  "orig_nbformat": 2,
  "file_extension": ".py",
  "mimetype": "text/x-python",
  "name": "python",
  "npconvert_exporter": "python",
  "pygments_lexer": "ipython3",
  "version": 3,
  "kernelspec": {
   "name": "python37364bitbasecondacc7d9abba0074d939f383a6180d18325",
   "display_name": "Python 3.7.3 64-bit ('base': conda)"
  }
 },
 "nbformat": 4,
 "nbformat_minor": 2
}