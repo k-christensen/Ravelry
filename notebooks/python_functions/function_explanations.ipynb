{
 "nbformat": 4,
 "nbformat_minor": 2,
 "metadata": {
  "language_info": {
   "name": "python",
   "codemirror_mode": {
    "name": "ipython",
    "version": 3
   },
   "version": "3.7.3-final"
  },
  "orig_nbformat": 2,
  "file_extension": ".py",
  "mimetype": "text/x-python",
  "name": "python",
  "npconvert_exporter": "python",
  "pygments_lexer": "ipython3",
  "version": 3,
  "kernelspec": {
   "name": "python37364bitbasecondacc7d9abba0074d939f383a6180d18325",
   "display_name": "Python 3.7.3 64-bit ('base': conda)"
  }
 },
 "cells": [
  {
   "cell_type": "code",
   "execution_count": null,
   "metadata": {},
   "outputs": [],
   "source": [
    "import requests\n",
    "import time\n",
    "import pandas as pd\n",
    "import numpy as np\n",
    "import re\n",
    "import json\n",
    "import pdb\n",
    "from bs4 import BeautifulSoup\n",
    "import personal_keys"
   ]
  },
  {
   "cell_type": "markdown",
   "metadata": {},
   "source": [
    "# fav_funcs.py"
   ],
   "execution_count": null,
   "outputs": []
  },
  {
   "cell_type": "markdown",
   "metadata": {},
   "source": [
    "## fav_request\n",
    "makes request to API, returns json file of user"
   ],
   "execution_count": null,
   "outputs": []
  },
  {
   "cell_type": "code",
   "execution_count": null,
   "metadata": {},
   "outputs": [],
   "source": [
    "def fav_request(username, page_size, page):\n",
    "    favs_url = 'https://api.ravelry.com/people/{}/favorites/list.json'.format(username)\n",
    "    favs = requests.get(favs_url, auth = (personal_keys.username(),personal_keys.password()),\n",
    "                        params={'page_size':page_size, 'page':page})\n",
    "    return favs.json()"
   ]
  },
  {
   "cell_type": "markdown",
   "metadata": {},
   "source": [
    "### example output:"
   ],
   "execution_count": null,
   "outputs": []
  },
  {
   "cell_type": "code",
   "execution_count": 9,
   "metadata": {},
   "outputs": [
    {
     "output_type": "execute_result",
     "data": {
      "text/plain": "dict_keys(['favorites', 'paginator'])"
     },
     "metadata": {},
     "execution_count": 9
    }
   ],
   "source": [
    "fav_request(\"katec125\", 2, 0).keys()"
   ]
  },
  {
   "cell_type": "markdown",
   "metadata": {},
   "source": [
    "## create_fav_list\n",
    "input fav json, output list of fav pattern codes"
   ],
   "execution_count": null,
   "outputs": []
  },
  {
   "cell_type": "code",
   "execution_count": 10,
   "metadata": {},
   "outputs": [],
   "source": [
    "def create_fav_list(fav_request):\n",
    "    fav_list = []\n",
    "    favorites = fav_request['favorites']\n",
    "    for item in range(0,len(favorites)):\n",
    "        if favorites[item]['favorited'] is not None:\n",
    "            if 'pattern_id' in favorites[item]['favorited'].keys():\n",
    "                fav_list.append(favorites[item]['favorited']['pattern_id'])\n",
    "            elif 'id' in favorites[item]['favorited'].keys():\n",
    "                fav_list.append(favorites[item]['favorited']['id'])\n",
    "    return [code for code in fav_list if code is not None]"
   ]
  },
  {
   "cell_type": "markdown",
   "metadata": {},
   "source": [
    "### example output: "
   ]
  },
  {
   "cell_type": "code",
   "execution_count": 11,
   "metadata": {},
   "outputs": [
    {
     "output_type": "execute_result",
     "data": {
      "text/plain": "[1017571, 777372]"
     },
     "metadata": {},
     "execution_count": 11
    }
   ],
   "source": [
    "fav_json = fav_request(\"katec125\", 2, 0)\n",
    "create_fav_list(fav_json)"
   ]
  },
  {
   "cell_type": "markdown",
   "metadata": {},
   "source": [
    "## get_favs_list\n",
    "* Input is username, output is list of pattern ids in a person's favorites\n",
    "* Essentially combination of fav request and create_fav_list\n",
    "* If the user has over 500 favorites, then only returns the first 500. This is done so other functions don't take forever"
   ],
   "execution_count": null,
   "outputs": []
  },
  {
   "cell_type": "code",
   "execution_count": 12,
   "metadata": {},
   "outputs": [],
   "source": [
    "def get_favs_list(username):\n",
    "    favs = fav_request(username, 100, 1)\n",
    "    fav_list = create_fav_list(favs)\n",
    "    if favs['paginator']['page_count']>1:\n",
    "        page_number = 2\n",
    "        if favs['paginator']['last_page'] > 5:\n",
    "            last_page = 5\n",
    "        else:\n",
    "            last_page = favs['paginator']['last_page']\n",
    "        while page_number <= last_page:\n",
    "            new_request_favs = fav_request(username,100, page_number)\n",
    "            fav_list.extend(create_fav_list(new_request_favs))\n",
    "            page_number += 1\n",
    "    return fav_list"
   ]
  },
  {
   "cell_type": "markdown",
   "metadata": {},
   "source": [
    "### Example output "
   ]
  },
  {
   "cell_type": "code",
   "execution_count": 14,
   "metadata": {},
   "outputs": [
    {
     "output_type": "execute_result",
     "data": {
      "text/plain": "[1017571,\n 777372,\n 1002216,\n 998422,\n 877616,\n 990541,\n 966823,\n 444597,\n 888409,\n 420814]"
     },
     "metadata": {},
     "execution_count": 14
    }
   ],
   "source": [
    "get_favs_list(\"katec125\")[:10]"
   ]
  },
  {
   "cell_type": "markdown",
   "metadata": {},
   "source": [
    "## fav_dict\n",
    "* Returns a dict that is just pattern code and 1 for every value\n",
    "* This is done so we can then do the proj rating func to create user data column"
   ],
   "execution_count": null,
   "outputs": []
  },
  {
   "cell_type": "code",
   "execution_count": 15,
   "metadata": {},
   "outputs": [],
   "source": [
    "def fav_dict (username):\n",
    "    fav_list = get_favs_list(username)\n",
    "    return {code:1 for code in fav_list}"
   ]
  },
  {
   "cell_type": "code",
   "execution_count": 21,
   "metadata": {},
   "outputs": [
    {
     "output_type": "execute_result",
     "data": {
      "text/plain": "1"
     },
     "metadata": {},
     "execution_count": 21
    }
   ],
   "source": [
    "fav_dict(\"katec125\")[1017571]"
   ]
  },
  {
   "cell_type": "markdown",
   "metadata": {},
   "source": [
    "# proj_funcs.py"
   ],
   "execution_count": null,
   "outputs": []
  },
  {
   "cell_type": "markdown",
   "metadata": {},
   "source": [
    "## proj_json\n",
    "returns json file with all the info about user patterns"
   ]
  },
  {
   "cell_type": "code",
   "execution_count": 22,
   "metadata": {},
   "outputs": [],
   "source": [
    "def proj_json(username):\n",
    "    projects_url = 'https://api.ravelry.com/projects/{}/list.json'.format(username)\n",
    "    projects = requests.get(projects_url, \n",
    "                        auth = (personal_keys.username(),personal_keys.password()))\n",
    "    return projects.json()"
   ]
  },
  {
   "cell_type": "markdown",
   "metadata": {},
   "source": [
    "### Example output:"
   ]
  },
  {
   "cell_type": "code",
   "execution_count": 23,
   "metadata": {},
   "outputs": [
    {
     "output_type": "execute_result",
     "data": {
      "text/plain": "dict_keys(['projects', 'collections', 'paginator'])"
     },
     "metadata": {},
     "execution_count": 23
    }
   ],
   "source": [
    "proj_json(\"katec125\").keys()"
   ]
  },
  {
   "cell_type": "markdown",
   "metadata": {},
   "source": [
    "## project_list\n",
    "Input is a json obtained in the proj_json function, output is a list of pattern ids for user's projects"
   ]
  },
  {
   "cell_type": "code",
   "execution_count": 24,
   "metadata": {},
   "outputs": [],
   "source": [
    "def project_list(p_json):\n",
    "    proj_list = []\n",
    "    proj_list.extend([p_json['projects'][item]['pattern_id'] \n",
    "                    for item in range(0,len(p_json['projects']))])\n",
    "    return proj_list"
   ]
  },
  {
   "cell_type": "code",
   "execution_count": null,
   "metadata": {},
   "outputs": [],
   "source": []
  },
  {
   "cell_type": "markdown",
   "metadata": {},
   "source": [
    "## get_project_list_from_username"
   ]
  },
  {
   "cell_type": "markdown",
   "metadata": {},
   "source": [
    "## project_rating"
   ]
  },
  {
   "cell_type": "markdown",
   "metadata": {},
   "source": [
    "## user_data "
   ]
  },
  {
   "cell_type": "markdown",
   "metadata": {},
   "source": [
    "# friend_funcs.py"
   ],
   "execution_count": null,
   "outputs": []
  },
  {
   "cell_type": "markdown",
   "metadata": {},
   "source": [
    "# search_functions.py "
   ],
   "execution_count": null,
   "outputs": []
  },
  {
   "cell_type": "markdown",
   "metadata": {},
   "source": [
    "# yarn_weights.py"
   ],
   "execution_count": null,
   "outputs": []
  },
  {
   "cell_type": "markdown",
   "metadata": {},
   "source": [
    "# pattern_attr_funcs.py"
   ],
   "execution_count": null,
   "outputs": []
  },
  {
   "cell_type": "markdown",
   "metadata": {},
   "source": [
    "# count_df_funcs.py\n"
   ],
   "execution_count": null,
   "outputs": []
  }
 ]
}