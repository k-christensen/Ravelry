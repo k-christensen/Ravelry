{
 "nbformat": 4,
 "nbformat_minor": 2,
 "metadata": {
  "language_info": {
   "name": "python",
   "codemirror_mode": {
    "name": "ipython",
    "version": 3
   },
   "version": "3.7.3-final"
  },
  "orig_nbformat": 2,
  "file_extension": ".py",
  "mimetype": "text/x-python",
  "name": "python",
  "npconvert_exporter": "python",
  "pygments_lexer": "ipython3",
  "version": 3,
  "kernelspec": {
   "name": "python37364bitbasecondacc7d9abba0074d939f383a6180d18325",
   "display_name": "Python 3.7.3 64-bit ('base': conda)"
  }
 },
 "cells": [
  {
   "cell_type": "code",
   "execution_count": null,
   "metadata": {},
   "outputs": [],
   "source": [
    "import requests\n",
    "import time\n",
    "import pandas as pd\n",
    "import numpy as np\n",
    "import re\n",
    "import json\n",
    "import pdb\n",
    "from bs4 import BeautifulSoup\n",
    "import personal_keys"
   ]
  },
  {
   "cell_type": "markdown",
   "metadata": {},
   "source": [
    "# fav_funcs.py"
   ],
   "execution_count": null,
   "outputs": []
  },
  {
   "cell_type": "markdown",
   "metadata": {},
   "source": [
    "## fav_request\n",
    "makes request to API, returns json file of user"
   ],
   "execution_count": null,
   "outputs": []
  },
  {
   "cell_type": "code",
   "execution_count": null,
   "metadata": {},
   "outputs": [],
   "source": [
    "def fav_request(username, page_size, page):\n",
    "    favs_url = 'https://api.ravelry.com/people/{}/favorites/list.json'.format(username)\n",
    "    favs = requests.get(favs_url, auth = (personal_keys.username(),personal_keys.password()),\n",
    "                        params={'page_size':page_size, 'page':page})\n",
    "    return favs.json()"
   ]
  },
  {
   "cell_type": "markdown",
   "metadata": {},
   "source": [
    "### example output:"
   ],
   "execution_count": null,
   "outputs": []
  },
  {
   "cell_type": "code",
   "execution_count": 9,
   "metadata": {},
   "outputs": [
    {
     "output_type": "execute_result",
     "data": {
      "text/plain": "dict_keys(['favorites', 'paginator'])"
     },
     "metadata": {},
     "execution_count": 9
    }
   ],
   "source": [
    "fav_request(\"katec125\", 2, 0).keys()"
   ]
  },
  {
   "cell_type": "markdown",
   "metadata": {},
   "source": [
    "## create_fav_list\n",
    "input fav json, output list of fav pattern codes"
   ],
   "execution_count": null,
   "outputs": []
  },
  {
   "cell_type": "code",
   "execution_count": 10,
   "metadata": {},
   "outputs": [],
   "source": [
    "def create_fav_list(fav_request):\n",
    "    fav_list = []\n",
    "    favorites = fav_request['favorites']\n",
    "    for item in range(0,len(favorites)):\n",
    "        if favorites[item]['favorited'] is not None:\n",
    "            if 'pattern_id' in favorites[item]['favorited'].keys():\n",
    "                fav_list.append(favorites[item]['favorited']['pattern_id'])\n",
    "            elif 'id' in favorites[item]['favorited'].keys():\n",
    "                fav_list.append(favorites[item]['favorited']['id'])\n",
    "    return [code for code in fav_list if code is not None]"
   ]
  },
  {
   "cell_type": "markdown",
   "metadata": {},
   "source": [
    "### example output: "
   ]
  },
  {
   "cell_type": "code",
   "execution_count": 11,
   "metadata": {},
   "outputs": [
    {
     "output_type": "execute_result",
     "data": {
      "text/plain": "[1017571, 777372]"
     },
     "metadata": {},
     "execution_count": 11
    }
   ],
   "source": [
    "fav_json = fav_request(\"katec125\", 2, 0)\n",
    "create_fav_list(fav_json)"
   ]
  },
  {
   "cell_type": "markdown",
   "metadata": {},
   "source": [
    "## get_favs_list\n",
    "* Input is username, output is list of pattern ids in a person's favorites\n",
    "* Essentially combination of fav request and create_fav_list\n",
    "* If the user has over 500 favorites, then only returns the first 500. This is done so other functions don't take forever"
   ],
   "execution_count": null,
   "outputs": []
  },
  {
   "cell_type": "code",
   "execution_count": 12,
   "metadata": {},
   "outputs": [],
   "source": [
    "def get_favs_list(username):\n",
    "    favs = fav_request(username, 100, 1)\n",
    "    fav_list = create_fav_list(favs)\n",
    "    if favs['paginator']['page_count']>1:\n",
    "        page_number = 2\n",
    "        if favs['paginator']['last_page'] > 5:\n",
    "            last_page = 5\n",
    "        else:\n",
    "            last_page = favs['paginator']['last_page']\n",
    "        while page_number <= last_page:\n",
    "            new_request_favs = fav_request(username,100, page_number)\n",
    "            fav_list.extend(create_fav_list(new_request_favs))\n",
    "            page_number += 1\n",
    "    return fav_list"
   ]
  },
  {
   "cell_type": "markdown",
   "metadata": {},
   "source": [
    "### Example output "
   ]
  },
  {
   "cell_type": "code",
   "execution_count": 14,
   "metadata": {},
   "outputs": [
    {
     "output_type": "execute_result",
     "data": {
      "text/plain": "[1017571,\n 777372,\n 1002216,\n 998422,\n 877616,\n 990541,\n 966823,\n 444597,\n 888409,\n 420814]"
     },
     "metadata": {},
     "execution_count": 14
    }
   ],
   "source": [
    "get_favs_list(\"katec125\")[:10]"
   ]
  },
  {
   "cell_type": "markdown",
   "metadata": {},
   "source": [
    "## fav_dict\n",
    "* Returns a dict that is just pattern code and 1 for every value\n",
    "* This is done so we can then do the proj rating func to create user data column"
   ],
   "execution_count": null,
   "outputs": []
  },
  {
   "cell_type": "code",
   "execution_count": 15,
   "metadata": {},
   "outputs": [],
   "source": [
    "def fav_dict (username):\n",
    "    fav_list = get_favs_list(username)\n",
    "    return {code:1 for code in fav_list}"
   ]
  },
  {
   "cell_type": "code",
   "execution_count": 21,
   "metadata": {},
   "outputs": [
    {
     "output_type": "execute_result",
     "data": {
      "text/plain": "1"
     },
     "metadata": {},
     "execution_count": 21
    }
   ],
   "source": [
    "fav_dict(\"katec125\")[1017571]"
   ]
  },
  {
   "cell_type": "markdown",
   "metadata": {},
   "source": [
    "# proj_funcs.py"
   ],
   "execution_count": null,
   "outputs": []
  },
  {
   "cell_type": "markdown",
   "metadata": {},
   "source": [
    "## proj_json\n",
    "returns json file with all the info about user patterns"
   ]
  },
  {
   "cell_type": "code",
   "execution_count": 22,
   "metadata": {},
   "outputs": [],
   "source": [
    "def proj_json(username):\n",
    "    projects_url = 'https://api.ravelry.com/projects/{}/list.json'.format(username)\n",
    "    projects = requests.get(projects_url, \n",
    "                        auth = (personal_keys.username(),personal_keys.password()))\n",
    "    return projects.json()"
   ]
  },
  {
   "cell_type": "markdown",
   "metadata": {},
   "source": [
    "### Example output:"
   ]
  },
  {
   "cell_type": "code",
   "execution_count": 23,
   "metadata": {},
   "outputs": [
    {
     "output_type": "execute_result",
     "data": {
      "text/plain": "dict_keys(['projects', 'collections', 'paginator'])"
     },
     "metadata": {},
     "execution_count": 23
    }
   ],
   "source": [
    "proj_json(\"katec125\").keys()"
   ]
  },
  {
   "cell_type": "markdown",
   "metadata": {},
   "source": [
    "## project_list\n",
    "Input is a json obtained in the proj_json function, output is a list of pattern ids for user's projects"
   ]
  },
  {
   "cell_type": "code",
   "execution_count": 24,
   "metadata": {},
   "outputs": [],
   "source": [
    "def project_list(p_json):\n",
    "    proj_list = []\n",
    "    proj_list.extend([p_json['projects'][item]['pattern_id'] \n",
    "                    for item in range(0,len(p_json['projects']))])\n",
    "    return proj_list"
   ]
  },
  {
   "cell_type": "markdown",
   "metadata": {},
   "source": [
    "### Example output:"
   ]
  },
  {
   "cell_type": "code",
   "execution_count": 25,
   "metadata": {},
   "outputs": [
    {
     "output_type": "execute_result",
     "data": {
      "text/plain": "[669230, 118820, 490330, 103767, 91776, 216824, 990541, 582245, 921518, 497647]"
     },
     "metadata": {},
     "execution_count": 25
    }
   ],
   "source": [
    "p_json = proj_json(\"katec125\")\n",
    "project_list(p_json)[:10]"
   ]
  },
  {
   "cell_type": "markdown",
   "metadata": {},
   "source": [
    "## get_project_list_from_username\n",
    "\n",
    "combination of the two previous functions\n"
   ]
  },
  {
   "cell_type": "code",
   "execution_count": 26,
   "metadata": {},
   "outputs": [],
   "source": [
    "def get_project_list_from_username(username):\n",
    "    p_json = proj_json(username)\n",
    "    return project_list(p_json)"
   ]
  },
  {
   "cell_type": "markdown",
   "metadata": {},
   "source": [
    "### Example output: "
   ]
  },
  {
   "cell_type": "code",
   "execution_count": 27,
   "metadata": {},
   "outputs": [
    {
     "output_type": "execute_result",
     "data": {
      "text/plain": "[669230, 118820, 490330, 103767, 91776, 216824, 990541, 582245, 921518, 497647]"
     },
     "metadata": {},
     "execution_count": 27
    }
   ],
   "source": [
    "get_project_list_from_username(\"katec125\")[:10]"
   ]
  },
  {
   "cell_type": "markdown",
   "metadata": {},
   "source": [
    "## project_rating\n",
    "* returns dictionary of project codes and user ratings, \n",
    "* default rating is 3 if none is given, \n",
    "* otherwise it's on a scale from 1-5 (hence the +1)"
   ]
  },
  {
   "cell_type": "code",
   "execution_count": 28,
   "metadata": {},
   "outputs": [],
   "source": [
    "def project_rating(username):\n",
    "    code_list = get_project_list_from_username(username)\n",
    "    rating_list = [3 if proj_json(username)['projects'][i]['rating'] == None \n",
    "                    else proj_json(username)['projects'][i]['rating']+1 \n",
    "                    for i in range(0,len(proj_json(\"katec125\")['projects']))]\n",
    "    return dict(zip(code_list, rating_list))"
   ]
  },
  {
   "cell_type": "markdown",
   "metadata": {},
   "source": [
    "Example output:"
   ]
  },
  {
   "cell_type": "code",
   "execution_count": 29,
   "metadata": {},
   "outputs": [
    {
     "output_type": "execute_result",
     "data": {
      "text/plain": "{669230: 3,\n 118820: 3,\n 490330: 3,\n 103767: 4,\n 91776: 3,\n 216824: 3,\n 990541: 3,\n 582245: 3,\n 921518: 3,\n 497647: 3,\n 828182: 3,\n 833778: 3,\n 807214: 3,\n 497856: 3,\n 617705: 3,\n 722427: 3,\n 714457: 3,\n 676427: 3,\n 226669: 3}"
     },
     "metadata": {},
     "execution_count": 29
    }
   ],
   "source": [
    "project_rating(\"katec125\")"
   ]
  },
  {
   "cell_type": "markdown",
   "metadata": {},
   "source": [
    "## user_data \n",
    "* creates dictionary where the keys are all user's favorites and projects\n",
    "* all favorites get a 1 assigned\n",
    "* projects get either their rating or 3 assigned\n",
    "* the final dict is turned into a string so it can combine with the existing user profile df"
   ]
  },
  {
   "cell_type": "code",
   "execution_count": 30,
   "metadata": {},
   "outputs": [],
   "source": [
    "def user_data(username):\n",
    "    user_data = fav_dict(username)\n",
    "    user_data.update(project_rating(username))\n",
    "    str_user_data_dict = {str(k):v for k,v in user_data.items()}\n",
    "    return str_user_data_dict"
   ]
  },
  {
   "cell_type": "markdown",
   "metadata": {},
   "source": [
    "Example output:"
   ]
  },
  {
   "cell_type": "code",
   "execution_count": 31,
   "metadata": {},
   "outputs": [
    {
     "output_type": "execute_result",
     "data": {
      "text/plain": "{'1017571': 1,\n '777372': 1,\n '1002216': 1,\n '998422': 1,\n '877616': 1,\n '990541': 3,\n '966823': 1,\n '444597': 1,\n '888409': 1,\n '420814': 1,\n '790875': 1,\n '409979': 1,\n '538253': 1,\n '387775': 1,\n '994876': 1,\n '993218': 1,\n '975032': 1,\n '995685': 1,\n '731341': 1,\n '984587': 1,\n '384733': 1,\n '866947': 1,\n '932512': 1,\n '893880': 1,\n '986145': 1,\n '807636': 1,\n '936349': 1,\n '918043': 1,\n '907192': 1,\n '843846': 1,\n '866773': 1,\n '686988': 1,\n '966033': 1,\n '968150': 1,\n '869199': 1,\n '351173': 1,\n '824391': 1,\n '921518': 3,\n '843810': 1,\n '855203': 1,\n '925240': 1,\n '929139': 1,\n '570677': 1,\n '483117': 1,\n '639396': 1,\n '754362': 1,\n '824302': 1,\n '886241': 1,\n '561403': 1,\n '171113': 1,\n '57264': 1,\n '772466': 1,\n '497126': 1,\n '680396': 1,\n '868477': 1,\n '868478': 1,\n '497647': 3,\n '582257': 1,\n '377778': 1,\n '593997': 1,\n '838914': 1,\n '742300': 1,\n '858134': 1,\n '855568': 1,\n '763885': 1,\n '830861': 1,\n '853849': 1,\n '690209': 1,\n '843963': 1,\n '804284': 1,\n '853145': 1,\n '743018': 1,\n '758635': 1,\n '745500': 1,\n '847738': 1,\n '842474': 1,\n '658135': 1,\n '833778': 3,\n '841735': 1,\n '602732': 1,\n '833943': 1,\n '833941': 1,\n '606529': 1,\n '785079': 1,\n '814274': 1,\n '761738': 1,\n '829488': 1,\n '829043': 1,\n '825008': 1,\n '526155': 1,\n '752414': 1,\n '373662': 1,\n '412555': 1,\n '534321': 1,\n '580557': 1,\n '807394': 1,\n '536459': 1,\n '522775': 1,\n '466908': 1,\n '172113': 1,\n '481187': 1,\n '593681': 1,\n '746797': 1,\n '676427': 3,\n '516187': 1,\n '651122': 1,\n '686917': 1,\n '679511': 1,\n '36436': 1,\n '636348': 1,\n '582245': 3,\n '291786': 1,\n '510235': 1,\n '557997': 1,\n '588220': 1,\n '132791': 1,\n '520203': 1,\n '470169': 1,\n '605975': 1,\n '515957': 1,\n '497856': 3,\n '243036': 1,\n '78651': 1,\n '397607': 1,\n '105865': 1,\n '551194': 1,\n '567180': 1,\n '532971': 1,\n '504052': 1,\n '121493': 1,\n '574591': 1,\n '579248': 1,\n '669230': 3,\n '118820': 3,\n '490330': 3,\n '103767': 4,\n '91776': 3,\n '216824': 3,\n '828182': 3,\n '807214': 3,\n '617705': 3,\n '722427': 3,\n '714457': 3,\n '226669': 3}"
     },
     "metadata": {},
     "execution_count": 31
    }
   ],
   "source": [
    "user_data(\"katec125\")"
   ]
  },
  {
   "cell_type": "markdown",
   "metadata": {},
   "source": [
    "# friend_funcs.py"
   ],
   "execution_count": null,
   "outputs": []
  },
  {
   "cell_type": "code",
   "execution_count": null,
   "metadata": {},
   "outputs": [],
   "source": []
  },
  {
   "cell_type": "code",
   "execution_count": null,
   "metadata": {},
   "outputs": [],
   "source": []
  },
  {
   "cell_type": "code",
   "execution_count": null,
   "metadata": {},
   "outputs": [],
   "source": []
  },
  {
   "cell_type": "markdown",
   "metadata": {},
   "source": [
    "### Example output:"
   ]
  },
  {
   "cell_type": "code",
   "execution_count": null,
   "metadata": {},
   "outputs": [],
   "source": []
  },
  {
   "cell_type": "code",
   "execution_count": null,
   "metadata": {},
   "outputs": [],
   "source": []
  },
  {
   "cell_type": "code",
   "execution_count": null,
   "metadata": {},
   "outputs": [],
   "source": []
  },
  {
   "cell_type": "markdown",
   "metadata": {},
   "source": [
    "### Example output:"
   ]
  },
  {
   "cell_type": "code",
   "execution_count": null,
   "metadata": {},
   "outputs": [],
   "source": []
  },
  {
   "cell_type": "code",
   "execution_count": null,
   "metadata": {},
   "outputs": [],
   "source": []
  },
  {
   "cell_type": "code",
   "execution_count": null,
   "metadata": {},
   "outputs": [],
   "source": []
  },
  {
   "cell_type": "markdown",
   "metadata": {},
   "source": [
    "### Example output:"
   ]
  },
  {
   "cell_type": "code",
   "execution_count": null,
   "metadata": {},
   "outputs": [],
   "source": []
  },
  {
   "cell_type": "code",
   "execution_count": null,
   "metadata": {},
   "outputs": [],
   "source": []
  },
  {
   "cell_type": "code",
   "execution_count": null,
   "metadata": {},
   "outputs": [],
   "source": []
  },
  {
   "cell_type": "markdown",
   "metadata": {},
   "source": [
    "# search_functions.py "
   ],
   "execution_count": null,
   "outputs": []
  },
  {
   "cell_type": "code",
   "execution_count": null,
   "metadata": {},
   "outputs": [],
   "source": []
  },
  {
   "cell_type": "code",
   "execution_count": null,
   "metadata": {},
   "outputs": [],
   "source": []
  },
  {
   "cell_type": "code",
   "execution_count": null,
   "metadata": {},
   "outputs": [],
   "source": []
  },
  {
   "cell_type": "markdown",
   "metadata": {},
   "source": [
    "### Example output:"
   ]
  },
  {
   "cell_type": "code",
   "execution_count": null,
   "metadata": {},
   "outputs": [],
   "source": []
  },
  {
   "cell_type": "code",
   "execution_count": null,
   "metadata": {},
   "outputs": [],
   "source": []
  },
  {
   "cell_type": "code",
   "execution_count": null,
   "metadata": {},
   "outputs": [],
   "source": []
  },
  {
   "cell_type": "markdown",
   "metadata": {},
   "source": [
    "### Example output:"
   ]
  },
  {
   "cell_type": "code",
   "execution_count": null,
   "metadata": {},
   "outputs": [],
   "source": []
  },
  {
   "cell_type": "code",
   "execution_count": null,
   "metadata": {},
   "outputs": [],
   "source": []
  },
  {
   "cell_type": "code",
   "execution_count": null,
   "metadata": {},
   "outputs": [],
   "source": []
  },
  {
   "cell_type": "markdown",
   "metadata": {},
   "source": [
    "### Example output:"
   ]
  },
  {
   "cell_type": "code",
   "execution_count": null,
   "metadata": {},
   "outputs": [],
   "source": []
  },
  {
   "cell_type": "markdown",
   "metadata": {},
   "source": [
    "# yarn_weights.py"
   ],
   "execution_count": null,
   "outputs": []
  },
  {
   "cell_type": "code",
   "execution_count": null,
   "metadata": {},
   "outputs": [],
   "source": []
  },
  {
   "cell_type": "markdown",
   "metadata": {},
   "source": [
    "### Example output:"
   ]
  },
  {
   "cell_type": "code",
   "execution_count": null,
   "metadata": {},
   "outputs": [],
   "source": []
  },
  {
   "cell_type": "markdown",
   "metadata": {},
   "source": [
    "# pattern_attr_funcs.py"
   ],
   "execution_count": null,
   "outputs": []
  },
  {
   "cell_type": "code",
   "execution_count": null,
   "metadata": {},
   "outputs": [],
   "source": []
  },
  {
   "cell_type": "code",
   "execution_count": null,
   "metadata": {},
   "outputs": [],
   "source": []
  },
  {
   "cell_type": "markdown",
   "metadata": {},
   "source": [
    "### Example output:"
   ]
  },
  {
   "cell_type": "code",
   "execution_count": null,
   "metadata": {},
   "outputs": [],
   "source": []
  },
  {
   "cell_type": "code",
   "execution_count": null,
   "metadata": {},
   "outputs": [],
   "source": []
  },
  {
   "cell_type": "code",
   "execution_count": null,
   "metadata": {},
   "outputs": [],
   "source": []
  },
  {
   "cell_type": "markdown",
   "metadata": {},
   "source": [
    "### Example output:"
   ]
  },
  {
   "cell_type": "code",
   "execution_count": null,
   "metadata": {},
   "outputs": [],
   "source": []
  },
  {
   "cell_type": "code",
   "execution_count": null,
   "metadata": {},
   "outputs": [],
   "source": []
  },
  {
   "cell_type": "code",
   "execution_count": null,
   "metadata": {},
   "outputs": [],
   "source": []
  },
  {
   "cell_type": "markdown",
   "metadata": {},
   "source": [
    "### Example output:"
   ]
  },
  {
   "cell_type": "code",
   "execution_count": null,
   "metadata": {},
   "outputs": [],
   "source": []
  },
  {
   "cell_type": "code",
   "execution_count": null,
   "metadata": {},
   "outputs": [],
   "source": []
  },
  {
   "cell_type": "code",
   "execution_count": null,
   "metadata": {},
   "outputs": [],
   "source": []
  },
  {
   "cell_type": "markdown",
   "metadata": {},
   "source": [
    "### Example output:"
   ]
  },
  {
   "cell_type": "code",
   "execution_count": null,
   "metadata": {},
   "outputs": [],
   "source": []
  },
  {
   "cell_type": "code",
   "execution_count": null,
   "metadata": {},
   "outputs": [],
   "source": []
  },
  {
   "cell_type": "code",
   "execution_count": null,
   "metadata": {},
   "outputs": [],
   "source": []
  },
  {
   "cell_type": "markdown",
   "metadata": {},
   "source": [
    "### Example output:"
   ]
  },
  {
   "cell_type": "code",
   "execution_count": null,
   "metadata": {},
   "outputs": [],
   "source": []
  },
  {
   "cell_type": "code",
   "execution_count": null,
   "metadata": {},
   "outputs": [],
   "source": []
  },
  {
   "cell_type": "code",
   "execution_count": null,
   "metadata": {},
   "outputs": [],
   "source": []
  },
  {
   "cell_type": "markdown",
   "metadata": {},
   "source": [
    "### Example output:"
   ]
  },
  {
   "cell_type": "code",
   "execution_count": null,
   "metadata": {},
   "outputs": [],
   "source": []
  },
  {
   "cell_type": "markdown",
   "metadata": {},
   "source": [
    "# count_df_funcs.py\n"
   ],
   "execution_count": null,
   "outputs": []
  },
  {
   "cell_type": "code",
   "execution_count": null,
   "metadata": {},
   "outputs": [],
   "source": []
  },
  {
   "cell_type": "code",
   "execution_count": null,
   "metadata": {},
   "outputs": [],
   "source": []
  },
  {
   "cell_type": "markdown",
   "metadata": {},
   "source": [
    "### Example output:"
   ]
  },
  {
   "cell_type": "code",
   "execution_count": null,
   "metadata": {},
   "outputs": [],
   "source": []
  },
  {
   "cell_type": "code",
   "execution_count": null,
   "metadata": {},
   "outputs": [],
   "source": []
  },
  {
   "cell_type": "code",
   "execution_count": null,
   "metadata": {},
   "outputs": [],
   "source": []
  },
  {
   "cell_type": "markdown",
   "metadata": {},
   "source": [
    "### Example output:"
   ]
  },
  {
   "cell_type": "code",
   "execution_count": null,
   "metadata": {},
   "outputs": [],
   "source": []
  },
  {
   "cell_type": "code",
   "execution_count": null,
   "metadata": {},
   "outputs": [],
   "source": []
  },
  {
   "cell_type": "code",
   "execution_count": null,
   "metadata": {},
   "outputs": [],
   "source": []
  },
  {
   "cell_type": "markdown",
   "metadata": {},
   "source": [
    "### Example output:"
   ]
  },
  {
   "cell_type": "code",
   "execution_count": null,
   "metadata": {},
   "outputs": [],
   "source": []
  },
  {
   "cell_type": "code",
   "execution_count": null,
   "metadata": {},
   "outputs": [],
   "source": []
  },
  {
   "cell_type": "code",
   "execution_count": null,
   "metadata": {},
   "outputs": [],
   "source": []
  },
  {
   "cell_type": "markdown",
   "metadata": {},
   "source": [
    "### Example output:"
   ]
  },
  {
   "cell_type": "code",
   "execution_count": null,
   "metadata": {},
   "outputs": [],
   "source": []
  },
  {
   "cell_type": "code",
   "execution_count": null,
   "metadata": {},
   "outputs": [],
   "source": []
  },
  {
   "cell_type": "code",
   "execution_count": null,
   "metadata": {},
   "outputs": [],
   "source": []
  },
  {
   "cell_type": "markdown",
   "metadata": {},
   "source": [
    "### Example output:"
   ]
  },
  {
   "cell_type": "code",
   "execution_count": null,
   "metadata": {},
   "outputs": [],
   "source": []
  }
 ]
}