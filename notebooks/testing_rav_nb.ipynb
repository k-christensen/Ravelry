{
 "nbformat": 4,
 "nbformat_minor": 2,
 "metadata": {
  "language_info": {
   "name": "python",
   "codemirror_mode": {
    "name": "ipython",
    "version": 3
   },
   "version": "3.7.3-final"
  },
  "orig_nbformat": 2,
  "file_extension": ".py",
  "mimetype": "text/x-python",
  "name": "python",
  "npconvert_exporter": "python",
  "pygments_lexer": "ipython3",
  "version": 3,
  "kernelspec": {
   "name": "python37364bitbasecondacc7d9abba0074d939f383a6180d18325",
   "display_name": "Python 3.7.3 64-bit ('base': conda)"
  }
 },
 "cells": [
  {
   "cell_type": "code",
   "execution_count": 1,
   "metadata": {},
   "outputs": [],
   "source": [
    "import requests\n",
    "import time\n",
    "import pandas as pd\n",
    "import numpy as np\n",
    "import re\n",
    "import json\n",
    "import pdb\n",
    "from bs4 import BeautifulSoup\n",
    "import personal_keys\n",
    "import ravelry_request_functions"
   ]
  },
  {
   "cell_type": "code",
   "execution_count": 2,
   "metadata": {},
   "outputs": [],
   "source": [
    "# multiple pattern request-\n",
    "# input: list of patterns, output: json file with patterns\n",
    "def multiple_pattern_request(pattern_list):\n",
    "    patterns_url = 'https://api.ravelry.com/patterns.json?ids={}'.format('+'.join(pattern_list))\n",
    "    patterns = requests.get(patterns_url, \n",
    "                            auth = (personal_keys.username(),personal_keys.password()))\n",
    "    if patterns.status_code is 200:\n",
    "        return patterns.json()\n",
    "    else:\n",
    "        return 404\n",
    "\n",
    "# input: pattern json from the multiple pattern request function\n",
    "def create_attr_list(pattern_list):\n",
    "    attr_list = []\n",
    "    patterns = multiple_pattern_request(pattern_list)\n",
    "    if patterns != 404:\n",
    "        for key in patterns['patterns'].keys():\n",
    "            attr_list.append({attr['permalink']:1 for attr in \n",
    "            patterns['patterns'][key]['pattern_attributes']})\n",
    "    return attr_list\n",
    "\n",
    "# input: list of pattern id's, \n",
    "# output: dictionary where keys are pattern id's and values are a dict of attributes\n",
    "def pattern_attr(pattern_list):\n",
    "    pattern_list = [str(item) for item in pattern_list]\n",
    "    if len(pattern_list) < 50:\n",
    "        attr_list = create_attr_list(pattern_list)\n",
    "    else:\n",
    "#         create nested list that contains lists of either 50 patterns or the remainder of length of list/50\n",
    "        l_of_l_patterns = [pattern_list[i:i + 50] for i in range(0, len(pattern_list), 50)]\n",
    "        batch_num = 0\n",
    "        attr_list = []\n",
    "        while batch_num < len(l_of_l_patterns):\n",
    "            batch_attr_list = create_attr_list(l_of_l_patterns[batch_num])\n",
    "            attr_list.extend(batch_attr_list)\n",
    "            batch_num += 1\n",
    "    return dict(zip(pattern_list, attr_list))"
   ]
  },
  {
   "cell_type": "code",
   "execution_count": 3,
   "metadata": {},
   "outputs": [],
   "source": [
    "test_list = ravelry_request_functions.get_favs_list(\"swiftmiss\")"
   ]
  },
  {
   "cell_type": "code",
   "execution_count": 4,
   "metadata": {},
   "outputs": [
    {
     "data": {
      "text/plain": "462"
     },
     "execution_count": 4,
     "metadata": {},
     "output_type": "execute_result"
    }
   ],
   "source": [
    "len(test_list)"
   ]
  },
  {
   "cell_type": "code",
   "execution_count": 7,
   "metadata": {},
   "outputs": [
    {
     "data": {
      "text/plain": "[1002216,\n 1002226,\n 982422,\n 987228,\n 984587,\n 984587,\n 984587,\n 707297,\n 927223,\n 203482,\n 384733,\n 987452,\n 3418,\n 962172,\n 794359,\n 142296,\n 922283,\n 870909,\n 695625,\n 695622,\n 981622,\n 984587,\n 906148,\n 133526,\n 709752,\n 976824,\n 2511,\n 972099,\n 182135,\n 853291,\n 787476,\n 958384,\n 946729,\n 942286,\n 953241,\n 819716,\n 767529,\n 599849,\n 464784,\n 958636,\n 956565,\n 824443,\n 935606,\n 954279,\n 882501,\n 477615,\n 845213,\n 776573,\n 672418,\n 916579,\n 748023,\n 945853,\n 745177,\n 945667,\n 943797,\n 932897,\n 20251224,\n 932709,\n 933928,\n 940692,\n 942137,\n 937550,\n 927223,\n 819716,\n 882927,\n 939348,\n 770956,\n 932897,\n 869199,\n 927223,\n 697567,\n 920062,\n 925402,\n 922543,\n 921761,\n 610717,\n 575037,\n 884470,\n 905853,\n 551182,\n 825925,\n 768791,\n 735180,\n 846954,\n 675502,\n 885091,\n 877380,\n 917403,\n 886287,\n 1843,\n 911227,\n 565793,\n 909127,\n 815785,\n 910203,\n 829380,\n 895744,\n 547629,\n 692873,\n 705977,\n 908249,\n 887934,\n 841735,\n 352534,\n 873567,\n 906203,\n 906203,\n 823476,\n 893868,\n 552949,\n 902002,\n 740506,\n 840489,\n 89383,\n 705322,\n 527157,\n 639440,\n 138601,\n 784791,\n 502747,\n 754478,\n 344305,\n 290264,\n 885498,\n 861481,\n 886064,\n 792879,\n 883044,\n 565332,\n 19048042,\n 880974,\n 146174,\n 702860,\n 426862,\n 134434,\n 871677,\n 770916,\n 310170,\n 743878,\n 811776,\n 668632,\n 796805,\n 777341,\n 768757,\n 754198,\n 841931,\n 819716,\n 790900,\n 846370,\n 233702,\n 18577602,\n 851717,\n 853701,\n 451566,\n 838668,\n 780894,\n 762606,\n 707386,\n 655154,\n 442852,\n 427038,\n 420044,\n 399702,\n 502531,\n 502529,\n 849191,\n 836375,\n 830861,\n 748329,\n 753155,\n 575037,\n 515999,\n 558491,\n 542387,\n 491007,\n 447215,\n 426847,\n 426663,\n 393763,\n 360163,\n 668632,\n 267077,\n 257586,\n 819716,\n 826317,\n 132390,\n 674588,\n 5615,\n 847738,\n 843708,\n 514618,\n 502461,\n 766783,\n 121619,\n 775391,\n 830592,\n 843515,\n 18320985,\n 790731,\n 842474,\n 198279,\n 842042,\n 747516,\n 44964,\n 778006,\n 665428,\n 843520,\n 421920,\n 175492,\n 710601,\n 625906,\n 701383,\n 808083,\n 830075,\n 773469,\n 317259,\n 660743,\n 550094,\n 710601,\n 618913,\n 576320,\n 414411,\n 824487,\n 5615,\n 555666,\n 479288,\n 479288,\n 802104,\n 548200,\n 411850,\n 443533,\n 668543,\n 588514,\n 819717,\n 707741,\n 403385,\n 777533,\n 810303,\n 201197,\n 745925,\n 781137,\n 799414,\n 773469,\n 676427,\n 285117,\n 622813,\n 396457,\n 797206,\n 720698,\n 195542,\n 263760,\n 31516,\n 3392,\n 103767,\n 361294,\n 679695,\n 679695,\n 262231,\n 794128,\n 799091,\n 705322,\n 71,\n 641003,\n 710601,\n 681431,\n 778008,\n 224613,\n 627346,\n 336538,\n 254951,\n 456211,\n 390750,\n 504265,\n 161756,\n 547114,\n 695408,\n 790926,\n 630813,\n 398784,\n 135525,\n 632425,\n 581277,\n 586772,\n 772417,\n 786202,\n 617437,\n 711811,\n 473476,\n 690620,\n 719827,\n 782160,\n 443121,\n 790875,\n 782160,\n 776603,\n 779461,\n 290179,\n 777555,\n 777561,\n 748148,\n 502879,\n 736918,\n 119656,\n 555341,\n 727854,\n 760196,\n 772004,\n 771736,\n 771080,\n 682968,\n 769784,\n 1009821,\n 768834,\n 633357,\n 423197,\n 314183,\n 705322,\n 34668,\n 734051,\n 745470,\n 742305,\n 730378,\n 730378,\n 763264,\n 763264,\n 761118,\n 260756,\n 583935,\n 732801,\n 643541,\n 742305,\n 594669,\n 16343337,\n 134792,\n 757856,\n 518078,\n 757346,\n 761388,\n 725594,\n 646121,\n 647569,\n 723997,\n 627349,\n 679862,\n 430345,\n 672847,\n 16357854,\n 571732,\n 752140,\n 752080,\n 750369,\n 664111,\n 748148,\n 552372,\n 747971,\n 747968,\n 626181,\n 746799,\n 592058,\n 745773,\n 5649,\n 745412,\n 720780,\n 727847,\n 723997,\n 708034,\n 78373,\n 676427,\n 553144,\n 726789,\n 726789,\n 515365,\n 5241,\n 733369,\n 741131,\n 554616,\n 710266,\n 738649,\n 718980,\n 599838,\n 215871,\n 727120,\n 717248,\n 15492,\n 94537,\n 694024,\n 707632,\n 531772,\n 725358,\n 732717,\n 723997,\n 707632,\n 574934,\n 733378,\n 732117,\n 787378,\n 178928,\n 731131,\n 405280,\n 717248,\n 728831,\n 573093,\n 15777116,\n 208957,\n 405280,\n 706567,\n 633146,\n 405278,\n 727352,\n 707632,\n 724606,\n 184940,\n 724490,\n 346704,\n 346115,\n 722212,\n 654615,\n 720834,\n 15581637,\n 15581647,\n 524810,\n 707632,\n 718539,\n 713718,\n 694581,\n 612944,\n 669708,\n 707632,\n 707632,\n 486534,\n 639724,\n 694214,\n 400564,\n 424299,\n 539152,\n 363246,\n 716571,\n 608205,\n 305057,\n 668645,\n 518288,\n 712826,\n 707632,\n 712573,\n 10891,\n 603007,\n 707632,\n 552946,\n 85985,\n 270678,\n 685668,\n 513373,\n 280692,\n 124400,\n 204691,\n 362551,\n 15164584,\n 710043,\n 691641,\n 448067,\n 452581,\n 709141]"
     },
     "execution_count": 7,
     "metadata": {},
     "output_type": "execute_result"
    }
   ],
   "source": [
    "test_list"
   ]
  },
  {
   "cell_type": "code",
   "execution_count": 5,
   "metadata": {},
   "outputs": [],
   "source": [
    "test_dict = pattern_attr(test_list)"
   ]
  },
  {
   "cell_type": "code",
   "execution_count": 6,
   "metadata": {},
   "outputs": [
    {
     "data": {
      "text/plain": "176"
     },
     "execution_count": 6,
     "metadata": {},
     "output_type": "execute_result"
    }
   ],
   "source": [
    "len(test_dict.keys())"
   ]
  },
  {
   "cell_type": "code",
   "execution_count": null,
   "metadata": {},
   "outputs": [],
   "source": []
  }
 ]
}