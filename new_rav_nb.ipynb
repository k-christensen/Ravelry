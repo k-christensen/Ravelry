{
 "nbformat": 4,
 "nbformat_minor": 2,
 "metadata": {
  "language_info": {
   "name": "python",
   "codemirror_mode": {
    "name": "ipython",
    "version": 3
   },
   "version": "3.7.3-final"
  },
  "orig_nbformat": 2,
  "file_extension": ".py",
  "mimetype": "text/x-python",
  "name": "python",
  "npconvert_exporter": "python",
  "pygments_lexer": "ipython3",
  "version": 3,
  "kernelspec": {
   "name": "python37364bitbasecondacc7d9abba0074d939f383a6180d18325",
   "display_name": "Python 3.7.3 64-bit ('base': conda)"
  }
 },
 "cells": [
  {
   "cell_type": "code",
   "execution_count": 1,
   "metadata": {},
   "outputs": [],
   "source": [
    "import requests\n",
    "import time\n",
    "import pandas as pd\n",
    "import numpy as np\n",
    "import re\n",
    "import json\n",
    "import pdb\n",
    "from bs4 import BeautifulSoup\n",
    "import personal_keys\n",
    "import ravelry_request_functions"
   ]
  },
  {
   "cell_type": "code",
   "execution_count": 2,
   "metadata": {},
   "outputs": [
    {
     "data": {
      "text/plain": "[777372,\n 1002216,\n 998422,\n 877616,\n 990541,\n 966823,\n 444597,\n 888409,\n 420814,\n 790875,\n 409979,\n 538253,\n 387775,\n 994876,\n 993218,\n 975032,\n 995685,\n 731341,\n 984587,\n 384733,\n 866947,\n 932512,\n 893880,\n 986145,\n 807636,\n 936349,\n 918043,\n 907192,\n 843846,\n 866773,\n 686988,\n 966033,\n 968150,\n 869199,\n 351173,\n 824391,\n 921518,\n 843810,\n 855203,\n 925240,\n 929139,\n 570677,\n 483117,\n 639396,\n 754362,\n 824302,\n 886241,\n 561403,\n 171113,\n 57264,\n 772466,\n 497126,\n 680396,\n 868477,\n 868478,\n 497647,\n 497647,\n 497647,\n 582257,\n 377778,\n 593997,\n 838914,\n 742300,\n 858134,\n 855568,\n 763885,\n 830861,\n 853849,\n 690209,\n 843963,\n 804284,\n 853145,\n 743018,\n 758635,\n 745500,\n 847738,\n 842474,\n 658135,\n 833778,\n 841735,\n 602732,\n 833943,\n 833941,\n 606529,\n 785079,\n 814274,\n 761738,\n 829488,\n 829043,\n 825008,\n 526155,\n 752414,\n 373662,\n 412555,\n 534321,\n 580557,\n 807394,\n 536459,\n 522775,\n 466908,\n [172113,\n  481187,\n  593681,\n  746797,\n  676427,\n  516187,\n  651122,\n  686917,\n  679511,\n  36436,\n  636348,\n  582245,\n  291786,\n  510235,\n  557997,\n  588220,\n  132791,\n  520203,\n  470169,\n  605975,\n  515957,\n  497856,\n  243036,\n  78651,\n  397607,\n  105865,\n  551194,\n  567180,\n  532971,\n  504052,\n  121493,\n  574591,\n  579248]]"
     },
     "execution_count": 2,
     "metadata": {},
     "output_type": "execute_result"
    }
   ],
   "source": [
    "ravelry_request_functions.get_favs_list_edited(\"katec125\")"
   ]
  },
  {
   "cell_type": "code",
   "execution_count": 12,
   "metadata": {},
   "outputs": [],
   "source": [
    "def get_favs_list(username):\n",
    "    fav_list = []\n",
    "    favs_url = 'https://api.ravelry.com/people/{}/favorites/list.json'.format(username)\n",
    "#     following request returns json with two keys: favorites and paginator\n",
    "#     for the following request, I've added the params page size, \n",
    "#     which is 100 (maximum size), and page number (first page in the following request)\n",
    "    favs = requests.get(favs_url, auth = (personal_keys.username(),personal_keys.password()),\n",
    "                        params={'page_size':100, 'page':1})\n",
    "#     the following will add a list of all the pattern ids for the favorited patterns and turns them into a list, which is then appended to the fav_list defined at the beginning of the function\n",
    "    for item in range(0,len(favs.json()['favorites'])):\n",
    "        if favs.json()['favorites'][item]['favorited'] is not None:\n",
    "            if 'pattern_id' in favs.json()['favorites'][item]['favorited'].keys():\n",
    "                fav_list.append(favs.json()['favorites'][item]['favorited']['pattern_id'])\n",
    "            elif 'id' in favs.json()['favorites'][item]['favorited'].keys():\n",
    "                fav_list.append(favs.json()['favorites'][item]['favorited']['id'])\n",
    "\n",
    "#     in the event the user has more than 100 favorites, \n",
    "# this loop will essentially go in and make a new request for the next page of likes, \n",
    "# this loop finishes when the page number (which starts at 2 because we've already requested page one above) \n",
    "# equals the last page\n",
    "    if favs.json()['paginator']['page_count']>1:\n",
    "#         page_number is 2 because first page is already in fav_list\n",
    "        page_number = 2\n",
    "#         loop to do successive requests for new pages of favorited pattern ids\n",
    "        if favs.json()['paginator']['last_page'] > 5:\n",
    "            last_page = 5\n",
    "        else:\n",
    "            last_page = favs.json()['paginator']['last_page']\n",
    "        while page_number <= last_page:\n",
    "            new_request_favs = requests.get(favs_url, auth = (personal_keys.username(),personal_keys.password()),\n",
    "                        params={'page_size':100, 'page':page_number})\n",
    "#             append the new list of favorites to the old list containing the first 100 favorites\n",
    "            for item in range(0,len(new_request_favs.json()['favorites'])):\n",
    "                if new_request_favs.json()['favorites'][item]['favorited'] is not None:\n",
    "                    if 'pattern_id' in new_request_favs.json()['favorites'][item]['favorited'].keys():\n",
    "                        fav_list.append(new_request_favs.json()['favorites'][item]['favorited']['pattern_id'])\n",
    "                    elif 'id' in new_request_favs.json()['favorites'][item]['favorited'].keys():\n",
    "                        fav_list.append(new_request_favs.json()['favorites'][item]['favorited']['id'])\n",
    "#             add one to the page number so it will request the page following page 2, this will be done for as long as there are more pages to be requested\n",
    "            page_number += 1\n",
    "#     since the fav_list is currently a list of lists, the following function flattens the fav_list into one long list of ids\n",
    "    return fav_list"
   ]
  },
  {
   "cell_type": "code",
   "execution_count": 22,
   "metadata": {},
   "outputs": [
    {
     "data": {
      "text/plain": "0"
     },
     "execution_count": 22,
     "metadata": {},
     "output_type": "execute_result"
    }
   ],
   "source": [
    "kate_fav_list = get_favs_list('katec125')\n",
    "edited_kate_fav_list = ravelry_request_functions.problem_children(kate_fav_list)\n",
    "taken_out_favs = [p for p in kate_fav_list if str(p) not in edited_kate_fav_list]\n",
    "len(taken_out_favs)\n"
   ]
  },
  {
   "cell_type": "code",
   "execution_count": 3,
   "metadata": {},
   "outputs": [],
   "source": [
    "favs_url = 'https://api.ravelry.com/people/{}/favorites/list.json'.format('katec125')\n",
    "\n",
    "favs = requests.get(favs_url, auth = (personal_keys.username(),personal_keys.password()),params={'page_size':100, 'page':1})\n",
    "\n",
    "bad_favs_list =[favs.json()['favorites'][item]['favorited'] for item in range(0,len(favs.json()['favorites'])) if favs.json()['favorites'][item]['favorited']['id'] in taken_out_favs]"
   ]
  },
  {
   "cell_type": "code",
   "execution_count": 8,
   "metadata": {},
   "outputs": [
    {
     "data": {
      "text/plain": "497647"
     },
     "execution_count": 8,
     "metadata": {},
     "output_type": "execute_result"
    }
   ],
   "source": [
    "def get_friend_projs(username):    \n",
    "    friend_list = friend_username_list(username)\n",
    "    all_friend_projs = []\n",
    "    for user in friend_list:\n",
    "        all_friend_projs.append(get_project_list(user))        \n",
    "    flat_list = [item for sublist in all_friend_projs for item in sublist]\n",
    "    edited_flat_list = [item for item in flat_list if item is not None]\n",
    "    return edited_flat_listbad_favs_list[5]['pattern_id']"
   ]
  },
  {
   "cell_type": "code",
   "execution_count": 13,
   "metadata": {},
   "outputs": [
    {
     "data": {
      "text/plain": "dict_keys(['id', 'name', 'permalink', 'first_photo', 'designer', 'pattern_author', 'pattern_sources'])"
     },
     "execution_count": 13,
     "metadata": {},
     "output_type": "execute_result"
    }
   ],
   "source": [
    "good_favs_list = [favs.json()['favorites'][item]['favorited'] for item in range(0,len(favs.json()['favorites'])) if favs.json()['favorites'][item]['favorited']['id'] not in taken_out_favs]\n",
    "\n",
    "good_favs_list[5].keys()"
   ]
  },
  {
   "cell_type": "code",
   "execution_count": 10,
   "metadata": {},
   "outputs": [
    {
     "data": {
      "text/plain": ".com/uploads/thepluckyknitter/239054377/Dotted_Rays_3_medium2.jpg',\n    'small2_url': 'https://images4-f.ravelrycache.com/uploads/thepluckyknitter/239054377/Dotted_Rays_3_small2.jpg',\n    'caption': None,\n    'caption_html': None,\n    'copyright_holder': 'thepluckyknitter'},\n   {'id': 48104301,\n    'sort_order': 9,\n    'x_offset': 0,\n    'y_offset': 0,\n    'square_url': 'https://images4-g.ravelrycache.com/uploads/putyourflareon/289664144/image_square.jpg',\n    'medium_url': 'https://images4-g.ravelrycache.com/uploads/putyourflareon/289664144/image_medium.jpg',\n    'thumbnail_url': 'https://images4-g.ravelrycache.com/uploads/putyourflareon/289664144/image_thumbnail.jpg',\n    'small_url': 'https://images4-g.ravelrycache.com/uploads/putyourflareon/289664144/image_small_best_fit.jpg',\n    'flickr_url': None,\n    'shelved_url': 'https://images4-f.ravelrycache.com/uploads/putyourflareon/289664144/image_shelved.jpg',\n    'medium2_url': 'https://images4-f.ravelrycache.com/uploads/putyourflareon/289664144/image_medium2.jpg',\n    'small2_url': 'https://images4-g.ravelrycache.com/uploads/putyourflareon/289664144/image_small2.jpg',\n    'caption': None,\n    'caption_html': None,\n    'copyright_holder': 'putyourflareon'},\n   {'id': 77336360,\n    'sort_order': 10,\n    'x_offset': 0,\n    'y_offset': 0,\n    'square_url': 'https://images4-g.ravelrycache.com/uploads/westknits/538217563/20400E7A-1420-48AA-9E3D-6E18269B9E68_square.jpeg',\n    'medium_url': 'https://images4-g.ravelrycache.com/uploads/westknits/538217563/20400E7A-1420-48AA-9E3D-6E18269B9E68_medium.jpeg',\n    'thumbnail_url': 'https://images4-g.ravelrycache.com/uploads/westknits/538217563/20400E7A-1420-48AA-9E3D-6E18269B9E68_thumbnail.jpeg',\n    'small_url': 'https://images4-f.ravelrycache.com/uploads/westknits/538217563/20400E7A-1420-48AA-9E3D-6E18269B9E68_small_best_fit.jpeg',\n    'flickr_url': None,\n    'shelved_url': 'https://images4-g.ravelrycache.com/uploads/westknits/538217563/20400E7A-1420-48AA-9E3D-6E18269B9E68_shelved.jpeg',\n    'medium2_url': 'https://images4-f.ravelrycache.com/uploads/westknits/538217563/20400E7A-1420-48AA-9E3D-6E18269B9E68_medium2.jpeg',\n    'small2_url': 'https://images4-g.ravelrycache.com/uploads/westknits/538217563/20400E7A-1420-48AA-9E3D-6E18269B9E68_small2.jpeg',\n    'caption': None,\n    'caption_html': None,\n    'copyright_holder': None},\n   {'id': 77336359,\n    'sort_order': 11,\n    'x_offset': 0,\n    'y_offset': 0,\n    'square_url': 'https://images4-g.ravelrycache.com/uploads/westknits/538217560/64A036E3-E12B-45B1-AE95-625DEE95E14C_square.jpeg',\n    'medium_url': 'https://images4-g.ravelrycache.com/uploads/westknits/538217560/64A036E3-E12B-45B1-AE95-625DEE95E14C_medium.jpeg',\n    'thumbnail_url': 'https://images4-g.ravelrycache.com/uploads/westknits/538217560/64A036E3-E12B-45B1-AE95-625DEE95E14C_thumbnail.jpeg',\n    'small_url': 'https://images4-f.ravelrycache.com/uploads/westknits/538217560/64A036E3-E12B-45B1-AE95-625DEE95E14C_small_best_fit.jpeg',\n    'flickr_url': None,\n    'shelved_url': 'https://images4-g.ravelrycache.com/uploads/westknits/538217560/64A036E3-E12B-45B1-AE95-625DEE95E14C_shelved.jpeg',\n    'medium2_url': 'https://images4-g.ravelrycache.com/uploads/westknits/538217560/64A036E3-E12B-45B1-AE95-625DEE95E14C_medium2.jpeg',\n    'small2_url': 'https://images4-g.ravelrycache.com/uploads/westknits/538217560/64A036E3-E12B-45B1-AE95-625DEE95E14C_small2.jpeg',\n    'caption': None,\n    'caption_html': None,\n    'copyright_holder': None},\n   {'id': 48103315,\n    'sort_order': 12,\n    'x_offset': 0,\n    'y_offset': 0,\n    'square_url': 'https://images4-f.ravelrycache.com/uploads/lemmi/243516347/yarma_square.jpg',\n    'medium_url': 'https://images4-f.ravelrycache.com/uploads/lemmi/243516347/yarma_medium.jpg',\n    'thumbnail_url': 'https://images4-g.ravelrycache.com/uploads/lemmi/243516347/yarma_thumbnail.jpg',\n    'small_url': 'https://images4-f.ravelrycache.com/uploads/lemmi/243516347/yarma_small_best_fit.jpg',\n    'flickr_url': None,\n    'shelved_url': 'https://images4-g.ravelrycache.com/uploads/lemmi/243516347/yarma_shelved.jpg',\n    'medium2_url': 'https://images4-f.ravelrycache.com/uploads/lemmi/243516347/yarma_medium2.jpg',\n    'small2_url': 'https://images4-f.ravelrycache.com/uploads/lemmi/243516347/yarma_small2.jpg',\n    'caption': None,\n    'caption_html': None,\n    'copyright_holder': 'lemmi'},\n   {'id': 48116557,\n    'sort_order': 13,\n    'x_offset': -44,\n    'y_offset': -1,\n    'square_url': 'https://images4-g.ravelrycache.com/uploads/k10/256070127/Dotted_Rays_2_square.jpg',\n    'medium_url': 'https://images4-g.ravelrycache.com/uploads/k10/256070127/Dotted_Rays_2_medium.jpg',\n    'thumbnail_url': 'https://images4-g.ravelrycache.com/uploads/k10/256070127/Dotted_Rays_2_thumbnail.jpg',\n    'small_url': 'https://images4-g.ravelrycache.com/uploads/k10/256070127/Dotted_Rays_2_small_best_fit.jpg',\n    'flickr_url': None,\n    'shelved_url': 'https://images4-f.ravelrycache.com/uploads/k10/256070127/Dotted_Rays_2_shelved.jpg',\n    'medium2_url': 'https://images4-f.ravelrycache.com/uploads/k10/256070127/Dotted_Rays_2_medium2.jpg',\n    'small2_url': 'https://images4-g.ravelrycache.com/uploads/k10/256070127/Dotted_Rays_2_small2.jpg',\n    'caption': None,\n    'caption_html': None,\n    'copyright_holder': 'k10'},\n   {'id': 48061998,\n    'sort_order': 14,\n    'x_offset': 0,\n    'y_offset': 0,\n    'square_url': 'https://images4-f.ravelrycache.com/uploads/musicomusico/293598986/IMG_9733_square.png',\n    'medium_url': 'https://images4-f.ravelrycache.com/uploads/musicomusico/293598986/IMG_9733_medium.png',\n    'thumbnail_url': 'https://images4-g.ravelrycache.com/uploads/musicomusico/293598986/IMG_9733_thumbnail.png',\n    'small_url': 'https://images4-f.ravelrycache.com/uploads/musicomusico/293598986/IMG_9733_small_best_fit.png',\n    'flickr_url': None,\n    'shelved_url': 'https://images4-g.ravelrycache.com/uploads/musicomusico/293598986/IMG_9733_shelved.png',\n    'medium2_url': 'https://images4-f.ravelrycache.com/uploads/musicomusico/293598986/IMG_9733_medium2.png',\n    'small2_url': 'https://images4-f.ravelrycache.com/uploads/musicomusico/293598986/IMG_9733_small2.png',\n    'caption': None,\n    'caption_html': None,\n    'copyright_holder': 'musicomusico'},\n   {'id': 40818590,\n    'sort_order': 15,\n    'x_offset': -44,\n    'y_offset': 4,\n    'square_url': 'https://images4-g.ravelrycache.com/flickr/1/4/2/14227554837/14227554837_s.jpg',\n    'medium_url': 'https://images4-g.ravelrycache.com/flickr/1/4/2/14227554837/14227554837.jpg',\n    'thumbnail_url': 'https://images4-g.ravelrycache.com/flickr/1/4/2/14227554837/14227554837_t.jpg',\n    'small_url': 'https://images4-g.ravelrycache.com/flickr/1/4/2/14227554837/14227554837_m.jpg',\n    'flickr_url': 'http://www.flickr.com/photos/22523442@N07/14227554837',\n    'shelved_url': None,\n    'medium2_url': 'https://images4-g.ravelrycache.com/flickr/1/4/2/14227554837/14227554837.jpg',\n    'small2_url': 'https://images4-g.ravelrycache.com/flickr/1/4/2/14227554837/14227554837_n.jpg',\n    'caption': None,\n    'caption_html': None,\n    'copyright_holder': None},\n   {'id': 40818591,\n    'sort_order': 16,\n    'x_offset': -1,\n    'y_offset': -16,\n    'square_url': 'https://images4-g.ravelrycache.com/flickr/1/4/4/14412844874/14412844874_s.jpg',\n    'medium_url': 'https://images4-g.ravelrycache.com/flickr/1/4/4/14412844874/14412844874.jpg',\n    'thumbnail_url': 'https://images4-g.ravelrycache.com/flickr/1/4/4/14412844874/14412844874_t.jpg',\n    'small_url': 'https://images4-g.ravelrycache.com/flickr/1/4/4/14412844874/14412844874_m.jpg',\n    'flickr_url': 'http://www.flickr.com/photos/22523442@N07/14412844874',\n    'shelved_url': None,\n    'medium2_url': 'https://images4-g.ravelrycache.com/flickr/1/4/4/14412844874/14412844874.jpg',\n    'small2_url': 'https://images4-g.ravelrycache.com/flickr/1/4/4/14412844874/14412844874_n.jpg',\n    'caption': None,\n    'caption_html': None,\n    'copyright_holder': None},\n   {'id': 40818592,\n    'sort_order': 17,\n    'x_offset': -28,\n    'y_offset': 2,\n    'square_url': 'https://images4-g.ravelrycache.com/flickr/1/4/4/14413990025/14413990025_s.jpg',\n    'medium_url': 'https://images4-g.ravelrycache.com/flickr/1/4/4/14413990025/14413990025.jpg',\n    'thumbnail_url': 'https://images4-g.ravelrycache.com/flickr/1/4/4/14413990025/14413990025_t.jpg',\n    'small_url': 'https://images4-g.ravelrycache.com/flickr/1/4/4/14413990025/14413990025_m.jpg',\n    'flickr_url': 'http://www.flickr.com/photos/22523442@N07/14413990025',\n    'shelved_url': None,\n    'medium2_url': 'https://images4-g.ravelrycache.com/flickr/1/4/4/14413990025/14413990025.jpg',\n    'small2_url': 'https://images4-g.ravelrycache.com/flickr/1/4/4/14413990025/14413990025_n.jpg',\n    'caption': None,\n    'caption_html': None,\n    'copyright_holder': None},\n   {'id': 40818593,\n    'sort_order': 18,\n    'x_offset': 0,\n    'y_offset': -33,\n    'square_url': 'https://images4-g.ravelrycache.com/flickr/1/4/2/14227353699/14227353699_s.jpg',\n    'medium_url': 'https://images4-g.ravelrycache.com/flickr/1/4/2/14227353699/14227353699.jpg',\n    'thumbnail_url': 'https://images4-g.ravelrycache.com/flickr/1/4/2/14227353699/14227353699_t.jpg',\n    'small_url': 'https://images4-g.ravelrycache.com/flickr/1/4/2/14227353699/14227353699_m.jpg',\n    'flickr_url': 'http://www.flickr.com/photos/22523442@N07/14227353699',\n    'shelved_url': None,\n    'medium2_url': 'https://images4-g.ravelrycache.com/flickr/1/4/2/14227353699/14227353699.jpg',\n    'small2_url': 'https://images4-g.ravelrycache.com/flickr/1/4/2/14227353699/14227353699_n.jpg',\n    'caption': None,\n    'caption_html': None,\n    'copyright_holder': None},\n   {'id': 40818594,\n    'sort_order': 19,\n    'x_offset': -21,\n    'y_offset': 0,\n    'square_url': 'https://images4-g.ravelrycache.com/flickr/1/4/4/14413990305/14413990305_s.jpg',\n    'medium_url': 'https://images4-g.ravelrycache.com/flickr/1/4/4/14413990305/14413990305.jpg',\n    'thumbnail_url': 'https://images4-g.ravelrycache.com/flickr/1/4/4/14413990305/14413990305_t.jpg',\n    'small_url': 'https://images4-g.ravelrycache.com/flickr/1/4/4/14413990305/14413990305_m.jpg',\n    'flickr_url': 'http://www.flickr.com/photos/22523442@N07/14413990305',\n    'shelved_url': None,\n    'medium2_url': 'https://images4-g.ravelrycache.com/flickr/1/4/4/14413990305/14413990305.jpg',\n    'small2_url': 'https://images4-g.ravelrycache.com/flickr/1/4/4/14413990305/14413990305_n.jpg',\n    'caption': None,\n    'caption_html': None,\n    'copyright_holder': None},\n   {'id': 40818595,\n    'sort_order': 20,\n    'x_offset': -58,\n    'y_offset': 4,\n    'square_url': 'https://images4-g.ravelrycache.com/flickr/1/4/4/14410635071/14410635071_s.jpg',\n    'medium_url': 'https://images4-g.ravelrycache.com/flickr/1/4/4/14410635071/14410635071.jpg',\n    'thumbnail_url': 'https://images4-g.ravelrycache.com/flickr/1/4/4/14410635071/14410635071_t.jpg',\n    'small_url': 'https://images4-g.ravelrycache.com/flickr/1/4/4/14410635071/14410635071_m.jpg',\n    'flickr_url': 'http://www.flickr.com/photos/22523442@N07/14410635071',\n    'shelved_url': None,\n    'medium2_url': 'https://images4-g.ravelrycache.com/flickr/1/4/4/14410635071/14410635071.jpg',\n    'small2_url': 'https://images4-g.ravelrycache.com/flickr/1/4/4/14410635071/14410635071_n.jpg',\n    'caption': None,\n    'caption_html': None,\n    'copyright_holder': None},\n   {'id': 40818596,\n    'sort_order': 21,\n    'x_offset': -26,\n    'y_offset': 5,\n    'square_url': 'https://images4-g.ravelrycache.com/flickr/1/4/2/14227555087/14227555087_s.jpg',\n    'medium_url': 'https://images4-g.ravelrycache.com/flickr/1/4/2/14227555087/14227555087.jpg',\n    'thumbnail_url': 'https://images4-g.ravelrycache.com/flickr/1/4/2/14227555087/14227555087_t.jpg',\n    'small_url': 'https://images4-g.ravelrycache.com/flickr/1/4/2/14227555087/14227555087_m.jpg',\n    'flickr_url': 'http://www.flickr.com/photos/22523442@N07/14227555087',\n    'shelved_url': None,\n    'medium2_url': 'https://images4-g.ravelrycache.com/flickr/1/4/2/14227555087/14227555087.jpg',\n    'small2_url': 'https://images4-g.ravelrycache.com/flickr/1/4/2/14227555087/14227555087_n.jpg',\n    'caption': None,\n    'caption_html': None,\n    'copyright_holder': None},\n   {'id': 40840968,\n    'sort_order': 22,\n    'x_offset': 0,\n    'y_offset': 10,\n    'square_url': 'https://images4-g.ravelrycache.com/flickr/1/4/2/14234246410/14234246410_s.jpg',\n    'medium_url': 'https://images4-g.ravelrycache.com/flickr/1/4/2/14234246410/14234246410.jpg',\n    'thumbnail_url': 'https://images4-g.ravelrycache.com/flickr/1/4/2/14234246410/14234246410_t.jpg',\n    'small_url': 'https://images4-g.ravelrycache.com/flickr/1/4/2/14234246410/14234246410_m.jpg',\n    'flickr_url': 'http://www.flickr.com/photos/22523442@N07/14234246410',\n    'shelved_url': None,\n    'medium2_url': 'https://images4-g.ravelrycache.com/flickr/1/4/2/14234246410/14234246410.jpg',\n    'small2_url': 'https://images4-g.ravelrycache.com/flickr/1/4/2/14234246410/14234246410_n.jpg',\n    'caption': None,\n    'caption_html': None,\n    'copyright_holder': None},\n   {'id': 40840966,\n    'sort_order': 23,\n    'x_offset': 3,\n    'y_offset': -7,\n    'square_url': 'https://images4-g.ravelrycache.com/flickr/1/4/2/14234245830/14234245830_s.jpg',\n    'medium_url': 'https://images4-g.ravelrycache.com/flickr/1/4/2/14234245830/14234245830.jpg',\n    'thumbnail_url': 'https://images4-g.ravelrycache.com/flickr/1/4/2/14234245830/14234245830_t.jpg',\n    'small_url': 'https://images4-g.ravelrycache.com/flickr/1/4/2/14234245830/14234245830_m.jpg',\n    'flickr_url': 'http://www.flickr.com/photos/22523442@N07/14234245830',\n    'shelved_url': None,\n    'medium2_url': 'https://images4-g.ravelrycache.com/flickr/1/4/2/14234245830/14234245830.jpg',\n    'small2_url': 'https://images4-g.ravelrycache.com/flickr/1/4/2/14234245830/14234245830_n.jpg',\n    'caption': None,\n    'caption_html': None,\n    'copyright_holder': None},\n   {'id': 40818597,\n    'sort_order': 24,\n    'x_offset': 0,\n    'y_offset': -40,\n    'square_url': 'https://images4-g.ravelrycache.com/flickr/1/4/4/14412843524/14412843524_s.jpg',\n    'medium_url': 'https://images4-g.ravelrycache.com/flickr/1/4/4/14412843524/14412843524.jpg',\n    'thumbnail_url': 'https://images4-g.ravelrycache.com/flickr/1/4/4/14412843524/14412843524_t.jpg',\n    'small_url': 'https://images4-g.ravelrycache.com/flickr/1/4/4/14412843524/14412843524_m.jpg',\n    'flickr_url': 'http://www.flickr.com/photos/22523442@N07/14412843524',\n    'shelved_url': None,\n    'medium2_url': 'https://images4-g.ravelrycache.com/flickr/1/4/4/14412843524/14412843524.jpg',\n    'small2_url': 'https://images4-g.ravelrycache.com/flickr/1/4/4/14412843524/14412843524_n.jpg',\n    'caption': None,\n    'caption_html': None,\n    'copyright_holder': None},\n   {'id': 40818598,\n    'sort_order': 25,\n    'x_offset': -74,\n    'y_offset': 3,\n    'square_url': 'https://images4-g.ravelrycache.com/flickr/1/4/2/14227352869/14227352869_s.jpg',\n    'medium_url': 'https://images4-g.ravelrycache.com/flickr/1/4/2/14227352869/14227352869.jpg',\n    'thumbnail_url': 'https://images4-g.ravelrycache.com/flickr/1/4/2/14227352869/14227352869_t.jpg',\n    'small_url': 'https://images4-g.ravelrycache.com/flickr/1/4/2/14227352869/14227352869_m.jpg',\n    'flickr_url': 'http://www.flickr.com/photos/22523442@N07/14227352869',\n    'shelved_url': None,\n    'medium2_url': 'https://images4-g.ravelrycache.com/flickr/1/4/2/14227352869/14227352869.jpg',\n    'small2_url': 'https://images4-g.ravelrycache.com/flickr/1/4/2/14227352869/14227352869_n.jpg',\n    'caption': None,\n    'caption_html': None,\n    'copyright_holder': None},\n   {'id': 40818599,\n    'sort_order': 26,\n    'x_offset': -24,\n    'y_offset': 4,\n    'square_url': 'https://images4-g.ravelrycache.com/flickr/1/4/4/14412842774/14412842774_s.jpg',\n    'medium_url': 'https://images4-g.ravelrycache.com/flickr/1/4/4/14412842774/14412842774.jpg',\n    'thumbnail_url': 'https://images4-g.ravelrycache.com/flickr/1/4/4/14412842774/14412842774_t.jpg',\n    'small_url': 'https://images4-g.ravelrycache.com/flickr/1/4/4/14412842774/14412842774_m.jpg',\n    'flickr_url': 'http://www.flickr.com/photos/22523442@N07/14412842774',\n    'shelved_url': None,\n    'medium2_url': 'https://images4-g.ravelrycache.com/flickr/1/4/4/14412842774/14412842774.jpg',\n    'small2_url': 'https://images4-g.ravelrycache.com/flickr/1/4/4/14412842774/14412842774_n.jpg',\n    'caption': None,\n    'caption_html': None,\n    'copyright_holder': None},\n   {'id': 40818600,\n    'sort_order': 27,\n    'x_offset': -30,\n    'y_offset': 5,\n    'square_url': 'https://images4-g.ravelrycache.com/flickr/1/4/2/14227555217/14227555217_s.jpg',\n    'medium_url': 'https://images4-g.ravelrycache.com/flickr/1/4/2/14227555217/14227555217.jpg',\n    'thumbnail_url': 'https://images4-g.ravelrycache.com/flickr/1/4/2/14227555217/14227555217_t.jpg',\n    'small_url': 'https://images4-g.ravelrycache.com/flickr/1/4/2/14227555217/14227555217_m.jpg',\n    'flickr_url': 'http://www.flickr.com/photos/22523442@N07/14227555217',\n    'shelved_url': None,\n    'medium2_url': 'https://images4-g.ravelrycache.com/flickr/1/4/2/14227555217/14227555217.jpg',\n    'small2_url': 'https://images4-g.ravelrycache.com/flickr/1/4/2/14227555217/14227555217_n.jpg',\n    'caption': None,\n    'caption_html': None,\n    'copyright_holder': None},\n   {'id': 40818601,\n    'sort_order': 28,\n    'x_offset': -12,\n    'y_offset': 2,\n    'square_url': 'https://images4-g.ravelrycache.com/flickr/1/4/4/14412844804/14412844804_s.jpg',\n    'medium_url': 'https://images4-g.ravelrycache.com/flickr/1/4/4/14412844804/14412844804.jpg',\n    'thumbnail_url': 'https://images4-g.ravelrycache.com/flickr/1/4/4/14412844804/14412844804_t.jpg',\n    'small_url': 'https://images4-g.ravelrycache.com/flickr/1/4/4/14412844804/14412844804_m.jpg',\n    'flickr_url': 'http://www.flickr.com/photos/22523442@N07/14412844804',\n    'shelved_url': None,\n    'medium2_url': 'https://images4-g.ravelrycache.com/flickr/1/4/4/14412844804/14412844804.jpg',\n    'small2_url': 'https://images4-g.ravelrycache.com/flickr/1/4/4/14412844804/14412844804_n.jpg',\n    'caption': None,\n    'caption_html': None,\n    'copyright_holder': None},\n   {'id': 40818602,\n    'sort_order': 29,\n    'x_offset': 3,\n    'y_offset': -35,\n    'square_url': 'https://images4-g.ravelrycache.com/flickr/1/4/4/14412845034/14412845034_s.jpg',\n    'medium_url': 'https://images4-g.ravelrycache.com/flickr/1/4/4/14412845034/14412845034.jpg',\n    'thumbnail_url': 'https://images4-g.ravelrycache.com/flickr/1/4/4/14412845034/14412845034_t.jpg',\n    'small_url': 'https://images4-g.ravelrycache.com/flickr/1/4/4/14412845034/14412845034_m.jpg',\n    'flickr_url': 'http://www.flickr.com/photos/22523442@N07/14412845034',\n    'shelved_url': None,\n    'medium2_url': 'https://images4-g.ravelrycache.com/flickr/1/4/4/14412845034/14412845034.jpg',\n    'small2_url': 'https://images4-g.ravelrycache.com/flickr/1/4/4/14412845034/14412845034_n.jpg',\n    'caption': None,\n    'caption_html': None,\n    'copyright_holder': None},\n   {'id': 40840970,\n    'sort_order': 30,\n    'x_offset': -17,\n    'y_offset': 6,\n    'square_url': 'https://images4-g.ravelrycache.com/flickr/1/4/4/14419546542/14419546542_s.jpg',\n    'medium_url': 'https://images4-g.ravelrycache.com/flickr/1/4/4/14419546542/14419546542.jpg',\n    'thumbnail_url': 'https://images4-g.ravelrycache.com/flickr/1/4/4/14419546542/14419546542_t.jpg',\n    'small_url': 'https://images4-g.ravelrycache.com/flickr/1/4/4/14419546542/14419546542_m.jpg',\n    'flickr_url': 'http://www.flickr.com/photos/22523442@N07/14419546542',\n    'shelved_url': None,\n    'medium2_url': 'https://images4-g.ravelrycache.com/flickr/1/4/4/14419546542/14419546542.jpg',\n    'small2_url': 'https://images4-g.ravelrycache.com/flickr/1/4/4/14419546542/14419546542_n.jpg',\n    'caption': None,\n    'caption_html': None,\n    'copyright_holder': None}],\n  'pattern_type': {'clothing': True,\n   'id': 10,\n   'name': 'Shawl/Wrap',\n   'permalink': 'shawl'}}}"
     },
     "execution_count": 10,
     "metadata": {},
     "output_type": "execute_result"
    }
   ],
   "source": [
    "patterns_url = 'https://api.ravelry.com/patterns/497647.json'\n",
    "patterns = requests.get(patterns_url, auth = (personal_keys.username(),personal_keys.password()))\n",
    "patterns.json()"
   ]
  },
  {
   "cell_type": "code",
   "execution_count": 2,
   "metadata": {},
   "outputs": [],
   "source": [
    "def get_friend_favs(username):    \n",
    "    friend_list = ravelry_request_functions.friend_username_list(username)\n",
    "    all_friend_projs = []\n",
    "    for user in friend_list:\n",
    "        all_friend_projs.append(ravelry_request_functions.get_favs_list(user))   \n",
    "    flat_list = [item for sublist in all_friend_projs for item in sublist]\n",
    "    edited_flat_list = [item for item in flat_list if item is not None]\n",
    "    return edited_flat_list"
   ]
  },
  {
   "cell_type": "code",
   "execution_count": 3,
   "metadata": {},
   "outputs": [],
   "source": [
    "kate_friend_fav_list = ravelry_request_functions.get_friend_favs('katec125')"
   ]
  },
  {
   "cell_type": "code",
   "execution_count": 17,
   "metadata": {},
   "outputs": [
    {
     "data": {
      "text/plain": "<module 'ravelry_request_functions' from '/Users/KateChristensen/Desktop/Ravelry/ravelry_request_functions.py'>"
     },
     "execution_count": 17,
     "metadata": {},
     "output_type": "execute_result"
    }
   ],
   "source": [
    "import importlib\n",
    "importlib.reload(ravelry_request_functions)"
   ]
  },
  {
   "cell_type": "code",
   "execution_count": 4,
   "metadata": {},
   "outputs": [],
   "source": [
    "friend_fav_attr = ravelry_request_functions.pattern_attr(kate_friend_fav_list)"
   ]
  },
  {
   "cell_type": "code",
   "execution_count": 10,
   "metadata": {},
   "outputs": [],
   "source": [
    "edited_friend_favs = ravelry_request_functions.problem_children_large_scale(kate_friend_fav_list)"
   ]
  },
  {
   "cell_type": "code",
   "execution_count": 5,
   "metadata": {},
   "outputs": [
    {
     "data": {
      "text/plain": "4607"
     },
     "execution_count": 5,
     "metadata": {},
     "output_type": "execute_result"
    }
   ],
   "source": [
    "len(friend_fav_attr)"
   ]
  },
  {
   "cell_type": "code",
   "execution_count": 8,
   "metadata": {},
   "outputs": [
    {
     "data": {
      "text/plain": "6191"
     },
     "execution_count": 8,
     "metadata": {},
     "output_type": "execute_result"
    }
   ],
   "source": [
    "len(kate_friend_fav_list)"
   ]
  },
  {
   "cell_type": "code",
   "execution_count": 11,
   "metadata": {},
   "outputs": [
    {
     "data": {
      "text/plain": "6191"
     },
     "execution_count": 11,
     "metadata": {},
     "output_type": "execute_result"
    }
   ],
   "source": [
    "len(edited_friend_favs)"
   ]
  },
  {
   "cell_type": "code",
   "execution_count": 12,
   "metadata": {},
   "outputs": [],
   "source": [
    "kate_favs = ravelry_request_functions.get_favs_list('katec125')"
   ]
  },
  {
   "cell_type": "code",
   "execution_count": 28,
   "metadata": {},
   "outputs": [
    {
     "data": {
      "text/plain": "50"
     },
     "execution_count": 28,
     "metadata": {},
     "output_type": "execute_result"
    }
   ],
   "source": [
    "l_of_l_patterns = [kate_friend_fav_list[i:i + 50] for i in range(0, len(kate_friend_fav_list), 50)]\n",
    "\n",
    "len(l_of_l_patterns[122])\n"
   ]
  },
  {
   "cell_type": "code",
   "execution_count": 10,
   "metadata": {},
   "outputs": [
    {
     "data": {
      "text/plain": "1390"
     },
     "execution_count": 10,
     "metadata": {},
     "output_type": "execute_result"
    }
   ],
   "source": [
    "len(ravelry_request_functions.get_favs_list('lynng1124'))"
   ]
  },
  {
   "cell_type": "code",
   "execution_count": 13,
   "metadata": {},
   "outputs": [
    {
     "data": {
      "text/plain": "500"
     },
     "execution_count": 13,
     "metadata": {},
     "output_type": "execute_result"
    }
   ],
   "source": [
    "test_favs = get_favs_list('lynng1124')\n",
    "len(test_favs)"
   ]
  },
  {
   "cell_type": "code",
   "execution_count": 9,
   "metadata": {},
   "outputs": [
    {
     "data": {
      "text/plain": "  'shelf_image_path': 'http://images4.ravelry.com/uploads/verybusymonkey/134708425/logolarge_shelved.jpg',\n     'shelf_image_size': '153x150',\n     'small_image_url': 'http://images4.ravelry.com/uploads/verybusymonkey/134708425/logolarge_square.jpg',\n     'source_group_id': None,\n     'stickies_count': 0,\n     'store_id': 2292,\n     'updated_at': '2014/05/31 15:40:37 -0400',\n     'url': 'http://www.ravelry.com/stores/stephanie-etting-designs',\n     'work_id': None,\n     'notes': ''}]},\n  'comment': None},\n {'created_at': '2018/04/19 19:31:27 -0400',\n  'id': 240500953,\n  'type': 'pattern',\n  'tag_list': '',\n  'favorited': {'id': 807394,\n   'name': 'Rooted Mitts',\n   'permalink': 'rooted-mitts',\n   'first_photo': {'id': 72816233,\n    'sort_order': 1,\n    'x_offset': -5,\n    'y_offset': -35,\n    'square_url': 'https://images4-f.ravelrycache.com/uploads/verybusymonkey/499552245/Blob_square',\n    'medium_url': 'https://images4-g.ravelrycache.com/uploads/verybusymonkey/499552245/Blob_medium',\n    'thumbnail_url': 'https://images4-f.ravelrycache.com/uploads/verybusymonkey/499552245/Blob_thumbnail',\n    'small_url': 'https://images4-f.ravelrycache.com/uploads/verybusymonkey/499552245/Blob_small',\n    'medium2_url': 'https://images4-g.ravelrycache.com/uploads/verybusymonkey/499552245/Blob_medium2',\n    'small2_url': 'https://images4-f.ravelrycache.com/uploads/verybusymonkey/499552245/Blob_small2',\n    'caption': None,\n    'caption_html': None,\n    'copyright_holder': None},\n   'designer': {'crochet_pattern_count': 0,\n    'favorites_count': 5221,\n    'id': 9202,\n    'knitting_pattern_count': 179,\n    'name': 'verybusymonkey',\n    'patterns_count': 179,\n    'permalink': 'verybusymonkey',\n    'users': [{'id': 24658,\n      'username': 'verybusymonkey',\n      'tiny_photo_url': 'https://avatars-d.ravelrycache.com/verybusymonkey/104280910/avatar_tiny.jpg',\n      'small_photo_url': 'https://avatars-d.ravelrycache.com/verybusymonkey/104280910/avatar_small.jpg',\n      'photo_url': 'https://avatars-d.ravelrycache.com/verybusymonkey/104280910/avatar_large.jpg'}]},\n   'pattern_author': {'crochet_pattern_count': 0,\n    'favorites_count': 5221,\n    'id': 9202,\n    'knitting_pattern_count': 179,\n    'name': 'verybusymonkey',\n    'patterns_count': 179,\n    'permalink': 'verybusymonkey',\n    'users': [{'id': 24658,\n      'username': 'verybusymonkey',\n      'tiny_photo_url': 'https://avatars-d.ravelrycache.com/verybusymonkey/104280910/avatar_tiny.jpg',\n      'small_photo_url': 'https://avatars-d.ravelrycache.com/verybusymonkey/104280910/avatar_small.jpg',\n      'photo_url': 'https://avatars-d.ravelrycache.com/verybusymonkey/104280910/avatar_large.jpg'}]},\n   'pattern_sources': [{'amazon_rating': None,\n     'amazon_reviews': None,\n     'amazon_sales_rank': None,\n     'amazon_updated_at': None,\n     'amazon_url': None,\n     'approved_patterns_count': 2,\n     'asin': '',\n     'author': '',\n     'author_pattern_author_id': None,\n     'author_surname': '',\n     'book_binding': None,\n     'completed': False,\n     'created_at': '2017/11/01 21:07:06 -0400',\n     'designer_pending_patterns_count': 0,\n     'designer_users_count': 0,\n     'editorships_count': 1,\n     'favorites_count': 28,\n     'first_photo_id': 70535426,\n     'flaggings_count': 0,\n     'fulfilled_by_ravelry': False,\n     'has_photo': True,\n     'id': 232916,\n     'isbn_13': None,\n     'issue': None,\n     'keywords': '',\n     'label': None,\n     'large_image_url': None,\n     'last_pattern_edit': '2020/02/01 07:37:12 -0500',\n     'link_id': 344689,\n     'list_price': None,\n     'lock_version': 4,\n     'medium_image_url': None,\n     'name': 'Rooted Accessory Collection',\n     'out_of_print': False,\n     'pattern_source_type_id': 6,\n     'patterns_count': 5,\n     'pending_patterns_count': 3,\n     'periodical': False,\n     'permalink': 'rooted-accessory-collection',\n     'photos_permitted': False,\n     'popularity': 0.0,\n     'popularity_rank': 2147483647,\n     'price': None,\n     'publication_date': None,\n     'publication_date_set': 0,\n     'publication_day_set': 0,\n     'publication_sort_order': None,\n     'publication_year': None,\n     'publisher_id': None,\n     'shelf_image_path': 'http://images4.ravelry.com/uploads/verybusymonkey/480654671/VBMrootedlogo_shelved.jpg',\n     'shelf_image_size': '172x150',\n     'small_image_url': 'http://images4.ravelry.com/uploads/verybusymonkey/480654671/VBMrootedlogo_square.jpg',\n     'source_group_id': None,\n     'stickies_count': 0,\n     'store_id': None,\n     'updated_at': '2020/02/01 07:36:25 -0500',\n     'url': 'http://www.ravelry.com/stores/verybusymonkey-designs-2',\n     'work_id': None,\n     'notes': 'This collection is a little different than my previous ones… This collection will feature five accessory designs all featuring the same stitch pattern: socks, cowl/scarf, hat, shawl, and, only available as part of the collection, a pair of fingerless mitts. All patterns will include both charted and written instructions, as well as instructions for adjusting the sizes. These five patterns will be released between November 2017 and February 2018. You can purchase the collection at any time, and you will automatically receive updates as the patterns are released.'},\n    {'amazon_rating': None,\n     'amazon_reviews': None,\n     'amazon_sales_rank': None,\n     'amazon_updated_at': None,\n     'amazon_url': None,\n     'approved_patterns_count': 145,\n     'asin': '',\n     'author': '',\n     'author_pattern_author_id': None,\n     'author_surname': '',\n     'book_binding': None,\n     'completed': False,\n     'created_at': None,\n     'designer_pending_patterns_count': 0,\n     'designer_users_count': 45,\n     'editorships_count': 1,\n     'favorites_count': 424,\n     'first_photo_id': 27980161,\n     'flaggings_count': 0,\n     'fulfilled_by_ravelry': False,\n     'has_photo': True,\n     'id': 14673,\n     'isbn_13': '',\n     'issue': None,\n     'keywords': 'verybusymonkey',\n     'label': None,\n     'large_image_url': None,\n     'last_pattern_edit': '2020/02/26 19:49:37 -0500',\n     'link_id': 158283,\n     'list_price': None,\n     'lock_version': 16,\n     'medium_image_url': None,\n     'name': 'Verybusymonkey Patterns',\n     'out_of_print': False,\n     'pattern_source_type_id': 7,\n     'patterns_count': 174,\n     'pending_patterns_count': 29,\n     'periodical': False,\n     'permalink': 'verybusymonkey-patterns',\n     'photos_permitted': False,\n     'popularity': 0.0,\n     'popularity_rank': 623,\n     'price': None,\n     'publication_date': None,\n     'publication_date_set': 0,\n     'publication_day_set': 0,\n     'publication_sort_order': None,\n     'publication_year': None,\n     'publisher_id': None,\n     'shelf_image_path': 'http://images4.ravelry.com/uploads/verybusymonkey/134708425/logolarge_shelved.jpg',\n     'shelf_image_size': '153x150',\n     'small_image_url': 'http://images4.ravelry.com/uploads/verybusymonkey/134708425/logolarge_square.jpg',\n     'source_group_id': None,\n     'stickies_count': 0,\n     'store_id': 2292,\n     'updated_at': '2014/05/31 15:40:37 -0400',\n     'url': 'http://www.ravelry.com/stores/stephanie-etting-designs',\n     'work_id': None,\n     'notes': ''}]},\n  'comment': None},\n {'created_at': '2018/04/17 22:32:41 -0400',\n  'id': 240348636,\n  'type': 'pattern',\n  'tag_list': '',\n  'favorited': {'id': 536459,\n   'name': 'Basket Weave Pillow',\n   'permalink': 'basket-weave-pillow-2',\n   'first_photo': {'id': 44475482,\n    'sort_order': 1,\n    'x_offset': -33,\n    'y_offset': -31,\n    'square_url': 'https://images4-g.ravelrycache.com/flickr/1/5/7/15792087506/15792087506_s.jpg',\n    'medium_url': 'https://images4-g.ravelrycache.com/flickr/1/5/7/15792087506/15792087506.jpg',\n    'thumbnail_url': 'https://images4-g.ravelrycache.com/flickr/1/5/7/15792087506/15792087506_t.jpg',\n    'small_url': 'https://images4-g.ravelrycache.com/flickr/1/5/7/15792087506/15792087506_m.jpg',\n    'medium2_url': 'https://images4-g.ravelrycache.com/flickr/1/5/7/15792087506/15792087506.jpg',\n    'small2_url': 'https://images4-g.ravelrycache.com/flickr/1/5/7/15792087506/15792087506_n.jpg',\n    'caption': None,\n    'caption_html': None,\n    'copyright_holder': None},\n   'designer': {'crochet_pattern_count': 3,\n    'favorites_count': 932,\n    'id': 967,\n    'knitting_pattern_count': 105,\n    'name': 'Kathy Lewinski',\n    'patterns_count': 108,\n    'permalink': 'kathy-lewinski',\n    'users': [{'id': 63869,\n      'username': 'katbaro',\n      'tiny_photo_url': 'https://avatars-d.ravelrycache.com/katbaro/407090/2088817511_0f144eecd1_t_tiny.jpg',\n      'small_photo_url': 'https://avatars-d.ravelrycache.com/katbaro/407090/2088817511_0f144eecd1_t_small.jpg',\n      'photo_url': 'https://avatars-d.ravelrycache.com/katbaro/407090/2088817511_0f144eecd1_t_large.jpg'}]},\n   'pattern_author': {'crochet_pattern_count': 3,\n    'favorites_count': 932,\n    'id': 967,\n    'knitting_pattern_count': 105,\n    'name': 'Kathy Lewinski',\n    'patterns_count': 108,\n    'permalink': 'kathy-lewinski',\n    'users': [{'id': 63869,\n      'username': 'katbaro',\n      'tiny_photo_url': 'https://avatars-d.ravelrycache.com/katbaro/407090/2088817511_0f144eecd1_t_tiny.jpg',\n      'small_photo_url': 'https://avatars-d.ravelrycache.com/katbaro/407090/2088817511_0f144eecd1_t_small.jpg',\n      'photo_url': 'https://avatars-d.ravelrycache.com/katbaro/407090/2088817511_0f144eecd1_t_large.jpg'}]},\n   'pattern_sources': [{'amazon_rating': None,\n     'amazon_reviews': None,\n     'amazon_sales_rank': None,\n     'amazon_updated_at': None,\n     'amazon_url': None,\n     'approved_patterns_count': 58,\n     'asin': '',\n     'author': 'Kathy Lewinski',\n     'author_pattern_author_id': 967,\n     'author_surname': 'Lewinski',\n     'book_binding': None,\n     'completed': False,\n     'created_at': '2011/07/19 14:32:57 -0400',\n     'designer_pending_patterns_count': 1,\n     'designer_users_count': 21,\n     'editorships_count': 0,\n     'favorites_count': 77,\n     'first_photo_id': None,\n     'flaggings_count': 0,\n     'fulfilled_by_ravelry': False,\n     'has_photo': False,\n     'id': 91989,\n     'isbn_13': None,\n     'issue': None,\n     'keywords': '',\n     'label': None,\n     'large_image_url': None,\n     'last_pattern_edit': '2019/12/30 17:17:25 -0500',\n     'link_id': 161180,\n     'list_price': None,\n     'lock_version': 4,\n     'medium_image_url': None,\n     'name': 'Just Crafty Enough',\n     'out_of_print': False,\n     'pattern_source_type_id': 3,\n     'patterns_count': 105,\n     'pending_patterns_count': 47,\n     'periodical': False,\n     'permalink': 'just-crafty-enough',\n     'photos_permitted': False,\n     'popularity': 0.0,\n     'popularity_rank': 2147483647,\n     'price': None,\n     'publication_date': None,\n     'publication_date_set': 0,\n     'publication_day_set': 0,\n     'publication_sort_order': None,\n     'publication_year': None,\n     'publisher_id': None,\n     'shelf_image_path': None,\n     'shelf_image_size': None,\n     'small_image_url': None,\n     'source_group_id': None,\n     'stickies_count': 0,\n     'store_id': None,\n     'updated_at': '2018/12/04 14:45:54 -0500',\n     'url': 'http://www.justcraftyenough.com/',\n     'work_id': None,\n     'notes': ''}]},\n  'comment': None},\n {'created_at': '2018/04/17 22:30:26 -0400',\n  'id': 240348476,\n  'type': 'pattern',\n  'tag_list': '',\n  'favorited': {'id': 522775,\n   'name': 'Folk pillow cover',\n   'permalink': 'folk-pillow-cover',\n   'first_photo': {'id': 74979236,\n    'sort_order': 1,\n    'x_offset': -17,\n    'y_offset': 0,\n    'square_url': 'https://images4-g.ravelrycache.com/uploads/ivandeurzen/516988924/E086B124-068D-4A29-9B8C-DF7840610A14_square.jpeg',\n    'medium_url': 'https://images4-g.ravelrycache.com/uploads/ivandeurzen/516988924/E086B124-068D-4A29-9B8C-DF7840610A14_medium.jpeg',\n    'thumbnail_url': 'https://images4-f.ravelrycache.com/uploads/ivandeurzen/516988924/E086B124-068D-4A29-9B8C-DF7840610A14_thumbnail.jpeg',\n    'small_url': 'https://images4-g.ravelrycache.com/uploads/ivandeurzen/516988924/E086B124-068D-4A29-9B8C-DF7840610A14_small_best_fit.jpeg',\n    'medium2_url': 'https://images4-g.ravelrycache.com/uploads/ivandeurzen/516988924/E086B124-068D-4A29-9B8C-DF7840610A14_medium2.jpeg',\n    'small2_url': 'https://images4-g.ravelrycache.com/uploads/ivandeurzen/516988924/E086B124-068D-4A29-9B8C-DF7840610A14_small2.jpeg',\n    'caption': None,\n    'caption_html': None,\n    'copyright_holder': None},\n   'designer': {'crochet_pattern_count': 28,\n    'favorites_count': 106,\n    'id': 62900,\n    'knitting_pattern_count': 11,\n    'name': 'Ioana van Deurzen',\n    'patterns_count': 39,\n    'permalink': 'ioana-van-deurzen',\n    'users': [{'id': 3079968,\n      'username': 'ivandeurzen',\n      'tiny_photo_url': 'https://avatars-d.ravelrycache.com/ivandeurzen/336436000/final-color_tiny.png',\n      'small_photo_url': 'https://avatars-d.ravelrycache.com/ivandeurzen/336436000/final-color_small.png',\n      'photo_url': 'https://avatars-d.ravelrycache.com/ivandeurzen/336436000/final-color_large.png'}]},\n   'pattern_author': {'crochet_pattern_count': 28,\n    'favorites_count': 106,\n    'id': 62900,\n    'knitting_pattern_count': 11,\n    'name': 'Ioana van Deurzen',\n    'patterns_count': 39,\n    'permalink': 'ioana-van-deurzen',\n    'users': [{'id': 3079968,\n      'username': 'ivandeurzen',\n      'tiny_photo_url': 'https://avatars-d.ravelrycache.com/ivandeurzen/336436000/final-color_tiny.png',\n      'small_photo_url': 'https://avatars-d.ravelrycache.com/ivandeurzen/336436000/final-color_small.png',\n      'photo_url': 'https://avatars-d.ravelrycache.com/ivandeurzen/336436000/final-color_large.png'}]},\n   'pattern_sources': [{'amazon_rating': None,\n     'amazon_reviews': None,\n     'amazon_sales_rank': None,\n     'amazon_updated_at': None,\n     'amazon_url': None,\n     'approved_patterns_count': 3,\n     'asin': '',\n     'author': '',\n     'author_pattern_author_id': None,\n     'author_surname': '',\n     'book_binding': None,\n     'completed': False,\n     'created_at': '2014/09/30 15:31:27 -0400',\n     'designer_pending_patterns_count': 0,\n     'designer_users_count': 0,\n     'editorships_count': 0,\n     'favorites_count': 21,\n     'first_photo_id': None,\n     'flaggings_count': 0,\n     'fulfilled_by_ravelry': False,\n     'has_photo': False,\n     'id': 174130,\n     'isbn_13': None,\n     'issue': None,\n     'keywords': 'moeke-yarns.com',\n     'label': None,\n     'large_image_url': None,\n     'last_pattern_edit': '2018/04/15 12:32:56 -0400',\n     'link_id': 284256,\n     'list_price': None,\n     'lock_version': 2,\n     'medium_image_url': None,\n     'name': 'Moeke Yarns',\n     'out_of_print': False,\n     'pattern_source_type_id': 3,\n     'patterns_count': 10,\n     'pending_patterns_count': 7,\n     'periodical': False,\n     'permalink': 'moeke-yarns',\n     'photos_permitted': False,\n     'popularity': 0.0,\n     'popularity_rank': 2147483647,\n     'price': None,\n     'publication_date': None,\n     'publication_date_set': 0,\n     'publication_day_set': 0,\n     'publication_sort_order': None,\n     'publication_year': None,\n     'publisher_id': None,\n     'shelf_image_path': None,\n     'shelf_image_size': None,\n     'small_image_url': None,\n     'source_group_id': None,\n     'stickies_count': 0,\n     'store_id': None,\n     'updated_at': '2014/11/06 17:02:44 -0500',\n     'url': 'http://moeke-yarns.com/',\n     'work_id': None,\n     'notes': ''}]},\n  'comment': None},\n {'created_at': '2018/04/10 21:24:32 -0400',\n  'id': 239726828,\n  'type': 'pattern',\n  'tag_list': '',\n  'favorited': {'id': 466908,\n   'name': 'Waterlily',\n   'permalink': 'waterlily-7',\n   'first_photo': {'id': 37652727,\n    'sort_order': 1,\n    'x_offset': 0,\n    'y_offset': -38,\n    'square_url': 'https://images4-g.ravelrycache.com/uploads/meghanaf/210744782/Waterlily_1_square.jpg',\n    'medium_url': 'https://images4-g.ravelrycache.com/uploads/meghanaf/210744782/Waterlily_1_medium.jpg',\n    'thumbnail_url': 'https://images4-g.ravelrycache.com/uploads/meghanaf/210744782/Waterlily_1_thumbnail.jpg',\n    'small_url': 'https://images4-g.ravelrycache.com/uploads/meghanaf/210744782/Waterlily_1_small_best_fit.jpg',\n    'medium2_url': 'https://images4-g.ravelrycache.com/uploads/meghanaf/210744782/Waterlily_1_medium2.jpg',\n    'small2_url': 'https://images4-g.ravelrycache.com/uploads/meghanaf/210744782/Waterlily_1_small2.jpg',\n    'caption': None,\n    'caption_html': None,\n    'copyright_holder': 'Juju Vail'},\n   'designer': {'crochet_pattern_count': 2,\n    'favorites_count': 506,\n    'id': 20135,\n    'knitting_pattern_count': 22,\n    'name': 'Meghan Fernandes',\n    'patterns_count': 24,\n    'permalink': 'meghan-fernandes',\n    'users': [{'id': 69125,\n      'username': 'meghanaf',\n      'tiny_photo_url': 'https://avatars-d.ravelrycache.com/meghanaf/277501617/IMG_0213_medium2_tiny.JPG',\n      'small_photo_url': 'https://avatars-d.ravelrycache.com/meghanaf/277501617/IMG_0213_medium2_small.JPG',\n      'photo_url': 'https://avatars-d.ravelrycache.com/meghanaf/277501617/IMG_0213_medium2_large.JPG'}]},\n   'pattern_author': {'crochet_pattern_count': 2,\n    'favorites_count': 506,\n    'id': 20135,\n    'knitting_pattern_count': 22,\n    'name': 'Meghan Fernandes',\n    'patterns_count': 24,\n    'permalink': 'meghan-fernandes',\n    'users': [{'id': 69125,\n      'username': 'meghanaf',\n      'tiny_photo_url': 'https://avatars-d.ravelrycache.com/meghanaf/277501617/IMG_0213_medium2_tiny.JPG',\n      'small_photo_url': 'https://avatars-d.ravelrycache.com/meghanaf/277501617/IMG_0213_medium2_small.JPG',\n      'photo_url': 'https://avatars-d.ravelrycache.com/meghanaf/277501617/IMG_0213_medium2_large.JPG'}]},\n   'pattern_sources': [{'amazon_rating': None,\n     'amazon_reviews': None,\n     'amazon_sales_rank': None,\n     'amazon_updated_at': None,\n     'amazon_url': None,\n     'approved_patterns_count': 4,\n     'asin': '',\n     'author': 'Meghan Fernandes + Lydia Gluck',\n     'author_pattern_author_id': None,\n     'author_surname': 'Gluck',\n     'book_binding': None,\n     'completed': False,\n     'created_at': '2014/01/31 08:57:55 -0500',\n     'designer_pending_patterns_count': 0,\n     'designer_users_count': 0,\n     'editorships_count': 0,\n     'favorites_count': 284,\n     'first_photo_id': 37652852,\n     'flaggings_count': 0,\n     'fulfilled_by_ravelry': False,\n     'has_photo': True,\n     'id': 160076,\n     'isbn_13': None,\n     'issue': 'Issue 8: Spring 2014',\n     'keywords': '',\n     'label': None,\n     'large_image_url': None,\n     'last_pattern_edit': '2020/02/14 12:50:41 -0500',\n     'link_id': 208553,\n     'list_price': None,\n     'lock_version': 10,\n     'medium_image_url': None,\n     'name': 'Pom Pom Quarterly, Issue 8: Spring 2014',\n     'out_of_print': False,\n     'pattern_source_type_id': 2,\n     'patterns_count': 8,\n     'pending_patterns_count': 4,\n     'periodical': True,\n     'permalink': 'pom-pom-quarterly-issue-8-spring-2014',\n     'photos_permitted': False,\n     'popularity': 0.0,\n     'popularity_rank': 2147483647,\n     'price': None,\n     'publication_date': '2014/02/01',\n     'publication_date_set': 1,\n     'publication_day_set': 0,\n     'publication_sort_order': 1391212800,\n     'publication_year': 2014,\n     'publisher_id': 1166,\n     'shelf_image_path': 'http://images4.ravelry.com/uploads/meghanaf/210881209/cover_web_shelved.jpg',\n     'shelf_image_size': '108x150',\n     'small_image_url': 'http://images4.ravelry.com/uploads/meghanaf/210881209/cover_web_square.jpg',\n     'source_group_id': 1601,\n     'stickies_count': 0,\n     'store_id': None,\n     'updated_at': '2018/07/02 11:49:00 -0400',\n     'url': 'http://pompommag.com',\n     'work_id': None,\n     'notes': 'Enter our Spring Dream with swoon-worthy knits and delightful illustrations. With an array of sweaters to take you through this most transitional of seasons, plus shawls, wraps and a hat!\\r\\n\\r\\nPrinted in the UK on lovely heavy paper, at a project bag-friendly portable size, it’s the go-to magazine for lovers of independent craft.\\r\\n'}]},\n  'comment': None}]"
     },
     "execution_count": 9,
     "metadata": {},
     "output_type": "execute_result"
    }
   ],
   "source": [
    "fav_list = []\n",
    "favs_url = 'https://api.ravelry.com/people/{}/favorites/list.json'.format(\"katec125\")\n",
    "favs = requests.get(favs_url, auth = (personal_keys.username(),personal_keys.password()),\n",
    "                        params={'page_size':100, 'page':1})\n",
    "\n",
    "favs.json()['favorites']"
   ]
  },
  {
   "cell_type": "code",
   "execution_count": null,
   "metadata": {},
   "outputs": [],
   "source": []
  }
 ]
}