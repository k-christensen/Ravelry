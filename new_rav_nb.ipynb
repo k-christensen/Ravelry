{
 "nbformat": 4,
 "nbformat_minor": 2,
 "metadata": {
  "language_info": {
   "name": "python",
   "codemirror_mode": {
    "name": "ipython",
    "version": 3
   },
   "version": "3.7.3-final"
  },
  "orig_nbformat": 2,
  "file_extension": ".py",
  "mimetype": "text/x-python",
  "name": "python",
  "npconvert_exporter": "python",
  "pygments_lexer": "ipython3",
  "version": 3,
  "kernelspec": {
   "name": "python37364bitbasecondacc7d9abba0074d939f383a6180d18325",
   "display_name": "Python 3.7.3 64-bit ('base': conda)"
  }
 },
 "cells": [
  {
   "cell_type": "code",
   "execution_count": 1,
   "metadata": {},
   "outputs": [],
   "source": [
    "import requests\n",
    "import time\n",
    "import pandas as pd\n",
    "import numpy as np\n",
    "import re\n",
    "import json\n",
    "import pdb\n",
    "from bs4 import BeautifulSoup\n",
    "import personal_keys\n",
    "import ravelry_request_functions"
   ]
  },
  {
   "cell_type": "code",
   "execution_count": 4,
   "metadata": {},
   "outputs": [],
   "source": [
    "def get_favs_list(username):\n",
    "    fav_list = []\n",
    "    favs_url = 'https://api.ravelry.com/people/{}/favorites/list.json'.format(username)\n",
    "#     following request returns json with two keys: favorites and paginator\n",
    "#     for the following request, I've added the params page size, \n",
    "#     which is 100 (maximum size), and page number (first page in the following request)\n",
    "    favs = requests.get(favs_url, auth = (personal_keys.username(),personal_keys.password()),\n",
    "                        params={'page_size':100, 'page':1})\n",
    "#     the following will add a list of all the pattern ids for the favorited patterns and turns them into a list, which is then appended to the fav_list defined at the beginning of the function\n",
    "    for item in range(0,len(favs.json()['favorites']:\n",
    "        if 'pattern_id' in favs.json()['favorites'][item]['favorited'].keys():\n",
    "            fav_list.append([favs.json()['favorites'][item]['favorited']['pattern_id'] \n",
    "                     for item in range(0,len(favs.json()['favorites'])) \n",
    "                     if favs.json()['favorites'][item]['favorited'] is not None])\n",
    "        else:\n",
    "            fav_list.append([favs.json()['favorites'][item]['favorited']['id'] \n",
    "                     for item in range(0,len(favs.json()['favorites'])) \n",
    "                     if favs.json()['favorites'][item]['favorited'] is not None])\n",
    "\n",
    "#     in the event the user has more than 100 favorites, \n",
    "# this loop will essentially go in and make a new request for the next page of likes, \n",
    "# this loop finishes when the page number (which starts at 2 because we've already requested page one above) \n",
    "# equals the last page\n",
    "    if favs.json()['paginator']['page_count']>1:\n",
    "#         page_number is 2 because first page is already in fav_list\n",
    "        page_number = 2\n",
    "#         loop to do successive requests for new pages of favorited pattern ids\n",
    "        while page_number <= favs.json()['paginator']['last_page']:\n",
    "            new_request_favs = requests.get(favs_url, auth = (personal_keys.username(),personal_keys.password()),\n",
    "                        params={'page_size':100, 'page':page_number})\n",
    "#             append the new list of favorites to the old list containing the first 100 favorites\n",
    "            fav_list.append([new_request_favs.json()['favorites'][item]['favorited']['id'] \n",
    "                             for item in range(0,len(new_request_favs.json()['favorites'])) \n",
    "                             if new_request_favs.json()['favorites'][item]['favorited'] is not None])\n",
    "#             add one to the page number so it will request the page following page 2, this will be done for as long as there are more pages to be requested\n",
    "            page_number += 1\n",
    "#     since the fav_list is currently a list of lists, the following function flattens the fav_list into one long list of ids\n",
    "    flat_list = [item for sublist in fav_list for item in sublist]\n",
    "    return flat_list"
   ]
  },
  {
   "cell_type": "code",
   "execution_count": 2,
   "metadata": {},
   "outputs": [],
   "source": [
    "kate_fav_list = ravelry_request_functions.get_favs_list('katec125')\n",
    "edited_kate_fav_list = ravelry_request_functions.problem_children(kate_fav_list)\n",
    "taken_out_favs = [p for p in kate_fav_list if str(p) not in edited_kate_fav_list]\n",
    "\n"
   ]
  },
  {
   "cell_type": "code",
   "execution_count": 3,
   "metadata": {},
   "outputs": [],
   "source": [
    "favs_url = 'https://api.ravelry.com/people/{}/favorites/list.json'.format('katec125')\n",
    "\n",
    "favs = requests.get(favs_url, auth = (personal_keys.username(),personal_keys.password()),params={'page_size':100, 'page':1})\n",
    "\n",
    "bad_favs_list =[favs.json()['favorites'][item]['favorited'] for item in range(0,len(favs.json()['favorites'])) if favs.json()['favorites'][item]['favorited']['id'] in taken_out_favs]"
   ]
  },
  {
   "cell_type": "code",
   "execution_count": 8,
   "metadata": {},
   "outputs": [
    {
     "data": {
      "text/plain": "497647"
     },
     "execution_count": 8,
     "metadata": {},
     "output_type": "execute_result"
    }
   ],
   "source": [
    "bad_favs_list[5]['pattern_id']"
   ]
  },
  {
   "cell_type": "code",
   "execution_count": 13,
   "metadata": {},
   "outputs": [
    {
     "data": {
      "text/plain": "dict_keys(['id', 'name', 'permalink', 'first_photo', 'designer', 'pattern_author', 'pattern_sources'])"
     },
     "execution_count": 13,
     "metadata": {},
     "output_type": "execute_result"
    }
   ],
   "source": [
    "good_favs_list = [favs.json()['favorites'][item]['favorited'] for item in range(0,len(favs.json()['favorites'])) if favs.json()['favorites'][item]['favorited']['id'] not in taken_out_favs]\n",
    "\n",
    "good_favs_list[5].keys()"
   ]
  },
  {
   "cell_type": "code",
   "execution_count": 10,
   "metadata": {},
   "outputs": [
    {
     "data": {
      "text/plain": ".com/uploads/thepluckyknitter/239054377/Dotted_Rays_3_medium2.jpg',\n    'small2_url': 'https://images4-f.ravelrycache.com/uploads/thepluckyknitter/239054377/Dotted_Rays_3_small2.jpg',\n    'caption': None,\n    'caption_html': None,\n    'copyright_holder': 'thepluckyknitter'},\n   {'id': 48104301,\n    'sort_order': 9,\n    'x_offset': 0,\n    'y_offset': 0,\n    'square_url': 'https://images4-g.ravelrycache.com/uploads/putyourflareon/289664144/image_square.jpg',\n    'medium_url': 'https://images4-g.ravelrycache.com/uploads/putyourflareon/289664144/image_medium.jpg',\n    'thumbnail_url': 'https://images4-g.ravelrycache.com/uploads/putyourflareon/289664144/image_thumbnail.jpg',\n    'small_url': 'https://images4-g.ravelrycache.com/uploads/putyourflareon/289664144/image_small_best_fit.jpg',\n    'flickr_url': None,\n    'shelved_url': 'https://images4-f.ravelrycache.com/uploads/putyourflareon/289664144/image_shelved.jpg',\n    'medium2_url': 'https://images4-f.ravelrycache.com/uploads/putyourflareon/289664144/image_medium2.jpg',\n    'small2_url': 'https://images4-g.ravelrycache.com/uploads/putyourflareon/289664144/image_small2.jpg',\n    'caption': None,\n    'caption_html': None,\n    'copyright_holder': 'putyourflareon'},\n   {'id': 77336360,\n    'sort_order': 10,\n    'x_offset': 0,\n    'y_offset': 0,\n    'square_url': 'https://images4-g.ravelrycache.com/uploads/westknits/538217563/20400E7A-1420-48AA-9E3D-6E18269B9E68_square.jpeg',\n    'medium_url': 'https://images4-g.ravelrycache.com/uploads/westknits/538217563/20400E7A-1420-48AA-9E3D-6E18269B9E68_medium.jpeg',\n    'thumbnail_url': 'https://images4-g.ravelrycache.com/uploads/westknits/538217563/20400E7A-1420-48AA-9E3D-6E18269B9E68_thumbnail.jpeg',\n    'small_url': 'https://images4-f.ravelrycache.com/uploads/westknits/538217563/20400E7A-1420-48AA-9E3D-6E18269B9E68_small_best_fit.jpeg',\n    'flickr_url': None,\n    'shelved_url': 'https://images4-g.ravelrycache.com/uploads/westknits/538217563/20400E7A-1420-48AA-9E3D-6E18269B9E68_shelved.jpeg',\n    'medium2_url': 'https://images4-f.ravelrycache.com/uploads/westknits/538217563/20400E7A-1420-48AA-9E3D-6E18269B9E68_medium2.jpeg',\n    'small2_url': 'https://images4-g.ravelrycache.com/uploads/westknits/538217563/20400E7A-1420-48AA-9E3D-6E18269B9E68_small2.jpeg',\n    'caption': None,\n    'caption_html': None,\n    'copyright_holder': None},\n   {'id': 77336359,\n    'sort_order': 11,\n    'x_offset': 0,\n    'y_offset': 0,\n    'square_url': 'https://images4-g.ravelrycache.com/uploads/westknits/538217560/64A036E3-E12B-45B1-AE95-625DEE95E14C_square.jpeg',\n    'medium_url': 'https://images4-g.ravelrycache.com/uploads/westknits/538217560/64A036E3-E12B-45B1-AE95-625DEE95E14C_medium.jpeg',\n    'thumbnail_url': 'https://images4-g.ravelrycache.com/uploads/westknits/538217560/64A036E3-E12B-45B1-AE95-625DEE95E14C_thumbnail.jpeg',\n    'small_url': 'https://images4-f.ravelrycache.com/uploads/westknits/538217560/64A036E3-E12B-45B1-AE95-625DEE95E14C_small_best_fit.jpeg',\n    'flickr_url': None,\n    'shelved_url': 'https://images4-g.ravelrycache.com/uploads/westknits/538217560/64A036E3-E12B-45B1-AE95-625DEE95E14C_shelved.jpeg',\n    'medium2_url': 'https://images4-g.ravelrycache.com/uploads/westknits/538217560/64A036E3-E12B-45B1-AE95-625DEE95E14C_medium2.jpeg',\n    'small2_url': 'https://images4-g.ravelrycache.com/uploads/westknits/538217560/64A036E3-E12B-45B1-AE95-625DEE95E14C_small2.jpeg',\n    'caption': None,\n    'caption_html': None,\n    'copyright_holder': None},\n   {'id': 48103315,\n    'sort_order': 12,\n    'x_offset': 0,\n    'y_offset': 0,\n    'square_url': 'https://images4-f.ravelrycache.com/uploads/lemmi/243516347/yarma_square.jpg',\n    'medium_url': 'https://images4-f.ravelrycache.com/uploads/lemmi/243516347/yarma_medium.jpg',\n    'thumbnail_url': 'https://images4-g.ravelrycache.com/uploads/lemmi/243516347/yarma_thumbnail.jpg',\n    'small_url': 'https://images4-f.ravelrycache.com/uploads/lemmi/243516347/yarma_small_best_fit.jpg',\n    'flickr_url': None,\n    'shelved_url': 'https://images4-g.ravelrycache.com/uploads/lemmi/243516347/yarma_shelved.jpg',\n    'medium2_url': 'https://images4-f.ravelrycache.com/uploads/lemmi/243516347/yarma_medium2.jpg',\n    'small2_url': 'https://images4-f.ravelrycache.com/uploads/lemmi/243516347/yarma_small2.jpg',\n    'caption': None,\n    'caption_html': None,\n    'copyright_holder': 'lemmi'},\n   {'id': 48116557,\n    'sort_order': 13,\n    'x_offset': -44,\n    'y_offset': -1,\n    'square_url': 'https://images4-g.ravelrycache.com/uploads/k10/256070127/Dotted_Rays_2_square.jpg',\n    'medium_url': 'https://images4-g.ravelrycache.com/uploads/k10/256070127/Dotted_Rays_2_medium.jpg',\n    'thumbnail_url': 'https://images4-g.ravelrycache.com/uploads/k10/256070127/Dotted_Rays_2_thumbnail.jpg',\n    'small_url': 'https://images4-g.ravelrycache.com/uploads/k10/256070127/Dotted_Rays_2_small_best_fit.jpg',\n    'flickr_url': None,\n    'shelved_url': 'https://images4-f.ravelrycache.com/uploads/k10/256070127/Dotted_Rays_2_shelved.jpg',\n    'medium2_url': 'https://images4-f.ravelrycache.com/uploads/k10/256070127/Dotted_Rays_2_medium2.jpg',\n    'small2_url': 'https://images4-g.ravelrycache.com/uploads/k10/256070127/Dotted_Rays_2_small2.jpg',\n    'caption': None,\n    'caption_html': None,\n    'copyright_holder': 'k10'},\n   {'id': 48061998,\n    'sort_order': 14,\n    'x_offset': 0,\n    'y_offset': 0,\n    'square_url': 'https://images4-f.ravelrycache.com/uploads/musicomusico/293598986/IMG_9733_square.png',\n    'medium_url': 'https://images4-f.ravelrycache.com/uploads/musicomusico/293598986/IMG_9733_medium.png',\n    'thumbnail_url': 'https://images4-g.ravelrycache.com/uploads/musicomusico/293598986/IMG_9733_thumbnail.png',\n    'small_url': 'https://images4-f.ravelrycache.com/uploads/musicomusico/293598986/IMG_9733_small_best_fit.png',\n    'flickr_url': None,\n    'shelved_url': 'https://images4-g.ravelrycache.com/uploads/musicomusico/293598986/IMG_9733_shelved.png',\n    'medium2_url': 'https://images4-f.ravelrycache.com/uploads/musicomusico/293598986/IMG_9733_medium2.png',\n    'small2_url': 'https://images4-f.ravelrycache.com/uploads/musicomusico/293598986/IMG_9733_small2.png',\n    'caption': None,\n    'caption_html': None,\n    'copyright_holder': 'musicomusico'},\n   {'id': 40818590,\n    'sort_order': 15,\n    'x_offset': -44,\n    'y_offset': 4,\n    'square_url': 'https://images4-g.ravelrycache.com/flickr/1/4/2/14227554837/14227554837_s.jpg',\n    'medium_url': 'https://images4-g.ravelrycache.com/flickr/1/4/2/14227554837/14227554837.jpg',\n    'thumbnail_url': 'https://images4-g.ravelrycache.com/flickr/1/4/2/14227554837/14227554837_t.jpg',\n    'small_url': 'https://images4-g.ravelrycache.com/flickr/1/4/2/14227554837/14227554837_m.jpg',\n    'flickr_url': 'http://www.flickr.com/photos/22523442@N07/14227554837',\n    'shelved_url': None,\n    'medium2_url': 'https://images4-g.ravelrycache.com/flickr/1/4/2/14227554837/14227554837.jpg',\n    'small2_url': 'https://images4-g.ravelrycache.com/flickr/1/4/2/14227554837/14227554837_n.jpg',\n    'caption': None,\n    'caption_html': None,\n    'copyright_holder': None},\n   {'id': 40818591,\n    'sort_order': 16,\n    'x_offset': -1,\n    'y_offset': -16,\n    'square_url': 'https://images4-g.ravelrycache.com/flickr/1/4/4/14412844874/14412844874_s.jpg',\n    'medium_url': 'https://images4-g.ravelrycache.com/flickr/1/4/4/14412844874/14412844874.jpg',\n    'thumbnail_url': 'https://images4-g.ravelrycache.com/flickr/1/4/4/14412844874/14412844874_t.jpg',\n    'small_url': 'https://images4-g.ravelrycache.com/flickr/1/4/4/14412844874/14412844874_m.jpg',\n    'flickr_url': 'http://www.flickr.com/photos/22523442@N07/14412844874',\n    'shelved_url': None,\n    'medium2_url': 'https://images4-g.ravelrycache.com/flickr/1/4/4/14412844874/14412844874.jpg',\n    'small2_url': 'https://images4-g.ravelrycache.com/flickr/1/4/4/14412844874/14412844874_n.jpg',\n    'caption': None,\n    'caption_html': None,\n    'copyright_holder': None},\n   {'id': 40818592,\n    'sort_order': 17,\n    'x_offset': -28,\n    'y_offset': 2,\n    'square_url': 'https://images4-g.ravelrycache.com/flickr/1/4/4/14413990025/14413990025_s.jpg',\n    'medium_url': 'https://images4-g.ravelrycache.com/flickr/1/4/4/14413990025/14413990025.jpg',\n    'thumbnail_url': 'https://images4-g.ravelrycache.com/flickr/1/4/4/14413990025/14413990025_t.jpg',\n    'small_url': 'https://images4-g.ravelrycache.com/flickr/1/4/4/14413990025/14413990025_m.jpg',\n    'flickr_url': 'http://www.flickr.com/photos/22523442@N07/14413990025',\n    'shelved_url': None,\n    'medium2_url': 'https://images4-g.ravelrycache.com/flickr/1/4/4/14413990025/14413990025.jpg',\n    'small2_url': 'https://images4-g.ravelrycache.com/flickr/1/4/4/14413990025/14413990025_n.jpg',\n    'caption': None,\n    'caption_html': None,\n    'copyright_holder': None},\n   {'id': 40818593,\n    'sort_order': 18,\n    'x_offset': 0,\n    'y_offset': -33,\n    'square_url': 'https://images4-g.ravelrycache.com/flickr/1/4/2/14227353699/14227353699_s.jpg',\n    'medium_url': 'https://images4-g.ravelrycache.com/flickr/1/4/2/14227353699/14227353699.jpg',\n    'thumbnail_url': 'https://images4-g.ravelrycache.com/flickr/1/4/2/14227353699/14227353699_t.jpg',\n    'small_url': 'https://images4-g.ravelrycache.com/flickr/1/4/2/14227353699/14227353699_m.jpg',\n    'flickr_url': 'http://www.flickr.com/photos/22523442@N07/14227353699',\n    'shelved_url': None,\n    'medium2_url': 'https://images4-g.ravelrycache.com/flickr/1/4/2/14227353699/14227353699.jpg',\n    'small2_url': 'https://images4-g.ravelrycache.com/flickr/1/4/2/14227353699/14227353699_n.jpg',\n    'caption': None,\n    'caption_html': None,\n    'copyright_holder': None},\n   {'id': 40818594,\n    'sort_order': 19,\n    'x_offset': -21,\n    'y_offset': 0,\n    'square_url': 'https://images4-g.ravelrycache.com/flickr/1/4/4/14413990305/14413990305_s.jpg',\n    'medium_url': 'https://images4-g.ravelrycache.com/flickr/1/4/4/14413990305/14413990305.jpg',\n    'thumbnail_url': 'https://images4-g.ravelrycache.com/flickr/1/4/4/14413990305/14413990305_t.jpg',\n    'small_url': 'https://images4-g.ravelrycache.com/flickr/1/4/4/14413990305/14413990305_m.jpg',\n    'flickr_url': 'http://www.flickr.com/photos/22523442@N07/14413990305',\n    'shelved_url': None,\n    'medium2_url': 'https://images4-g.ravelrycache.com/flickr/1/4/4/14413990305/14413990305.jpg',\n    'small2_url': 'https://images4-g.ravelrycache.com/flickr/1/4/4/14413990305/14413990305_n.jpg',\n    'caption': None,\n    'caption_html': None,\n    'copyright_holder': None},\n   {'id': 40818595,\n    'sort_order': 20,\n    'x_offset': -58,\n    'y_offset': 4,\n    'square_url': 'https://images4-g.ravelrycache.com/flickr/1/4/4/14410635071/14410635071_s.jpg',\n    'medium_url': 'https://images4-g.ravelrycache.com/flickr/1/4/4/14410635071/14410635071.jpg',\n    'thumbnail_url': 'https://images4-g.ravelrycache.com/flickr/1/4/4/14410635071/14410635071_t.jpg',\n    'small_url': 'https://images4-g.ravelrycache.com/flickr/1/4/4/14410635071/14410635071_m.jpg',\n    'flickr_url': 'http://www.flickr.com/photos/22523442@N07/14410635071',\n    'shelved_url': None,\n    'medium2_url': 'https://images4-g.ravelrycache.com/flickr/1/4/4/14410635071/14410635071.jpg',\n    'small2_url': 'https://images4-g.ravelrycache.com/flickr/1/4/4/14410635071/14410635071_n.jpg',\n    'caption': None,\n    'caption_html': None,\n    'copyright_holder': None},\n   {'id': 40818596,\n    'sort_order': 21,\n    'x_offset': -26,\n    'y_offset': 5,\n    'square_url': 'https://images4-g.ravelrycache.com/flickr/1/4/2/14227555087/14227555087_s.jpg',\n    'medium_url': 'https://images4-g.ravelrycache.com/flickr/1/4/2/14227555087/14227555087.jpg',\n    'thumbnail_url': 'https://images4-g.ravelrycache.com/flickr/1/4/2/14227555087/14227555087_t.jpg',\n    'small_url': 'https://images4-g.ravelrycache.com/flickr/1/4/2/14227555087/14227555087_m.jpg',\n    'flickr_url': 'http://www.flickr.com/photos/22523442@N07/14227555087',\n    'shelved_url': None,\n    'medium2_url': 'https://images4-g.ravelrycache.com/flickr/1/4/2/14227555087/14227555087.jpg',\n    'small2_url': 'https://images4-g.ravelrycache.com/flickr/1/4/2/14227555087/14227555087_n.jpg',\n    'caption': None,\n    'caption_html': None,\n    'copyright_holder': None},\n   {'id': 40840968,\n    'sort_order': 22,\n    'x_offset': 0,\n    'y_offset': 10,\n    'square_url': 'https://images4-g.ravelrycache.com/flickr/1/4/2/14234246410/14234246410_s.jpg',\n    'medium_url': 'https://images4-g.ravelrycache.com/flickr/1/4/2/14234246410/14234246410.jpg',\n    'thumbnail_url': 'https://images4-g.ravelrycache.com/flickr/1/4/2/14234246410/14234246410_t.jpg',\n    'small_url': 'https://images4-g.ravelrycache.com/flickr/1/4/2/14234246410/14234246410_m.jpg',\n    'flickr_url': 'http://www.flickr.com/photos/22523442@N07/14234246410',\n    'shelved_url': None,\n    'medium2_url': 'https://images4-g.ravelrycache.com/flickr/1/4/2/14234246410/14234246410.jpg',\n    'small2_url': 'https://images4-g.ravelrycache.com/flickr/1/4/2/14234246410/14234246410_n.jpg',\n    'caption': None,\n    'caption_html': None,\n    'copyright_holder': None},\n   {'id': 40840966,\n    'sort_order': 23,\n    'x_offset': 3,\n    'y_offset': -7,\n    'square_url': 'https://images4-g.ravelrycache.com/flickr/1/4/2/14234245830/14234245830_s.jpg',\n    'medium_url': 'https://images4-g.ravelrycache.com/flickr/1/4/2/14234245830/14234245830.jpg',\n    'thumbnail_url': 'https://images4-g.ravelrycache.com/flickr/1/4/2/14234245830/14234245830_t.jpg',\n    'small_url': 'https://images4-g.ravelrycache.com/flickr/1/4/2/14234245830/14234245830_m.jpg',\n    'flickr_url': 'http://www.flickr.com/photos/22523442@N07/14234245830',\n    'shelved_url': None,\n    'medium2_url': 'https://images4-g.ravelrycache.com/flickr/1/4/2/14234245830/14234245830.jpg',\n    'small2_url': 'https://images4-g.ravelrycache.com/flickr/1/4/2/14234245830/14234245830_n.jpg',\n    'caption': None,\n    'caption_html': None,\n    'copyright_holder': None},\n   {'id': 40818597,\n    'sort_order': 24,\n    'x_offset': 0,\n    'y_offset': -40,\n    'square_url': 'https://images4-g.ravelrycache.com/flickr/1/4/4/14412843524/14412843524_s.jpg',\n    'medium_url': 'https://images4-g.ravelrycache.com/flickr/1/4/4/14412843524/14412843524.jpg',\n    'thumbnail_url': 'https://images4-g.ravelrycache.com/flickr/1/4/4/14412843524/14412843524_t.jpg',\n    'small_url': 'https://images4-g.ravelrycache.com/flickr/1/4/4/14412843524/14412843524_m.jpg',\n    'flickr_url': 'http://www.flickr.com/photos/22523442@N07/14412843524',\n    'shelved_url': None,\n    'medium2_url': 'https://images4-g.ravelrycache.com/flickr/1/4/4/14412843524/14412843524.jpg',\n    'small2_url': 'https://images4-g.ravelrycache.com/flickr/1/4/4/14412843524/14412843524_n.jpg',\n    'caption': None,\n    'caption_html': None,\n    'copyright_holder': None},\n   {'id': 40818598,\n    'sort_order': 25,\n    'x_offset': -74,\n    'y_offset': 3,\n    'square_url': 'https://images4-g.ravelrycache.com/flickr/1/4/2/14227352869/14227352869_s.jpg',\n    'medium_url': 'https://images4-g.ravelrycache.com/flickr/1/4/2/14227352869/14227352869.jpg',\n    'thumbnail_url': 'https://images4-g.ravelrycache.com/flickr/1/4/2/14227352869/14227352869_t.jpg',\n    'small_url': 'https://images4-g.ravelrycache.com/flickr/1/4/2/14227352869/14227352869_m.jpg',\n    'flickr_url': 'http://www.flickr.com/photos/22523442@N07/14227352869',\n    'shelved_url': None,\n    'medium2_url': 'https://images4-g.ravelrycache.com/flickr/1/4/2/14227352869/14227352869.jpg',\n    'small2_url': 'https://images4-g.ravelrycache.com/flickr/1/4/2/14227352869/14227352869_n.jpg',\n    'caption': None,\n    'caption_html': None,\n    'copyright_holder': None},\n   {'id': 40818599,\n    'sort_order': 26,\n    'x_offset': -24,\n    'y_offset': 4,\n    'square_url': 'https://images4-g.ravelrycache.com/flickr/1/4/4/14412842774/14412842774_s.jpg',\n    'medium_url': 'https://images4-g.ravelrycache.com/flickr/1/4/4/14412842774/14412842774.jpg',\n    'thumbnail_url': 'https://images4-g.ravelrycache.com/flickr/1/4/4/14412842774/14412842774_t.jpg',\n    'small_url': 'https://images4-g.ravelrycache.com/flickr/1/4/4/14412842774/14412842774_m.jpg',\n    'flickr_url': 'http://www.flickr.com/photos/22523442@N07/14412842774',\n    'shelved_url': None,\n    'medium2_url': 'https://images4-g.ravelrycache.com/flickr/1/4/4/14412842774/14412842774.jpg',\n    'small2_url': 'https://images4-g.ravelrycache.com/flickr/1/4/4/14412842774/14412842774_n.jpg',\n    'caption': None,\n    'caption_html': None,\n    'copyright_holder': None},\n   {'id': 40818600,\n    'sort_order': 27,\n    'x_offset': -30,\n    'y_offset': 5,\n    'square_url': 'https://images4-g.ravelrycache.com/flickr/1/4/2/14227555217/14227555217_s.jpg',\n    'medium_url': 'https://images4-g.ravelrycache.com/flickr/1/4/2/14227555217/14227555217.jpg',\n    'thumbnail_url': 'https://images4-g.ravelrycache.com/flickr/1/4/2/14227555217/14227555217_t.jpg',\n    'small_url': 'https://images4-g.ravelrycache.com/flickr/1/4/2/14227555217/14227555217_m.jpg',\n    'flickr_url': 'http://www.flickr.com/photos/22523442@N07/14227555217',\n    'shelved_url': None,\n    'medium2_url': 'https://images4-g.ravelrycache.com/flickr/1/4/2/14227555217/14227555217.jpg',\n    'small2_url': 'https://images4-g.ravelrycache.com/flickr/1/4/2/14227555217/14227555217_n.jpg',\n    'caption': None,\n    'caption_html': None,\n    'copyright_holder': None},\n   {'id': 40818601,\n    'sort_order': 28,\n    'x_offset': -12,\n    'y_offset': 2,\n    'square_url': 'https://images4-g.ravelrycache.com/flickr/1/4/4/14412844804/14412844804_s.jpg',\n    'medium_url': 'https://images4-g.ravelrycache.com/flickr/1/4/4/14412844804/14412844804.jpg',\n    'thumbnail_url': 'https://images4-g.ravelrycache.com/flickr/1/4/4/14412844804/14412844804_t.jpg',\n    'small_url': 'https://images4-g.ravelrycache.com/flickr/1/4/4/14412844804/14412844804_m.jpg',\n    'flickr_url': 'http://www.flickr.com/photos/22523442@N07/14412844804',\n    'shelved_url': None,\n    'medium2_url': 'https://images4-g.ravelrycache.com/flickr/1/4/4/14412844804/14412844804.jpg',\n    'small2_url': 'https://images4-g.ravelrycache.com/flickr/1/4/4/14412844804/14412844804_n.jpg',\n    'caption': None,\n    'caption_html': None,\n    'copyright_holder': None},\n   {'id': 40818602,\n    'sort_order': 29,\n    'x_offset': 3,\n    'y_offset': -35,\n    'square_url': 'https://images4-g.ravelrycache.com/flickr/1/4/4/14412845034/14412845034_s.jpg',\n    'medium_url': 'https://images4-g.ravelrycache.com/flickr/1/4/4/14412845034/14412845034.jpg',\n    'thumbnail_url': 'https://images4-g.ravelrycache.com/flickr/1/4/4/14412845034/14412845034_t.jpg',\n    'small_url': 'https://images4-g.ravelrycache.com/flickr/1/4/4/14412845034/14412845034_m.jpg',\n    'flickr_url': 'http://www.flickr.com/photos/22523442@N07/14412845034',\n    'shelved_url': None,\n    'medium2_url': 'https://images4-g.ravelrycache.com/flickr/1/4/4/14412845034/14412845034.jpg',\n    'small2_url': 'https://images4-g.ravelrycache.com/flickr/1/4/4/14412845034/14412845034_n.jpg',\n    'caption': None,\n    'caption_html': None,\n    'copyright_holder': None},\n   {'id': 40840970,\n    'sort_order': 30,\n    'x_offset': -17,\n    'y_offset': 6,\n    'square_url': 'https://images4-g.ravelrycache.com/flickr/1/4/4/14419546542/14419546542_s.jpg',\n    'medium_url': 'https://images4-g.ravelrycache.com/flickr/1/4/4/14419546542/14419546542.jpg',\n    'thumbnail_url': 'https://images4-g.ravelrycache.com/flickr/1/4/4/14419546542/14419546542_t.jpg',\n    'small_url': 'https://images4-g.ravelrycache.com/flickr/1/4/4/14419546542/14419546542_m.jpg',\n    'flickr_url': 'http://www.flickr.com/photos/22523442@N07/14419546542',\n    'shelved_url': None,\n    'medium2_url': 'https://images4-g.ravelrycache.com/flickr/1/4/4/14419546542/14419546542.jpg',\n    'small2_url': 'https://images4-g.ravelrycache.com/flickr/1/4/4/14419546542/14419546542_n.jpg',\n    'caption': None,\n    'caption_html': None,\n    'copyright_holder': None}],\n  'pattern_type': {'clothing': True,\n   'id': 10,\n   'name': 'Shawl/Wrap',\n   'permalink': 'shawl'}}}"
     },
     "execution_count": 10,
     "metadata": {},
     "output_type": "execute_result"
    }
   ],
   "source": [
    "patterns_url = 'https://api.ravelry.com/patterns/497647.json'\n",
    "patterns = requests.get(patterns_url, auth = (personal_keys.username(),personal_keys.password()))\n",
    "patterns.json()"
   ]
  },
  {
   "cell_type": "code",
   "execution_count": null,
   "metadata": {},
   "outputs": [],
   "source": []
  }
 ]
}