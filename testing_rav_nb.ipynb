{
 "nbformat": 4,
 "nbformat_minor": 2,
 "metadata": {
  "language_info": {
   "name": "python",
   "codemirror_mode": {
    "name": "ipython",
    "version": 3
   },
   "version": "3.7.3-final"
  },
  "orig_nbformat": 2,
  "file_extension": ".py",
  "mimetype": "text/x-python",
  "name": "python",
  "npconvert_exporter": "python",
  "pygments_lexer": "ipython3",
  "version": 3,
  "kernelspec": {
   "name": "python37364bitbasecondacc7d9abba0074d939f383a6180d18325",
   "display_name": "Python 3.7.3 64-bit ('base': conda)"
  }
 },
 "cells": [
  {
   "cell_type": "code",
   "execution_count": 1,
   "metadata": {},
   "outputs": [],
   "source": [
    "import requests\n",
    "import time\n",
    "import pandas as pd\n",
    "import numpy as np\n",
    "import re\n",
    "import json\n",
    "import pdb\n",
    "from bs4 import BeautifulSoup\n",
    "import personal_keys\n",
    "import ravelry_request_functions"
   ]
  },
  {
   "cell_type": "code",
   "execution_count": 2,
   "metadata": {},
   "outputs": [],
   "source": [
    "# multiple pattern request-\n",
    "# input: list of patterns, output: json file with patterns\n",
    "def multiple_pattern_request(pattern_list):\n",
    "    patterns_url = 'https://api.ravelry.com/patterns.json?ids={}'.format('+'.join(pattern_list))\n",
    "    patterns = requests.get(patterns_url, \n",
    "                            auth = (personal_keys.username(),personal_keys.password()))\n",
    "    if patterns.status_code is 200:\n",
    "        return patterns.json()\n",
    "    else:\n",
    "        return 404\n",
    "\n",
    "# input: pattern json from the multiple pattern request function\n",
    "def create_attr_list(pattern_list):\n",
    "    attr_list = []\n",
    "    patterns = multiple_pattern_request(pattern_list)\n",
    "    if patterns != 404:\n",
    "        for key in patterns['patterns'].keys():\n",
    "            attr_list.append({attr['permalink']:1 for attr in \n",
    "            patterns['patterns'][key]['pattern_attributes']})\n",
    "    return attr_list\n",
    "\n",
    "# input: list of pattern id's, \n",
    "# output: dictionary where keys are pattern id's and values are a dict of attributes\n",
    "def pattern_attr(pattern_list):\n",
    "    pattern_list = [str(item) for item in pattern_list]\n",
    "    if len(pattern_list) < 50:\n",
    "        attr_list = create_attr_list(pattern_list)\n",
    "    else:\n",
    "#         create nested list that contains lists of either 50 patterns or the remainder of length of list/50\n",
    "        l_of_l_patterns = [pattern_list[i:i + 50] for i in range(0, len(pattern_list), 50)]\n",
    "        batch_num = 0\n",
    "        attr_list = []\n",
    "        while batch_num < len(l_of_l_patterns):\n",
    "            batch_attr_list = create_attr_list(l_of_l_patterns[batch_num])\n",
    "            attr_list.extend(batch_attr_list)\n",
    "            batch_num += 1\n",
    "    return dict(zip(pattern_list, attr_list))"
   ]
  },
  {
   "cell_type": "code",
   "execution_count": 17,
   "metadata": {},
   "outputs": [],
   "source": [
    "test_list = ravelry_request_functions.get_favs_list(\"swiftmiss\")"
   ]
  },
  {
   "cell_type": "code",
   "execution_count": 18,
   "metadata": {},
   "outputs": [
    {
     "data": {
      "text/plain": "498"
     },
     "execution_count": 18,
     "metadata": {},
     "output_type": "execute_result"
    }
   ],
   "source": [
    "len(test_list)"
   ]
  },
  {
   "cell_type": "code",
   "execution_count": 19,
   "metadata": {},
   "outputs": [],
   "source": [
    "test_dict = pattern_attr(test_list)"
   ]
  },
  {
   "cell_type": "code",
   "execution_count": 20,
   "metadata": {},
   "outputs": [
    {
     "data": {
      "text/plain": "0"
     },
     "execution_count": 20,
     "metadata": {},
     "output_type": "execute_result"
    }
   ],
   "source": [
    "len(test_dict.keys())"
   ]
  },
  {
   "cell_type": "code",
   "execution_count": null,
   "metadata": {},
   "outputs": [],
   "source": []
  }
 ]
}